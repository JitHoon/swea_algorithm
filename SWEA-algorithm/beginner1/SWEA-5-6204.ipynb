{
 "cells": [
  {
   "cell_type": "markdown",
   "metadata": {},
   "source": [
    "## 연산자\n",
    "### 인치(inch)를 센티미터(cm)으로 변환하는 프로그램을 작성하십시오.\n",
    "- 6204, 6206, 6207\n",
    "#### `입력 3, 출력 3.00 inch =>  7.62 cm`"
   ]
  },
  {
   "cell_type": "code",
   "execution_count": 9,
   "metadata": {},
   "outputs": [
    {
     "name": "stdout",
     "output_type": "stream",
     "text": [
      "3.00 inch => 7.62 cm\n",
      "3.00 inch => 7.62 cm\n"
     ]
    }
   ],
   "source": [
    "T = int(input())\n",
    "\n",
    "for test_case in range(1):\n",
    "    print(\"{0:.2f} inch => {1} cm\".format(T, T*2.54))\n",
    "    print(\"%.2f inch => %.2f cm\" % (T, T*2.54))\n",
    "\n",
    "# Notion 3. 기초 문법의 이해 # str.format() # .2f"
   ]
  }
 ],
 "metadata": {
  "interpreter": {
   "hash": "b0fa6594d8f4cbf19f97940f81e996739fb7646882a419484c72d19e05852a7e"
  },
  "kernelspec": {
   "display_name": "Python 3.9.13 64-bit",
   "language": "python",
   "name": "python3"
  },
  "language_info": {
   "codemirror_mode": {
    "name": "ipython",
    "version": 3
   },
   "file_extension": ".py",
   "mimetype": "text/x-python",
   "name": "python",
   "nbconvert_exporter": "python",
   "pygments_lexer": "ipython3",
   "version": "3.9.13"
  },
  "orig_nbformat": 4
 },
 "nbformat": 4,
 "nbformat_minor": 2
}
