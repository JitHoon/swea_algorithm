{
 "cells": [
  {
   "cell_type": "markdown",
   "metadata": {},
   "source": [
    "## 흐름과 제어-if\n",
    "### 다음의 결과와 같이 입력된 문자가 대문자일 경우 소문자로, 소문자일 경우 대문자로 변경하고, 알파벳이 아닐 경우엔 그냥 출력하는 코드를 작성하십시오. 출력 시 아스키코드를 함께 출력합니다.\n",
    "#### `입력 c, 출력 c(ASCII: 99) => C(ASCII: 67)`"
   ]
  },
  {
   "cell_type": "code",
   "execution_count": 1,
   "metadata": {},
   "outputs": [
    {
     "name": "stdout",
     "output_type": "stream",
     "text": [
      "c(ASCII: 99) => C(ASCII: 67)\n"
     ]
    }
   ],
   "source": [
    "T = input()\n",
    "\n",
    "if ord('a') <= ord(T) <= ord('z'):\n",
    "\tprint(\"{0}(ASCII: {1}) => {2}(ASCII: {3})\".format(T, ord(T), chr(ord(T)-32), ord(T)-32))\n",
    "elif ord('A') <= ord(T) <= ord('Z'):\n",
    "\tprint(\"{0}(ASCII: {1}) => {2}(ASCII: {3})\".format(T, ord(T), chr(ord(T)+32), ord(T)+32))\n",
    "else:\n",
    "\tprint(\"%s\" % T)"
   ]
  }
 ],
 "metadata": {
  "interpreter": {
   "hash": "b0fa6594d8f4cbf19f97940f81e996739fb7646882a419484c72d19e05852a7e"
  },
  "kernelspec": {
   "display_name": "Python 3.9.13 64-bit",
   "language": "python",
   "name": "python3"
  },
  "language_info": {
   "codemirror_mode": {
    "name": "ipython",
    "version": 3
   },
   "file_extension": ".py",
   "mimetype": "text/x-python",
   "name": "python",
   "nbconvert_exporter": "python",
   "pygments_lexer": "ipython3",
   "version": "3.9.13"
  },
  "orig_nbformat": 4
 },
 "nbformat": 4,
 "nbformat_minor": 2
}
