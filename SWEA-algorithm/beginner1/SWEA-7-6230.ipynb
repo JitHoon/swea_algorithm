{
 "cells": [
  {
   "cell_type": "markdown",
   "metadata": {},
   "source": [
    "## 흐름과 제어-반복\n",
    "### 다음의 결과와 같이 5명의 학생의 점수에 대해 60 이상일 때 합격 메시지를 출력하고,\n",
    "### 60미만일 때 불합격 메시지를 출력하는 프로그램을 만드십시오.\n",
    "#### `출력 1번 학생은 88점으로 합격입니다. 2번 학생은 30점으로 불합격입니다. 3번 학생은 61점으로 합격입니다. 4번 학생은 55점으로 불합격입니다. 5번 학생은 95점으로 합격입니다.`"
   ]
  },
  {
   "cell_type": "code",
   "execution_count": 1,
   "metadata": {},
   "outputs": [
    {
     "name": "stdout",
     "output_type": "stream",
     "text": [
      "1번 학생은 88점으로 합격입니다.\n",
      "2번 학생은 30점으로 불합격입니다.\n",
      "3번 학생은 61점으로 합격입니다.\n",
      "4번 학생은 55점으로 불합격입니다.\n",
      "5번 학생은 95점으로 합격입니다.\n"
     ]
    }
   ],
   "source": [
    "# dictionary변수.items()\n",
    "\n",
    "scores={1: 88, 2: 30, 3: 61, 4: 55, 5: 95}\n",
    "\n",
    "for student, score in scores.items():\n",
    "\tif score >=60:\n",
    "\t\tprint(\"{0}번 학생은 {1}점으로 합격입니다.\".format(student, score))\n",
    "\telse:\n",
    "\t\tprint(\"{0}번 학생은 {1}점으로 불합격입니다.\".format(student, score))\n"
   ]
  }
 ],
 "metadata": {
  "interpreter": {
   "hash": "b0fa6594d8f4cbf19f97940f81e996739fb7646882a419484c72d19e05852a7e"
  },
  "kernelspec": {
   "display_name": "Python 3.9.13 64-bit",
   "language": "python",
   "name": "python3"
  },
  "language_info": {
   "codemirror_mode": {
    "name": "ipython",
    "version": 3
   },
   "file_extension": ".py",
   "mimetype": "text/x-python",
   "name": "python",
   "nbconvert_exporter": "python",
   "pygments_lexer": "ipython3",
   "version": "3.9.13"
  },
  "orig_nbformat": 4
 },
 "nbformat": 4,
 "nbformat_minor": 2
}
