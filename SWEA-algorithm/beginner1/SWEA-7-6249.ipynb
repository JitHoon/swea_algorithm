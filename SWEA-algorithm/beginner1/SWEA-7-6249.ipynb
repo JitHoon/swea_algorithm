{
 "cells": [
  {
   "cell_type": "markdown",
   "metadata": {},
   "source": [
    "## 흐름과 제어-반복\n",
    "### 다음의 결과와 같이 어떤 한 양의 정수를 입력하여 그 숫자에 0~9가 몇 번 사용되었는지 표시하십시오.\n",
    "#### `입력 11 출력 0 1 2 3 4 5 6 7 8 9\\n0 2 0 0 0 0 0 0 0 0`"
   ]
  },
  {
   "cell_type": "code",
   "execution_count": 2,
   "metadata": {},
   "outputs": [
    {
     "name": "stdout",
     "output_type": "stream",
     "text": [
      "0 1 2 3 4 5 6 7 8 9\n",
      "0 2 0 0 0 0 0 0 0 0\n"
     ]
    }
   ],
   "source": [
    "\n",
    "T = list(input())\n",
    "dic={'0':0,'1':0,'2':0,'3':0,'4':0,'5':0,'6':0,'7':0,'8':0,'9':0}\n",
    "\n",
    "for num, count in dic.items():\n",
    "\tfor t in T:\n",
    "\t\tif t==num:\n",
    "\t\t\tdic[num]+=1\n",
    "\n",
    "resultKey=\"\"\n",
    "resultValue=\"\"\n",
    "\n",
    "for num, count in dic.items() :\n",
    "\tresultKey += num + \" \"\n",
    "\tresultValue += str(count) + \" \"\n",
    "\n",
    "resultKey = resultKey[:-1]\n",
    "resultValue = resultValue[:-1]\n",
    "\n",
    "print(resultKey)\n",
    "print(resultValue)\n",
    "\n",
    "\t"
   ]
  }
 ],
 "metadata": {
  "interpreter": {
   "hash": "b0fa6594d8f4cbf19f97940f81e996739fb7646882a419484c72d19e05852a7e"
  },
  "kernelspec": {
   "display_name": "Python 3.9.13 64-bit",
   "language": "python",
   "name": "python3"
  },
  "language_info": {
   "codemirror_mode": {
    "name": "ipython",
    "version": 3
   },
   "file_extension": ".py",
   "mimetype": "text/x-python",
   "name": "python",
   "nbconvert_exporter": "python",
   "pygments_lexer": "ipython3",
   "version": "3.9.13"
  },
  "orig_nbformat": 4
 },
 "nbformat": 4,
 "nbformat_minor": 2
}
