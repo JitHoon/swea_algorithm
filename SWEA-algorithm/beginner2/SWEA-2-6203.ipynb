{
 "cells": [
  {
   "cell_type": "markdown",
   "metadata": {},
   "source": [
    "## 객체지향 1\n",
    "### 다음의 결과와 같이 국어, 영어, 수학 점수를 입력받아 합계를 구하는 객체지향 코드를 작성하십시오. 이 때 학생 클래스의 객체는 객체 생성 시 국어, 영어, 수학 점수를 저장하며, 총점을 구하는 메서드를 제공합니다.\n",
    "\n",
    "#### `입력 89, 90, 100 출력 국어, 영어, 수학의 총점: 279`"
   ]
  },
  {
   "cell_type": "code",
   "execution_count": 5,
   "metadata": {},
   "outputs": [
    {
     "name": "stdout",
     "output_type": "stream",
     "text": [
      "국어, 영어, 수학의 총점: 279\n"
     ]
    },
    {
     "data": {
      "text/plain": [
       "<__main__.Total at 0x11881e970>"
      ]
     },
     "execution_count": 5,
     "metadata": {},
     "output_type": "execute_result"
    }
   ],
   "source": [
    "class Total:\n",
    "    def __init__(self, ko, eng,math):\n",
    "        self.__ko = ko\n",
    "        self.__eng = eng\n",
    "        self.__math = math\n",
    "\n",
    "        print(\"국어, 영어, 수학의 총점: {0}\".format(ko + eng + math))\n",
    "\n",
    "    @staticmethod\n",
    "    def __num__(d):\n",
    "        l = [int(d[i]) for i in range(len(d))]\n",
    "        return l\n",
    "\n",
    "\n",
    "data = input().split(\",\")\n",
    "k = Total.__num__(data)\n",
    "\n",
    "Total(k[0], k[1], k[2])"
   ]
  }
 ],
 "metadata": {
  "interpreter": {
   "hash": "b0fa6594d8f4cbf19f97940f81e996739fb7646882a419484c72d19e05852a7e"
  },
  "kernelspec": {
   "display_name": "Python 3.9.13 64-bit",
   "language": "python",
   "name": "python3"
  },
  "language_info": {
   "codemirror_mode": {
    "name": "ipython",
    "version": 3
   },
   "file_extension": ".py",
   "mimetype": "text/x-python",
   "name": "python",
   "nbconvert_exporter": "python",
   "pygments_lexer": "ipython3",
   "version": "3.9.13"
  },
  "orig_nbformat": 4
 },
 "nbformat": 4,
 "nbformat_minor": 2
}
