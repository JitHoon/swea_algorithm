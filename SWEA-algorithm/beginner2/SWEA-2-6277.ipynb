{
 "cells": [
  {
   "cell_type": "markdown",
   "metadata": {},
   "source": [
    "## 자료구조 -리스트, 튜플 4\n",
    "### 리스트 내포 기능을 활용해 입력된 정수 값 5개의 평균을 출력하는 프로그램을 작성하십시오.\n",
    "\n",
    "#### `입력 10 10 20 30 40 출력 입력된 값 [10, 10, 20, 30, 40]의 평균은 22.0입니다.`"
   ]
  },
  {
   "cell_type": "code",
   "execution_count": 1,
   "metadata": {},
   "outputs": [
    {
     "name": "stdout",
     "output_type": "stream",
     "text": [
      "입력된 값 [10, 10, 20, 30, 40]의 평균은 22.0입니다.\n"
     ]
    }
   ],
   "source": [
    "a=[int(input()) for i in range(5)]\n",
    "print(\"입력된 값 {}의 평균은 {}입니다.\".format(a,sum(a)/5))"
   ]
  }
 ],
 "metadata": {
  "interpreter": {
   "hash": "b0fa6594d8f4cbf19f97940f81e996739fb7646882a419484c72d19e05852a7e"
  },
  "kernelspec": {
   "display_name": "Python 3.9.13 64-bit",
   "language": "python",
   "name": "python3"
  },
  "language_info": {
   "codemirror_mode": {
    "name": "ipython",
    "version": 3
   },
   "file_extension": ".py",
   "mimetype": "text/x-python",
   "name": "python",
   "nbconvert_exporter": "python",
   "pygments_lexer": "ipython3",
   "version": "3.9.13"
  },
  "orig_nbformat": 4
 },
 "nbformat": 4,
 "nbformat_minor": 2
}
