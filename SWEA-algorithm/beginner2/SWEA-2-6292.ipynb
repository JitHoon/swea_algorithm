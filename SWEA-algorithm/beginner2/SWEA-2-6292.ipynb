{
 "cells": [
  {
   "cell_type": "markdown",
   "metadata": {},
   "source": [
    "## 자료구조 -리스트, 튜플 13\n",
    "### 콤마(,)로 구분된 정수 값을 입력받아 리스트와 튜플 객체를 생성하는 코드를 작성하십시오.\n",
    "\n",
    "#### `입력 12, 34, 56, 78 출력 [12, 34, 56, 78]\\n(12, 34, 56, 78)`"
   ]
  },
  {
   "cell_type": "code",
   "execution_count": 1,
   "metadata": {},
   "outputs": [
    {
     "name": "stdout",
     "output_type": "stream",
     "text": [
      "[12, 34, 56, 78]\n",
      "(12, 34, 56, 78)\n"
     ]
    }
   ],
   "source": [
    "t = input()\n",
    "\n",
    "ready = t.split(',')\n",
    "\n",
    "result1 = [int(i) for i in ready]\n",
    "result2 = tuple(result1)\n",
    "print(result1);print(result2)"
   ]
  }
 ],
 "metadata": {
  "interpreter": {
   "hash": "b0fa6594d8f4cbf19f97940f81e996739fb7646882a419484c72d19e05852a7e"
  },
  "kernelspec": {
   "display_name": "Python 3.9.13 64-bit",
   "language": "python",
   "name": "python3"
  },
  "language_info": {
   "codemirror_mode": {
    "name": "ipython",
    "version": 3
   },
   "file_extension": ".py",
   "mimetype": "text/x-python",
   "name": "python",
   "nbconvert_exporter": "python",
   "pygments_lexer": "ipython3",
   "version": "3.9.13"
  },
  "orig_nbformat": 4
 },
 "nbformat": 4,
 "nbformat_minor": 2
}
