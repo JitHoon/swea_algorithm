{
 "cells": [
  {
   "cell_type": "markdown",
   "metadata": {},
   "source": [
    "## [파이썬 S/W 문제해결 기본] 1일차 - 숫자 카드\n",
    "### 0에서 9까지 숫자가 적힌 N장의 카드가 주어진다.\n",
    "### 가장 많은 카드에 적힌 숫자와 카드가 몇 장인지 출력하는 프로그램을 만드시오. 카드 장수가 같을 때는 적힌 숫자가 큰 쪽을 출력한다.\n",
    "\n",
    "### [입력] 첫 줄에 테스트 케이스 개수 T가 주어진다.  ( 1 ≤ T ≤ 50 )\n",
    "### 다음 줄부터 테스트케이스의 첫 줄에 카드 장수 N이 주어진다. ( 5 ≤ N ≤ 100 )\n",
    "### 다음 줄에 N개의 숫자 ai가 여백없이 주어진다. (0으로 시작할 수도 있다.)  ( 0 ≤ ai ≤ 9 ) \n",
    "\n",
    "### [출력]\n",
    "### 각 줄마다 \"#T\" (T는 테스트 케이스 번호)를 출력한 뒤, 가장 많은 카드의 숫자와 장 수를 차례로 출력한다.\n",
    "\n",
    "#### `입력 3, 5, 49679, 5, 08271, 10, 7797946543`\n",
    "\n",
    "#### `출력 #1 9 2\\n#2 8 1\\n#3 7 3`"
   ]
  },
  {
   "cell_type": "code",
   "execution_count": 5,
   "metadata": {},
   "outputs": [
    {
     "name": "stdout",
     "output_type": "stream",
     "text": [
      "#1 9 2\n",
      "#2 8 1\n",
      "#3 7 3\n"
     ]
    }
   ],
   "source": [
    "for A in range(int(input())):\n",
    "    B = int(input())\n",
    "    \n",
    "    # 숫자 오름차순 정렬\n",
    "    sort_list= sorted( input())\n",
    "    \n",
    "    # 각 항목 별 중복 횟수 사전화\n",
    "    result = {sort_list.count(sort_list[b]):sort_list[b] for b in range(B)}\n",
    "    \n",
    "    # 사전 key의 max = 가장 많은 장 수= 가장 많은 카드의 key\n",
    "    max_count = max(result)\n",
    "    max_num = [int(value) for key, value in result.items() if key==max_count]\n",
    "        \n",
    "    print(\"#{0} {1} {2}\".format(A+1, max(max_num), max_count))"
   ]
  }
 ],
 "metadata": {
  "interpreter": {
   "hash": "b0fa6594d8f4cbf19f97940f81e996739fb7646882a419484c72d19e05852a7e"
  },
  "kernelspec": {
   "display_name": "Python 3.9.13 64-bit",
   "language": "python",
   "name": "python3"
  },
  "language_info": {
   "codemirror_mode": {
    "name": "ipython",
    "version": 3
   },
   "file_extension": ".py",
   "mimetype": "text/x-python",
   "name": "python",
   "nbconvert_exporter": "python",
   "pygments_lexer": "ipython3",
   "version": "3.9.13"
  },
  "orig_nbformat": 4
 },
 "nbformat": 4,
 "nbformat_minor": 2
}
