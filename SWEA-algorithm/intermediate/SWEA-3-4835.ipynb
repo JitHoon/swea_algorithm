{
 "cells": [
  {
   "cell_type": "markdown",
   "metadata": {},
   "source": [
    "## [파이썬 S/W 문제해결 기본] 1일차 - 구간합\n",
    "### N개의 정수가 들어있는 배열에서 이웃한 M개의 합을 계산하는 것은 디지털 필터링의 기초연산이다.\n",
    "### M개의 합이 가장 큰 경우와 가장 작은 경우의 차이를 출력하는 프로그램을 작성하시오.\n",
    "\n",
    "### [입력] 첫 줄에 테스트 케이스 개수 T가 주어진다.  ( 1 ≤ T ≤ 50 )\n",
    "### 다음 줄부터 테스트케이스의 첫 줄에 정수의 개수 N과 구간의 개수 M 주어진다. ( 10 ≤ N ≤ 100,  2 ≤ M ＜ N )\n",
    "### 다음 줄에 N개의 정수 ai가 주어진다. ( 1 ≤ a ≤ 10000 )\n",
    "\n",
    "### [출력]\n",
    "### 각 줄마다 \"#T\" (T는 테스트 케이스 번호)를 출력한 뒤, 답을 출력한다.\n",
    "\n",
    "#### `입력 3, 10 3, 1 2 3 4 5 6 7 8 9 10, 10 5, 6262 6004 1801 7660 7919 1280 525 9798 5134 1821, 20 19, 3266 9419 3087 9001 9321 1341 7379 6236 5795 8910 2990 2152 2249 4059 1394 6871 4911 3648 1969 2176\t `\n",
    "\n",
    "#### `출력 #1 21\\n#2 11088\\n#3 1090`"
   ]
  },
  {
   "cell_type": "code",
   "execution_count": 1,
   "metadata": {},
   "outputs": [
    {
     "name": "stdout",
     "output_type": "stream",
     "text": [
      "#1 21\n",
      "#2 11088\n",
      "#3 1090\n"
     ]
    }
   ],
   "source": [
    "for A in range(int(input())):\n",
    "    # N = 정수의 개수, M = 구간의 개수\n",
    "    N, M = map(int, input().split())\n",
    "    C = [int(c) for c in map(int, input().split())]\n",
    "    \n",
    "    # M 간격으로 slice 하여 더해준 값을 data 리스트에 저장\n",
    "    data = [sum(C[c:c+M]) for c in range(0, len(C)-(M-1))]\n",
    "    \n",
    "    print(\"#{0} {1}\".format(A+1, max(data)-min(data)))"
   ]
  }
 ],
 "metadata": {
  "interpreter": {
   "hash": "31f2aee4e71d21fbe5cf8b01ff0e069b9275f58929596ceb00d14d90e3e16cd6"
  },
  "kernelspec": {
   "display_name": "Python 3.9.6 64-bit",
   "language": "python",
   "name": "python3"
  },
  "language_info": {
   "codemirror_mode": {
    "name": "ipython",
    "version": 3
   },
   "file_extension": ".py",
   "mimetype": "text/x-python",
   "name": "python",
   "nbconvert_exporter": "python",
   "pygments_lexer": "ipython3",
   "version": "3.9.6"
  },
  "orig_nbformat": 4
 },
 "nbformat": 4,
 "nbformat_minor": 2
}
