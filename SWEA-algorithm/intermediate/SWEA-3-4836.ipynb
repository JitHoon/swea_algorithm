{
 "cells": [
  {
   "cell_type": "markdown",
   "metadata": {},
   "source": [
    "## [파이썬 S/W 문제해결 기본] 2일차 - 색칠하기\n",
    "### N개의 영역에 대해 왼쪽 위와 오른쪽 아래 모서리 인덱스, 칠할 색상이 주어질 때, 칠이 끝난 후 색이 겹쳐 보라색이 된 칸 수를 구하는 프로그램을 만드시오.\n",
    "### 주어진 정보에서 같은 색인 영역은 겹치지 않는다.\n",
    "\n",
    "### [입력] 첫 줄에 테스트 케이스 개수 T가 주어진다.   ( 1 ≤ T ≤ 50 )\n",
    "### 다음 줄부터 테스트케이스의 첫 줄에 칠할 영역의 개수 N이 주어진다. ( 2 ≤ N ≤ 30 )\n",
    "### 다음 줄에 왼쪽 위 모서리 인덱스 r1, c1, 오른쪽 아래 모서리 r2, c2와 색상 정보 color가 주어진다. ( 0 ≤ r1, c1, r2, c2 ≤ 9 )\n",
    "### color = 1 (빨강), color = 2 (파랑)\n",
    "\n",
    "### [출력]\n",
    "### 각 줄마다 \"#T\" (T는 테스트 케이스 번호)를 출력한 뒤, 답을 출력한다.\n",
    "\n",
    "#### `입력 3, 2, 2 2 4 4 1, 3 3 6 6 2, 3,1 2 3 3 1, 3 6 6 8 1, 2 3 5 6 2, 3, 1 4 8 5 1, 1 8 3 9 1, 3 2 5 8 2`\n",
    "\n",
    "#### `출력 #1 4\\n#2 5\\n#3 7`"
   ]
  },
  {
   "cell_type": "code",
   "execution_count": 1,
   "metadata": {},
   "outputs": [
    {
     "name": "stdout",
     "output_type": "stream",
     "text": [
      "#1 4\n",
      "#2 5\n",
      "#3 7\n"
     ]
    }
   ],
   "source": [
    "for A in range(int(input())):\n",
    "    stage = [[0]*10 for i in range(10)]\n",
    "    color_purple = 0\n",
    "    \n",
    "    # stage에 색칠\n",
    "    for B in range(int(input())):\n",
    "        r1, c1, r2, c2, color = map(int, input().split())\n",
    "        \n",
    "        for row in range(r1, r2+1):\n",
    "            for col in range(c1, c2+1):\n",
    "                if stage[row][col] == 0:\n",
    "                    stage[row][col] = color\n",
    "                else:\n",
    "                    if stage[row][col] != color:\n",
    "                        color_purple += 1\n",
    "    \n",
    "    print(\"#{0} {1}\".format(A+1, color_purple))"
   ]
  }
 ],
 "metadata": {
  "interpreter": {
   "hash": "b0fa6594d8f4cbf19f97940f81e996739fb7646882a419484c72d19e05852a7e"
  },
  "kernelspec": {
   "display_name": "Python 3.9.13 64-bit",
   "language": "python",
   "name": "python3"
  },
  "language_info": {
   "codemirror_mode": {
    "name": "ipython",
    "version": 3
   },
   "file_extension": ".py",
   "mimetype": "text/x-python",
   "name": "python",
   "nbconvert_exporter": "python",
   "pygments_lexer": "ipython3",
   "version": "3.9.13"
  },
  "orig_nbformat": 4
 },
 "nbformat": 4,
 "nbformat_minor": 2
}
