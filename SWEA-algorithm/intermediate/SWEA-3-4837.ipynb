{
 "cells": [
  {
   "cell_type": "markdown",
   "metadata": {},
   "source": [
    "## [파이썬 S/W 문제해결 기본] 2일차 - 부분집합의 합\n",
    "### 1부터 12까지의 숫자를 원소로 가진 집합 A가 있다. 집합 A의 부분 집합 중 N개의 원소를 갖고 있고, 원소의 합이 K인 부분집합의 개수를 출력하는 프로그램을 작성하시오.\n",
    "### 해당하는 부분집합이 없는 경우 0을 출력한다. 모든 부분 집합을 만들어 답을 찾아도 된다.\n",
    "### 예를 들어 N = 3, K = 6 경우, 부분집합은 { 1, 2, 3 } 경우 1가지가 존재한다.\n",
    "\n",
    "### [입력] 첫 줄에 테스트 케이스 개수 T가 주어진다.   ( 1 ≤ T ≤ 50 )\n",
    "### 테스트 케이스 별로 부분집합 원소의 수 N과 부분 집합의 합 K가 여백을 두고 주어진다. ( 1 ≤ N ≤ 12, 1 ≤ K ≤ 100 )\n",
    "\n",
    "### [출력]\n",
    "### 각 줄마다 \"#T\" (T는 테스트 케이스 번호)를 출력한 뒤, 답을 출력한다.\n",
    "\n",
    "#### `입력 3, 3 6, 5 15, 5 10`\n",
    "\n",
    "#### `출력 #1 1\\n#2 1\\n#3 0`"
   ]
  },
  {
   "cell_type": "code",
   "execution_count": 7,
   "metadata": {},
   "outputs": [
    {
     "name": "stdout",
     "output_type": "stream",
     "text": [
      "#1 1\n",
      "#2 1\n",
      "#3 0\n"
     ]
    }
   ],
   "source": [
    "for A in range(int(input())):\n",
    "    N, K = map(int, input().split())\n",
    "\n",
    "    set = [element for element in range(1, 13)]\n",
    "    n = len(set) # 원소의 개수\n",
    "    subset = [] # 부분 집합\n",
    "\n",
    "    result = 0\n",
    "\n",
    "    for i in range(1<<n): # 1<<n : 부분집합의 개수, 1*2^1\n",
    "        # subset 개수만큼 반복\n",
    "        # 모든 비트 자리 표현 가능 n이 4일 때 부분 집합의 개수는 2^4 이고\n",
    "        # 1010 이런식으로 각 자리가 포함되었는지 아닌지 확인 가능\n",
    "        # 비트의 각 자리의 원소가 겹치는지 비트 연산을 통해 0000~1111 모든 경우의 수를 확인할 수 있음)\n",
    "        for j in range(n):\n",
    "            if i&(1<<j): # 둘 다 1인 자리만 살아남아서 if문 통과 (i = 01일 때 j = 01, 11이 01로 통과)\n",
    "                subset.append(set[j])\n",
    "        \n",
    "        if len(subset) == N and sum(subset) == K:\n",
    "            result += 1\n",
    "        \n",
    "        subset = []\n",
    "    \n",
    "    print(\"#{0} {1}\".format(A+1, result))"
   ]
  }
 ],
 "metadata": {
  "interpreter": {
   "hash": "b0fa6594d8f4cbf19f97940f81e996739fb7646882a419484c72d19e05852a7e"
  },
  "kernelspec": {
   "display_name": "Python 3.9.13 64-bit",
   "language": "python",
   "name": "python3"
  },
  "language_info": {
   "codemirror_mode": {
    "name": "ipython",
    "version": 3
   },
   "file_extension": ".py",
   "mimetype": "text/x-python",
   "name": "python",
   "nbconvert_exporter": "python",
   "pygments_lexer": "ipython3",
   "version": "3.9.13"
  },
  "orig_nbformat": 4
 },
 "nbformat": 4,
 "nbformat_minor": 2
}
