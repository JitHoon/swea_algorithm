{
 "cells": [
  {
   "cell_type": "markdown",
   "metadata": {},
   "source": [
    "## [파이썬 S/W 문제해결 기본] 2일차 - 이진탐색\n",
    "### 짝을 이룬 A, B 두 사람에게 교과서에서 각자 찾을 쪽 번호를 알려주면, 이진 탐색만으로 지정된 페이지를 먼저 펼치는 사람이 이기는 게임이다.\n",
    "\n",
    "### [입력] 첫 줄에 테스트 케이스 개수 T가 주어진다.  1<=T<=50\n",
    "### 테스트 케이스 별로 책의 전체 쪽 수 P, A, B가 찾을 쪽 번호 Pa, Pb가 차례로 주어진다. 1<= P, Pa, Pb <=1000\n",
    "\n",
    "### [출력]\n",
    "### 각 줄마다 \"#T\" (T는 테스트 케이스 번호)를 출력한 뒤, A, B, 0 중 하나를 출력한다.\n",
    "\n",
    "#### `입력 3 | 400 300 350 | 1000 299 578 | 1000 222 888`\n",
    "\n",
    "#### `출력 #1 A | #2 0 | #3 A`"
   ]
  },
  {
   "cell_type": "code",
   "execution_count": 1,
   "metadata": {},
   "outputs": [
    {
     "name": "stdout",
     "output_type": "stream",
     "text": [
      "#1 A\n",
      "#2 0\n",
      "#3 A\n"
     ]
    }
   ],
   "source": [
    "# 이진탐색\n",
    "\n",
    "for A in range(int(input())):\n",
    "    P = list(map(int, input().split()))\n",
    "\n",
    "    # 시작 페이지, 마지막 페이지, 중간 페이지, 찾은 횟수, 결과\n",
    "    l, r= 1, P[0]\n",
    "    c = int((l+r)/2)\n",
    "    count=0\n",
    "    result = ''\n",
    "\n",
    "    for i in range(2):\n",
    "        while True:\n",
    "            if P[i+1] > c:\n",
    "                l = c\n",
    "                c = int((l+r)/2)\n",
    "                count += 1\n",
    "            elif P[i+1] < c:\n",
    "                r = c\n",
    "                c = int((l+r)/2)\n",
    "                count += 1\n",
    "            elif P[i+1] == c:\n",
    "                l, r= 1, P[0]\n",
    "                c = int((l+r)/2)\n",
    "                break\n",
    "        P[i+1] = count\n",
    "        count = 0\n",
    "\n",
    "    if P[1] < P [2]:\n",
    "        result = 'A'\n",
    "    elif P[1] > P [2]:\n",
    "        result = 'B'\n",
    "    if P[1] == P [2]:\n",
    "        result = '0'\n",
    "    \n",
    "    print(\"#{0} {1}\".format(A+1, result))"
   ]
  }
 ],
 "metadata": {
  "interpreter": {
   "hash": "b0fa6594d8f4cbf19f97940f81e996739fb7646882a419484c72d19e05852a7e"
  },
  "kernelspec": {
   "display_name": "Python 3.9.13 64-bit",
   "language": "python",
   "name": "python3"
  },
  "language_info": {
   "codemirror_mode": {
    "name": "ipython",
    "version": 3
   },
   "file_extension": ".py",
   "mimetype": "text/x-python",
   "name": "python",
   "nbconvert_exporter": "python",
   "pygments_lexer": "ipython3",
   "version": "3.9.13"
  },
  "orig_nbformat": 4
 },
 "nbformat": 4,
 "nbformat_minor": 2
}
