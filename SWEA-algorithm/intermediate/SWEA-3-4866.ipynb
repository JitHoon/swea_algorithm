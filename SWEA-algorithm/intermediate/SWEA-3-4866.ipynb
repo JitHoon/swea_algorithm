{
 "cells": [
  {
   "cell_type": "markdown",
   "metadata": {},
   "source": [
    "## [파이썬 S/W 문제해결 기본] 4일차 - 괄호검사\n",
    "### 주어진 입력에서 괄호 {}, ()가 제대로 짝을 이뤘는지 검사하는 프로그램을 만드시오.\n",
    "\n",
    "### [입력] 첫 줄에 테스트 케이스 개수 T가 주어진다.  1≤T≤50\n",
    "### 다음 줄부터 테스트 케이스 별로 온전한 형태이거나 괄호만 남긴 한 줄의 코드가 주어진다.\n",
    "\n",
    "### [출력]\n",
    "### 각 줄마다 \"#T\" (T는 테스트 케이스 번호)를 출력한 뒤, 답을 출력한다.\n",
    "\n",
    "#### `입력 3 | print('{} {}'.format(1, 2)) | N, M = map(int, input().split()) | print('#{} {}'.format(tc, find())`\n",
    "\n",
    "#### `출력 #1 1 | #2 1 | #3 0`"
   ]
  },
  {
   "cell_type": "code",
   "execution_count": 1,
   "metadata": {},
   "outputs": [
    {
     "name": "stdout",
     "output_type": "stream",
     "text": [
      "#1 1\n",
      "#2 1\n",
      "#3 0\n"
     ]
    }
   ],
   "source": [
    "for A in range(0, int(input())):\n",
    "    data = list(input())\n",
    "    stack =[]\n",
    "    result = 1\n",
    "\n",
    "    for d in range(len(data)):\n",
    "        if data[d] == '{' or data[d] == '(':\n",
    "            stack.append(data[d])\n",
    "        elif data[d] == '}' or data[d] == ')':\n",
    "            if not stack:\n",
    "                stack.append('result 0')\n",
    "                break\n",
    "            elif data[d] == '}' and stack[-1] == '{':\n",
    "                stack.pop()            \n",
    "            elif data[d] == ')' and stack[-1] == '(':\n",
    "                stack.pop()\n",
    "            else:\n",
    "                break # data[d] == '}' 인데 stack[-1] == '('인 반례\n",
    "    if  stack:\n",
    "        result = 0\n",
    "        \n",
    "    print(\"#{0} {1}\".format(A+1, result))"
   ]
  }
 ],
 "metadata": {
  "interpreter": {
   "hash": "31f2aee4e71d21fbe5cf8b01ff0e069b9275f58929596ceb00d14d90e3e16cd6"
  },
  "kernelspec": {
   "display_name": "Python 3.9.6 64-bit",
   "language": "python",
   "name": "python3"
  },
  "language_info": {
   "codemirror_mode": {
    "name": "ipython",
    "version": 3
   },
   "file_extension": ".py",
   "mimetype": "text/x-python",
   "name": "python",
   "nbconvert_exporter": "python",
   "pygments_lexer": "ipython3",
   "version": "3.9.6"
  },
  "orig_nbformat": 4
 },
 "nbformat": 4,
 "nbformat_minor": 2
}
