{
 "cells": [
  {
   "cell_type": "markdown",
   "metadata": {},
   "source": [
    "## [파이썬 S/W 문제해결 기본] 4일차 - 종이 붙이기\n",
    "### 어린이 알고리즘 교실의 선생님은 경우의 수 놀이를 위해, 그림처럼 가로x세로 길이가 10x20, 20x20인 직사각형 종이를 잔뜩 준비했다. 10의 배수인 N이 주어졌을 때, 종이를 붙이는 모든 경우를 찾으려면 테이프로 만든 표시한 영역을 몇 개나 만들어야 되는지 계산하는 프로그램을 만드시오. \n",
    "\n",
    "### [입력] 첫 줄에 테스트 케이스 개수 T가 주어진다.  1<=T<=50\n",
    "### 다음 줄부터 테스트 케이스 별로 N이 주어진다. 10≤N≤300, N은 10의 배수\n",
    "\n",
    "### [출력]\n",
    "### 각 줄마다 \"#T\" (T는 테스트 케이스 번호)를 출력한 뒤, 답을 출력한다.\n",
    "\n",
    "#### `입력 3 | 30 | 50 | 70`\n",
    "\n",
    "#### `출력 #1 5 | #2 21 | #3 85`"
   ]
  },
  {
   "cell_type": "code",
   "execution_count": 9,
   "metadata": {},
   "outputs": [
    {
     "name": "stdout",
     "output_type": "stream",
     "text": [
      "#1 5\n",
      "#2 21\n",
      "#3 85\n"
     ]
    }
   ],
   "source": [
    "for A in range(int(input())):\n",
    "    N = int(input())\n",
    "    \n",
    "    # Dynamic Programming 문제\n",
    "    # N = 10, 20 일 때의 공간을 채우는 경우의 수만 알면 N이 커져도 문제의 답을 알 수 있다.\n",
    "    \n",
    "    # N = 10, 20 일 때(부분 문제) 종이를 채워 넣을 수 있는 경우의 수\n",
    "    count_dp = [1, 3]\n",
    "    \n",
    "    for i in range(2, (N//10)):\n",
    "        count_dp.append(count_dp[i-1] + count_dp[i-2] * 2)\n",
    "    \n",
    "    print(\"#{0} {1}\".format(A+1, count_dp[-1]))\n"
   ]
  }
 ],
 "metadata": {
  "interpreter": {
   "hash": "b0fa6594d8f4cbf19f97940f81e996739fb7646882a419484c72d19e05852a7e"
  },
  "kernelspec": {
   "display_name": "Python 3.9.13 64-bit",
   "language": "python",
   "name": "python3"
  },
  "language_info": {
   "codemirror_mode": {
    "name": "ipython",
    "version": 3
   },
   "file_extension": ".py",
   "mimetype": "text/x-python",
   "name": "python",
   "nbconvert_exporter": "python",
   "pygments_lexer": "ipython3",
   "version": "3.9.13"
  },
  "orig_nbformat": 4
 },
 "nbformat": 4,
 "nbformat_minor": 2
}
