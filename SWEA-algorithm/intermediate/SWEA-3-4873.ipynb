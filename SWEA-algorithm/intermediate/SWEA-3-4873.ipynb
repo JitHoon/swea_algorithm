{
 "cells": [
  {
   "cell_type": "markdown",
   "metadata": {},
   "source": [
    "## [파이썬 S/W 문제해결 기본] 4일차 - 반복문자 지우기\n",
    "### 문자열 s에서 반복된 문자를 지우려고 한다. 지워진 부분은 다시 앞뒤를 연결하는데, 만약 연결에 의해 또 반복문자가 생기면 이부분을 다시 지운다. 반복문자를 지운 후 남은 문자열의 길이를 출력 하시오. 남은 문자열이 없으면 0을 출력한다.\n",
    "\n",
    "### [입력] 첫 줄에 테스트 케이스 개수 T가 주어진다.  1≤T≤ 50\n",
    "### 다음 줄부터 테스트 케이스의 별로 길이가 1000이내인 문자열이 주어진다.\n",
    "\n",
    "### [출력]\n",
    "### #과 1번부터인 테스트케이스 번호, 빈칸에 이어 답을 출력한다.\n",
    "\n",
    "#### `입력 3 | ABCCB | NNNASBBSNV | UKJWHGGHNFTCRRCTWLALX`\n",
    "\n",
    "#### `출력 #1 1 | #2 4 | #3 11`"
   ]
  },
  {
   "cell_type": "code",
   "execution_count": 1,
   "metadata": {},
   "outputs": [
    {
     "name": "stdout",
     "output_type": "stream",
     "text": [
      "#1 1\n",
      "#2 4\n",
      "#3 11\n"
     ]
    }
   ],
   "source": [
    "for A in range(int(input())):\n",
    "    data = list(input())\n",
    "    stack = [data[0]]\n",
    "    \n",
    "    for d in range(len(data)-1): # list 범위를 벗어나지 않게 -1\n",
    "        if stack == []:\n",
    "            stack.append(data[d+1])\n",
    "        else:\n",
    "            # stack의 가장 마지막 문자와 다음 문자를 비교\n",
    "            if stack[-1] != data[d+1]:\n",
    "                stack.append(data[d+1])\n",
    "            else:\n",
    "                stack.pop() \n",
    "                # 문자가 같으면 stack의 가장 마지막 문제 pop\n",
    "                # (data[d+1]을 굳이 append 하지 않아도 된다.)\n",
    "    \n",
    "    print(\"#{0} {1}\".format(A+1, len(stack)))"
   ]
  }
 ],
 "metadata": {
  "interpreter": {
   "hash": "b0fa6594d8f4cbf19f97940f81e996739fb7646882a419484c72d19e05852a7e"
  },
  "kernelspec": {
   "display_name": "Python 3.9.13 64-bit",
   "language": "python",
   "name": "python3"
  },
  "language_info": {
   "codemirror_mode": {
    "name": "ipython",
    "version": 3
   },
   "file_extension": ".py",
   "mimetype": "text/x-python",
   "name": "python",
   "nbconvert_exporter": "python",
   "pygments_lexer": "ipython3",
   "version": "3.9.13"
  },
  "orig_nbformat": 4
 },
 "nbformat": 4,
 "nbformat_minor": 2
}
