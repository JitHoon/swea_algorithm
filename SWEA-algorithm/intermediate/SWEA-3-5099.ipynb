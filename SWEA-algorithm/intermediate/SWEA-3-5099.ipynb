{
 "cells": [
  {
   "cell_type": "markdown",
   "metadata": {},
   "source": [
    "## [파이썬 S/W 문제해결 기본] 6일차 - 피자 굽기\n",
    "### N개의 피자를 동시에 구울 수 있는 화덕이 있다. 피자는 치즈가 모두 녹으면 화덕에서 꺼내며, 치즈의 양은 피자마다 다르다.\n",
    "\n",
    "### 1번부터 M번까지 M개의 피자를 순서대로 화덕에 넣을 때, 치즈의 양에 따라 녹는 시간이 다르기 때문에 꺼내지는 순서는 바뀔 수 있다.\n",
    "\n",
    "### 주어진 조건에 따라 피자를 구울 때, 화덕에 가장 마지막까지 남아있는 피자 번호를 알아내는 프로그램을 작성하시오.\n",
    "\n",
    "### [입력] 첫 줄에 테스트 케이스 개수 T가 주어진다.  1<=T<=50\n",
    "### 다음 줄부터 테스트 케이스의 첫 줄에 화덕의 크기 N과 피자 개수 M이 주어지고, 다음 줄에 M개의 피자에 뿌려진 치즈의 양을 나타내는 Ci가 주어진다.\n",
    "### 3<=N<=20, N<=M<=100, 1<=Ci<=20\n",
    "\n",
    "### [출력]\n",
    "### 각 줄마다 \"#T\" (T는 테스트 케이스 번호)를 출력한 뒤, 번호를 출력한다.\n",
    "\n",
    "#### `입력 | 3 | 3 5 | 7 2 6 5 3`\n",
    "\n",
    "#### `출력 #1 4 | #2 8 | #3 6`"
   ]
  },
  {
   "cell_type": "code",
   "execution_count": 1,
   "metadata": {},
   "outputs": [
    {
     "name": "stdout",
     "output_type": "stream",
     "text": [
      "deq 초기화: deque([0, 1, 2])\n",
      "치즈 확인 [3, 2, 6, 5, 3]\n",
      "deq.append(deq.popleft()) :  deque([1, 2, 0])\n",
      "치즈 확인 [3, 1, 6, 5, 3]\n",
      "deq.append(deq.popleft()) :  deque([2, 0, 1])\n",
      "치즈 확인 [3, 1, 3, 5, 3]\n",
      "deq.append(deq.popleft()) :  deque([0, 1, 2])\n",
      "치즈 확인 [1, 1, 3, 5, 3]\n",
      "deq.append(deq.popleft()) :  deque([1, 2, 0])\n",
      "치즈 확인 [1, 0, 3, 5, 3]\n",
      "deq.popleft() :  deque([2, 0])\n",
      "deq.append(l) :  deque([2, 0, 3])\n",
      "치즈 확인 [1, 0, 1, 5, 3]\n",
      "deq.append(deq.popleft()) :  deque([0, 3, 2])\n",
      "치즈 확인 [0, 0, 1, 5, 3]\n",
      "deq.popleft() :  deque([3, 2])\n",
      "deq.append(l) :  deque([3, 2, 4])\n",
      "치즈 확인 [0, 0, 1, 2, 3]\n",
      "deq.append(deq.popleft()) :  deque([2, 4, 3])\n",
      "치즈 확인 [0, 0, 0, 2, 3]\n",
      "deq.popleft() :  deque([4, 3])\n",
      "치즈 확인 [0, 0, 0, 2, 1]\n",
      "deq.append(deq.popleft()) :  deque([3, 4])\n",
      "치즈 확인 [0, 0, 0, 1, 1]\n",
      "deq.append(deq.popleft()) :  deque([4, 3])\n",
      "치즈 확인 [0, 0, 0, 1, 0]\n",
      "deq.popleft() :  deque([3])\n",
      "#1 4\n"
     ]
    }
   ],
   "source": [
    "# 원형 Queue \n",
    "# deque: 리스트 양끝을 pop, append 할 수 있는 자료구조\n",
    "\n",
    "from collections import deque\n",
    "\n",
    "for i in range(1, int(input())+1):\n",
    "    n, m = map(int, input().split())\n",
    "    cheeze = list(map(int, input().split()))\n",
    "\n",
    "    deq = deque([0]*n)\n",
    "\n",
    "    for j in range(n):\n",
    "        deq[j] = j\n",
    "    \n",
    "    print(\"deq 초기화:\", deq)\n",
    "\n",
    "    l = n\n",
    "\n",
    "    while(1):\n",
    "        while(1):\n",
    "            cheeze[deq[0]] //=2\n",
    "\n",
    "            print(\"치즈 확인\", cheeze)\n",
    "\n",
    "            if (cheeze[deq[0]]==0):\n",
    "                deq.popleft()\n",
    "                print(\"deq.popleft() : \", deq)\n",
    "                break\n",
    "            deq.append(deq.popleft())\n",
    "            \n",
    "            print(\"deq.append(deq.popleft()) : \", deq)\n",
    "\n",
    "        if(l<m):\n",
    "            deq.append(l)\n",
    "            l+=1\n",
    "\n",
    "            print(\"deq.append(l) : \", deq)\n",
    "\n",
    "        else:\n",
    "            if(len(deq)==1):\n",
    "                print(f\"#{i} {deq.popleft()+1}\")\n",
    "                break\n",
    "\n"
   ]
  }
 ],
 "metadata": {
  "interpreter": {
   "hash": "b0fa6594d8f4cbf19f97940f81e996739fb7646882a419484c72d19e05852a7e"
  },
  "kernelspec": {
   "display_name": "Python 3.9.13 64-bit",
   "language": "python",
   "name": "python3"
  },
  "language_info": {
   "codemirror_mode": {
    "name": "ipython",
    "version": 3
   },
   "file_extension": ".py",
   "mimetype": "text/x-python",
   "name": "python",
   "nbconvert_exporter": "python",
   "pygments_lexer": "ipython3",
   "version": "3.9.13"
  },
  "orig_nbformat": 4
 },
 "nbformat": 4,
 "nbformat_minor": 2
}
