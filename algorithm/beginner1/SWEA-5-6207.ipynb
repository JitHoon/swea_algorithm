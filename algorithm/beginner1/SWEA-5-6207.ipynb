{
 "cells": [
  {
   "cell_type": "markdown",
   "metadata": {},
   "source": [
    "## 연산자\n",
    "### 섭씨(℃)를 화씨(℉)로 변환하는 프로그램을 작성하십시오.\n",
    "### 이 때 물의 빙점은 화씨 32도이고 비등점은 화씨 212도(표준 기압에서)입니다.\n",
    "### 물의 비등점과 빙점 사이에 정확하게 180도 차이가 납니다.\n",
    "### 그러므로 화씨 눈금에서의 간격은 물의 빙점과 비등점 사이의 간격의 1/180입니다.\n",
    "- 6204, 6206, 6207\n",
    "#### `입력 28, 출력 28.00 ℃ =>  82.40 ℉`"
   ]
  },
  {
   "cell_type": "code",
   "execution_count": 2,
   "metadata": {},
   "outputs": [
    {
     "name": "stdout",
     "output_type": "stream",
     "text": [
      "28.00 ℃ =>  82.40 ℉\n"
     ]
    }
   ],
   "source": [
    "T = int(input())\n",
    "\n",
    "for test_case in range(1):\n",
    "    print(\"{0:.2f} ℃ =>  {1:.2f} ℉\".format(T, 32+T*(180/100)))\n",
    "    # 화씨 -> 섭씨\n",
    "    # print(\"{0:.2f} ℉ =>  {1:.2f} ℃\".format(T, (T-32)*(100/180)))"
   ]
  },
  {
   "cell_type": "code",
   "execution_count": 3,
   "metadata": {},
   "outputs": [
    {
     "name": "stdout",
     "output_type": "stream",
     "text": [
      "혼합된 소금물의 농도: 6.67%\n"
     ]
    }
   ],
   "source": [
    "T = int(input())\n",
    "\n",
    "for test_case in range(1):\n",
    "    print(\"혼합된 소금물의 농도: {0:.2f}%\".format(20/3))"
   ]
  }
 ],
 "metadata": {
  "interpreter": {
   "hash": "b0fa6594d8f4cbf19f97940f81e996739fb7646882a419484c72d19e05852a7e"
  },
  "kernelspec": {
   "display_name": "Python 3.9.13 64-bit",
   "language": "python",
   "name": "python3"
  },
  "language_info": {
   "codemirror_mode": {
    "name": "ipython",
    "version": 3
   },
   "file_extension": ".py",
   "mimetype": "text/x-python",
   "name": "python",
   "nbconvert_exporter": "python",
   "pygments_lexer": "ipython3",
   "version": "3.9.13"
  },
  "orig_nbformat": 4
 },
 "nbformat": 4,
 "nbformat_minor": 2
}
