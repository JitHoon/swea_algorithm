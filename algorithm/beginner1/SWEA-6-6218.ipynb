{
 "cells": [
  {
   "cell_type": "markdown",
   "metadata": {},
   "source": [
    "## 흐름과 제어-if\n",
    "### 다음의 결과와 같이 임의의 양의 정수를 입력받아 그 정수의 모든 약수를 구하십시오\n",
    "#### `입력 9, 출력 1(은)는 9의 약수입니다. 3(은)는 9의 약수입니다. 9(은)는 9의 약수입니다.`"
   ]
  },
  {
   "cell_type": "code",
   "execution_count": 5,
   "metadata": {},
   "outputs": [
    {
     "name": "stderr",
     "output_type": "stream",
     "text": [
      "<>:4: SyntaxWarning: \"is\" with a literal. Did you mean \"==\"?\n",
      "<>:4: SyntaxWarning: \"is\" with a literal. Did you mean \"==\"?\n"
     ]
    },
    {
     "name": "stdout",
     "output_type": "stream",
     "text": [
      "1(은)는 9의 약수입니다.\n",
      "3(은)는 9의 약수입니다.\n",
      "9(은)는 9의 약수입니다.\n"
     ]
    },
    {
     "name": "stderr",
     "output_type": "stream",
     "text": [
      "/var/folders/9v/xwnktjbj55x222vx8_yhs6pr0000gn/T/ipykernel_12256/744766872.py:4: SyntaxWarning: \"is\" with a literal. Did you mean \"==\"?\n",
      "  if (T % test_case) is 0:\n"
     ]
    }
   ],
   "source": [
    "T = int(input())\n",
    "\n",
    "for test_case in range(1, T+1):\n",
    "    if (T % test_case) is 0:\n",
    "        print(\"{0}(은)는 {1}의 약수입니다.\".format(test_case,T))"
   ]
  },
  {
   "cell_type": "code",
   "execution_count": 2,
   "metadata": {},
   "outputs": [
    {
     "name": "stdout",
     "output_type": "stream",
     "text": [
      "1(은)는 9의 약수입니다.\n",
      "3(은)는 9의 약수입니다.\n",
      "9(은)는 9의 약수입니다.\n"
     ]
    }
   ],
   "source": [
    "T = int(input())\n",
    "\n",
    "for test_case in range(1, T+1):\n",
    "    if (T % test_case) == 0:\n",
    "        print(\"{0}(은)는 {1}의 약수입니다.\".format(test_case,T))"
   ]
  },
  {
   "cell_type": "markdown",
   "metadata": {},
   "source": [
    "### is vs. ==\n",
    "\n",
    "#### == : `값이 동일`한지 확인\n",
    "#### is : `값과 참조가 동일`한지 확인"
   ]
  },
  {
   "cell_type": "code",
   "execution_count": 10,
   "metadata": {},
   "outputs": [
    {
     "name": "stdout",
     "output_type": "stream",
     "text": [
      "값도 같고, 참조도 같은 경우\n",
      "c 값, 주소 : ['지', '훈'], 0x1093ae540\n",
      "d 값, 주소 : ['지', '훈'], 0x1093ae540\n",
      "c == d 가 True 입니다\n",
      "c is d 가 True 입니다\n"
     ]
    }
   ],
   "source": [
    "# 값도 같고 참조도 같은 경우\n",
    "print(\"값도 같고, 참조도 같은 경우\")\n",
    "\n",
    "c = ['지', '훈']\n",
    "d = c\n",
    "\n",
    "print(f'c 값, 주소 : {c}, {hex(id(c))}')\n",
    "print(f'd 값, 주소 : {d}, {hex(id(d))}')\n",
    "\n",
    "if c == d:\n",
    "    print('c == d 가 True 입니다')\n",
    "else:\n",
    "    print('c == d 가 False 입니다.')\n",
    "\n",
    "if c is d:\n",
    "    print('c is d 가 True 입니다')\n",
    "else:\n",
    "    print('c is d 가 False 입니다.')"
   ]
  },
  {
   "cell_type": "code",
   "execution_count": 11,
   "metadata": {},
   "outputs": [
    {
     "name": "stdout",
     "output_type": "stream",
     "text": [
      "값이 같고, 참조가 다른 경우\n",
      "e 값, 주소 : [1, 2, 3], 0x10933c240\n",
      "f 값, 주소 : [1, 2, 3], 0x1093f01c0\n",
      "e == f : True\n",
      "e is f : False\n"
     ]
    }
   ],
   "source": [
    "# 값이 같고 참조가 다른 경우\n",
    "print(\"값이 같고, 참조가 다른 경우\")\n",
    "\n",
    "e = [1, 2, 3]\n",
    "f = [1, 2, 3]\n",
    "\n",
    "print(f'e 값, 주소 : {e}, {hex(id(e))}')\n",
    "print(f'f 값, 주소 : {f}, {hex(id(f))}')\n",
    "\n",
    "print(f'e == f : {e == f}')\n",
    "print(f'e is f : {e is f}')"
   ]
  }
 ],
 "metadata": {
  "interpreter": {
   "hash": "b0fa6594d8f4cbf19f97940f81e996739fb7646882a419484c72d19e05852a7e"
  },
  "kernelspec": {
   "display_name": "Python 3.9.13 64-bit",
   "language": "python",
   "name": "python3"
  },
  "language_info": {
   "codemirror_mode": {
    "name": "ipython",
    "version": 3
   },
   "file_extension": ".py",
   "mimetype": "text/x-python",
   "name": "python",
   "nbconvert_exporter": "python",
   "pygments_lexer": "ipython3",
   "version": "3.9.13"
  },
  "orig_nbformat": 4
 },
 "nbformat": 4,
 "nbformat_minor": 2
}
