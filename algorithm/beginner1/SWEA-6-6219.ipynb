{
 "cells": [
  {
   "cell_type": "markdown",
   "metadata": {},
   "source": [
    "## 흐름과 제어-if\n",
    "### 다음의 결과와 같이 임의의 양의 정수를 입력받아 그 정수의 모든 약수를 구하십시오\n",
    "### (단, 약수가 2개일 경우 소수임을 나타내십시오)\n",
    "#### `입력 5, 출력 1(은)는 5의 약수입니다. 5(은)는 5의 약수입니다. 5(은)는 1과 5로만 나눌 수 있는 소수입니다.`"
   ]
  },
  {
   "cell_type": "code",
   "execution_count": null,
   "metadata": {},
   "outputs": [],
   "source": [
    "T = int(input())\n",
    "a=0\n",
    "\n",
    "for test_case in range(1, T + 1):\n",
    "    if (T % test_case) is 0:\n",
    "        print(\"{0}(은)는 {1}의 약수입니다.\".format(test_case,T))\n",
    "        a+=1\n",
    "        \n",
    "        if (T == test_case) and (a==2):\n",
    "        \tprint(\"{0}(은)는 1과 {0}로만 나눌 수 있는 소수입니다.\".format(T))"
   ]
  },
  {
   "cell_type": "code",
   "execution_count": 1,
   "metadata": {},
   "outputs": [],
   "source": [
    "# 전형적인 소수 판단 함수 (나누는 범위를 2! 자기자신 -1)\n",
    "\n",
    "def is_prime_num(n):\n",
    "    for i in range(2, n):\n",
    "        if n % i == 0:\n",
    "            return False # i로 나누어 떨어지면 소수가 아니므로 False 리턴\n",
    "    \n",
    "    return True # False가 리턴되지 않고 for문을 빠져나왔다면 소수이므로 True 리턴"
   ]
  }
 ],
 "metadata": {
  "interpreter": {
   "hash": "b0fa6594d8f4cbf19f97940f81e996739fb7646882a419484c72d19e05852a7e"
  },
  "kernelspec": {
   "display_name": "Python 3.9.13 64-bit",
   "language": "python",
   "name": "python3"
  },
  "language_info": {
   "codemirror_mode": {
    "name": "ipython",
    "version": 3
   },
   "file_extension": ".py",
   "mimetype": "text/x-python",
   "name": "python",
   "nbconvert_exporter": "python",
   "pygments_lexer": "ipython3",
   "version": "3.9.13"
  },
  "orig_nbformat": 4
 },
 "nbformat": 4,
 "nbformat_minor": 2
}
