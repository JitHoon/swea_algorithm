{
 "cells": [
  {
   "cell_type": "markdown",
   "metadata": {},
   "source": [
    "## 흐름과 제어-if\n",
    "### 다음의 결과와 같이 입력된 영어 알파벳 문자에 대해 대소문자를 구분하는 코드를 작성하십시오.\n",
    "#### `입력 b, 출력 b 는 소문자 입니다.`"
   ]
  },
  {
   "cell_type": "code",
   "execution_count": 3,
   "metadata": {},
   "outputs": [
    {
     "name": "stdout",
     "output_type": "stream",
     "text": [
      "b 는 소문자 입니다.\n"
     ]
    }
   ],
   "source": [
    "T = input()\n",
    "\n",
    "if ord('a') <= ord(T) <= ord('z'):\n",
    "    print(\"{0} 는 소문자 입니다.\".format(T))\n",
    "else:\n",
    "    print(\"{0} 는 대문자 입니다.\".format(T))\n"
   ]
  },
  {
   "cell_type": "code",
   "execution_count": 6,
   "metadata": {},
   "outputs": [
    {
     "name": "stdout",
     "output_type": "stream",
     "text": [
      "97\n",
      "65\n",
      "98\n",
      "90\n",
      "99\n"
     ]
    }
   ],
   "source": [
    "# test\n",
    "\n",
    "a= 'a'\n",
    "b= 'A'\n",
    "c= 'b'\n",
    "d= 'Z'\n",
    "print(ord(a))\n",
    "print(ord(b))\n",
    "print(ord(c))\n",
    "print(ord(d))\n",
    "print(ord('c'))"
   ]
  }
 ],
 "metadata": {
  "interpreter": {
   "hash": "b0fa6594d8f4cbf19f97940f81e996739fb7646882a419484c72d19e05852a7e"
  },
  "kernelspec": {
   "display_name": "Python 3.9.13 64-bit",
   "language": "python",
   "name": "python3"
  },
  "language_info": {
   "codemirror_mode": {
    "name": "ipython",
    "version": 3
   },
   "file_extension": ".py",
   "mimetype": "text/x-python",
   "name": "python",
   "nbconvert_exporter": "python",
   "pygments_lexer": "ipython3",
   "version": "3.9.13"
  },
  "orig_nbformat": 4
 },
 "nbformat": 4,
 "nbformat_minor": 2
}
