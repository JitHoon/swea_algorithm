{
 "cells": [
  {
   "cell_type": "markdown",
   "metadata": {},
   "source": [
    "## 흐름과 제어-반복\n",
    "### 다음은 학생의 점수를 나타내는 리스트입니다.\n",
    "### [85, 65, 77, 83, 75, 22, 98, 88, 38, 100]\n",
    "### while 문과 리스트 객체의 pop()을 이용해 80점 이상의 점수들의 총합을 구하시오.\n",
    "#### `출력 454`"
   ]
  },
  {
   "cell_type": "code",
   "execution_count": 1,
   "metadata": {},
   "outputs": [
    {
     "name": "stdout",
     "output_type": "stream",
     "text": [
      "454\n"
     ]
    }
   ],
   "source": [
    "scores=[85, 65, 77, 83, 75, 22, 98, 88, 38, 100]\n",
    "result=0\n",
    "i=0\n",
    "\n",
    "while i<len(scores):\n",
    "\tif scores[i]<80:\n",
    "\t\tscores.pop(i)\n",
    "\telse:\n",
    "\t\tresult+=scores[i]\n",
    "\t\ti+=1\n",
    "print(result)"
   ]
  }
 ],
 "metadata": {
  "interpreter": {
   "hash": "b0fa6594d8f4cbf19f97940f81e996739fb7646882a419484c72d19e05852a7e"
  },
  "kernelspec": {
   "display_name": "Python 3.9.13 64-bit",
   "language": "python",
   "name": "python3"
  },
  "language_info": {
   "codemirror_mode": {
    "name": "ipython",
    "version": 3
   },
   "file_extension": ".py",
   "mimetype": "text/x-python",
   "name": "python",
   "nbconvert_exporter": "python",
   "pygments_lexer": "ipython3",
   "version": "3.9.13"
  },
  "orig_nbformat": 4
 },
 "nbformat": 4,
 "nbformat_minor": 2
}
