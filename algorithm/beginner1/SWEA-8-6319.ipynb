{
 "cells": [
  {
   "cell_type": "markdown",
   "metadata": {},
   "source": [
    "## 함수의 기초\n",
    "### 다음의 결과와 같이 반목문을 이용해 단어의 순서를 거꾸로 해 반환하는 함수를 작성하고 그 함수를 이용해 회문(앞뒤 어느 쪽에서도 같은 단어, 말) 여부를 판단하는 코드를 작성하십시오.\n",
    "\n",
    "#### `입력 eye 출력 eye 입력하신 단어는 회문(Palindrome)입니다.`"
   ]
  },
  {
   "cell_type": "code",
   "execution_count": 2,
   "metadata": {},
   "outputs": [
    {
     "name": "stdout",
     "output_type": "stream",
     "text": [
      "eye\n",
      "입력하신 단어는 회문(Palindrome)입니다.\n"
     ]
    }
   ],
   "source": [
    "def rev(w):\n",
    "\tw=w[::-1] # slice를 활용하여 문자열 뒤집기!\n",
    "\treturn w\n",
    "\n",
    "words = input()\n",
    "result = rev(words)\n",
    "\n",
    "print(\"{0}\".format(result))\n",
    "if result == words:\n",
    "\tprint(\"입력하신 단어는 회문(Palindrome)입니다.\")"
   ]
  }
 ],
 "metadata": {
  "interpreter": {
   "hash": "b0fa6594d8f4cbf19f97940f81e996739fb7646882a419484c72d19e05852a7e"
  },
  "kernelspec": {
   "display_name": "Python 3.9.13 64-bit",
   "language": "python",
   "name": "python3"
  },
  "language_info": {
   "codemirror_mode": {
    "name": "ipython",
    "version": 3
   },
   "file_extension": ".py",
   "mimetype": "text/x-python",
   "name": "python",
   "nbconvert_exporter": "python",
   "pygments_lexer": "ipython3",
   "version": "3.9.13"
  },
  "orig_nbformat": 4
 },
 "nbformat": 4,
 "nbformat_minor": 2
}
