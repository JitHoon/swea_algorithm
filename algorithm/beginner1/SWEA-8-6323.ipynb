{
 "cells": [
  {
   "cell_type": "markdown",
   "metadata": {},
   "source": [
    "## 함수의 기초\n",
    "### 다음의 결과와 같이 피보나치 수열의 결과를 생성하는 프로그램을 작성하십시오.\n",
    "\n",
    "#### `입력 10 출력 [1, 1, 2, 3, 5, 8, 13, 21, 34, 55]`"
   ]
  },
  {
   "cell_type": "code",
   "execution_count": 1,
   "metadata": {},
   "outputs": [
    {
     "name": "stdout",
     "output_type": "stream",
     "text": [
      "[1, 1, 2, 3, 5, 8, 13, 21, 34, 55]\n"
     ]
    }
   ],
   "source": [
    "def callme(re):\n",
    "\tresult=[1,1]\n",
    "\tfor i in range(2,re):\n",
    "\t\ta=result[i-1]+result[i-2]\n",
    "\t\tresult.append(a)\n",
    "\treturn print(\"{0}\".format(result))\n",
    "\n",
    "T=int(input())\n",
    "callme(T)"
   ]
  }
 ],
 "metadata": {
  "interpreter": {
   "hash": "b0fa6594d8f4cbf19f97940f81e996739fb7646882a419484c72d19e05852a7e"
  },
  "kernelspec": {
   "display_name": "Python 3.9.13 64-bit",
   "language": "python",
   "name": "python3"
  },
  "language_info": {
   "codemirror_mode": {
    "name": "ipython",
    "version": 3
   },
   "file_extension": ".py",
   "mimetype": "text/x-python",
   "name": "python",
   "nbconvert_exporter": "python",
   "pygments_lexer": "ipython3",
   "version": "3.9.13"
  },
  "orig_nbformat": 4
 },
 "nbformat": 4,
 "nbformat_minor": 2
}
