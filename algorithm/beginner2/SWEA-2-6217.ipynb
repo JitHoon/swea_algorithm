{
 "cells": [
  {
   "cell_type": "markdown",
   "metadata": {},
   "source": [
    "## 객체지향 3\n",
    "### name 프로퍼티를 가진 Student를 부모 클래스로 major 프로퍼티를 가진 GraduateStudent 자식 클래스를 정의하고 이 클래스의 객체를 다음과 같이 문자열로 출력하는 코드를 작성하십시오.\n",
    "\n",
    "#### `출력 이름: 홍길동\\n이름: 이순신, 전공: 컴퓨터`"
   ]
  },
  {
   "cell_type": "code",
   "execution_count": 1,
   "metadata": {},
   "outputs": [
    {
     "name": "stdout",
     "output_type": "stream",
     "text": [
      "이름: 홍길동\n",
      "이름: 이순신, 전공: 컴퓨터\n"
     ]
    }
   ],
   "source": [
    "class Student:\n",
    "    def __init__(self, name):\n",
    "        self.__name = name\n",
    "\n",
    "    @property\n",
    "    def name(self):\n",
    "        return self.__name\n",
    "    \n",
    "    def __repr__(self):\n",
    "        return \"이름: {0}\".format(self.name)\n",
    "\n",
    "class GraduateStudent(Student):\n",
    "    def __init__(self, gname, major):\n",
    "        self.__major = major\n",
    "        Student.__init__(self, gname)\n",
    "    \n",
    "    @property\n",
    "    def major(self):\n",
    "        return self.__major\n",
    "    \n",
    "    def __repr__(self):\n",
    "        return Student.__repr__(self) + ', ' + \"전공: {0}\".format(self.major)\n",
    "\n",
    "a = Student('홍길동')\n",
    "b = GraduateStudent('이순신', '컴퓨터')\n",
    "\n",
    "print(a)\n",
    "print(b)\n"
   ]
  }
 ],
 "metadata": {
  "interpreter": {
   "hash": "b0fa6594d8f4cbf19f97940f81e996739fb7646882a419484c72d19e05852a7e"
  },
  "kernelspec": {
   "display_name": "Python 3.9.13 64-bit",
   "language": "python",
   "name": "python3"
  },
  "language_info": {
   "codemirror_mode": {
    "name": "ipython",
    "version": 3
   },
   "file_extension": ".py",
   "mimetype": "text/x-python",
   "name": "python",
   "nbconvert_exporter": "python",
   "pygments_lexer": "ipython3",
   "version": "3.9.13"
  },
  "orig_nbformat": 4
 },
 "nbformat": 4,
 "nbformat_minor": 2
}
