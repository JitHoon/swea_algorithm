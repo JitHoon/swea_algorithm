{
 "cells": [
  {
   "cell_type": "markdown",
   "metadata": {},
   "source": [
    "## 자료구조 - 셋, 딕셔너리 3\n",
    "### 아래의 상품 딕셔너리 데이터를 가격에 따라 내림차순으로 정렬하는 프로그램을 작성하십시오.\n",
    "\n",
    "#### `출력 TV: 2000000\\n냉장고: 1500000\\n노트북: 1200000\\n세탁기: 1000000\\n책상: 350000\\n가스레인지: 200000`"
   ]
  },
  {
   "cell_type": "code",
   "execution_count": 1,
   "metadata": {},
   "outputs": [
    {
     "name": "stdout",
     "output_type": "stream",
     "text": [
      "TV: 2000000\n",
      "냉장고: 1500000\n",
      "노트북: 1200000\n",
      "세탁기: 1000000\n",
      "책상: 350000\n",
      "가스레인지: 200000\n"
     ]
    }
   ],
   "source": [
    "data ={\"TV\": 2000000,\n",
    "\"냉장고\": 1500000,\n",
    "\"책상\": 350000,\n",
    "\"노트북\": 1200000,\n",
    "\"가스레인지\": 200000,\n",
    "\"세탁기\": 1000000}\n",
    "\n",
    "# key = lambda item: item[0] : key를 기준으로 정렬\n",
    "# key = lambda item: item[1] : value를 기준으러 정렬\n",
    "# reverse = True : 내림차순\n",
    "# reverse = True : 오름차순\n",
    "\n",
    "result = sorted(data.items(), key = lambda item: item[1], reverse = True)\n",
    "\n",
    "for i in range(len(result)):\n",
    "\tprint(\"{0}: {1}\".format(result[i][0], result[i][1]))"
   ]
  }
 ],
 "metadata": {
  "interpreter": {
   "hash": "b0fa6594d8f4cbf19f97940f81e996739fb7646882a419484c72d19e05852a7e"
  },
  "kernelspec": {
   "display_name": "Python 3.9.13 64-bit",
   "language": "python",
   "name": "python3"
  },
  "language_info": {
   "codemirror_mode": {
    "name": "ipython",
    "version": 3
   },
   "file_extension": ".py",
   "mimetype": "text/x-python",
   "name": "python",
   "nbconvert_exporter": "python",
   "pygments_lexer": "ipython3",
   "version": "3.9.13"
  },
  "orig_nbformat": 4
 },
 "nbformat": 4,
 "nbformat_minor": 2
}
