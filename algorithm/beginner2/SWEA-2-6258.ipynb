{
 "cells": [
  {
   "cell_type": "markdown",
   "metadata": {},
   "source": [
    "## 자료구조 - 셋, 딕셔너리 6\n",
    "### 다음과 같이 정수 N을 입력받아서 1부터 N까지의 정수를 키로 하고, 그 정수의 제곱을 값으로 하는 딕셔너리 객체를 만드는 코드를 작성하십시오.\n",
    "\n",
    "#### `입력 5 출력 {1: 1, 2: 4, 3: 9, 4: 16, 5: 25}`"
   ]
  },
  {
   "cell_type": "code",
   "execution_count": 1,
   "metadata": {},
   "outputs": [
    {
     "name": "stdout",
     "output_type": "stream",
     "text": [
      "{1: 1, 2: 4, 3: 9, 4: 16, 5: 25}\n"
     ]
    }
   ],
   "source": [
    "result = {i+1:(i+1)**2 for i in range(int(input()))}\n",
    "print(result)"
   ]
  },
  {
   "cell_type": "code",
   "execution_count": 9,
   "metadata": {},
   "outputs": [
    {
     "name": "stdout",
     "output_type": "stream",
     "text": [
      "a,2\n",
      "b,2\n",
      "c,2\n",
      "d,1\n",
      "e,1\n",
      "f,1\n",
      "g,1\n"
     ]
    }
   ],
   "source": [
    "data = list(input())\n",
    "result = {}\n",
    "\n",
    "for i in range(ord('z')-ord('a')):\n",
    "\tk = chr(ord('a')+i)\n",
    "\tcount =0\n",
    "\tfor j in range(len(data)):\n",
    "\t\tif k==data[j]:\n",
    "\t\t\tcount +=1\n",
    "\t\t\tresult.update({k:count})\n",
    "\n",
    "for key, value in result.items():\n",
    "\tprint(\"{0},{1}\".format(key, value))"
   ]
  }
 ],
 "metadata": {
  "interpreter": {
   "hash": "b0fa6594d8f4cbf19f97940f81e996739fb7646882a419484c72d19e05852a7e"
  },
  "kernelspec": {
   "display_name": "Python 3.9.13 64-bit",
   "language": "python",
   "name": "python3"
  },
  "language_info": {
   "codemirror_mode": {
    "name": "ipython",
    "version": 3
   },
   "file_extension": ".py",
   "mimetype": "text/x-python",
   "name": "python",
   "nbconvert_exporter": "python",
   "pygments_lexer": "ipython3",
   "version": "3.9.13"
  },
  "orig_nbformat": 4
 },
 "nbformat": 4,
 "nbformat_minor": 2
}
