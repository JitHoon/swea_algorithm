{
 "cells": [
  {
   "cell_type": "markdown",
   "metadata": {},
   "source": [
    "## 자료구조 -리스트, 튜플 1\n",
    "### 한 학생의 국어, 수학 점수를 튜플로 저장하고 이 튜플을 항목으로 갖는 리스트 객체가 있습니다. 이 때 첫 번째 학생은 (90, 80), 두 번째 학생은 (85, 75), 세 번째 학생은 (90, 100)의 점수를 갖습니다.\n",
    "\n",
    "#### `출력 1번 학생의 총점은 170점이고, 평균은 85.0입니다.\\n2번 학생의 총점은 160점이고, 평균은 80.0입니다.\\n3번 학생의 총점은 190점이고, 평균은 95.0입니다.`"
   ]
  },
  {
   "cell_type": "code",
   "execution_count": 1,
   "metadata": {},
   "outputs": [
    {
     "name": "stdout",
     "output_type": "stream",
     "text": [
      "1번 학생의 총점은 170점이고, 평균은 85.0입니다.\n",
      "2번 학생의 총점은 160점이고, 평균은 80.0입니다.\n",
      "3번 학생의 총점은 190점이고, 평균은 95.0입니다.\n"
     ]
    }
   ],
   "source": [
    "student = [(90, 80),(85,75),(90,100)]\n",
    "\n",
    "for inx, score in enumerate(student):\n",
    "\tprint(\"{0}번 학생의 총점은 {1}점이고, 평균은 {2:.1f}입니다.\".format(inx+1,sum(score),sum(score)/2.0))"
   ]
  }
 ],
 "metadata": {
  "interpreter": {
   "hash": "b0fa6594d8f4cbf19f97940f81e996739fb7646882a419484c72d19e05852a7e"
  },
  "kernelspec": {
   "display_name": "Python 3.9.13 64-bit",
   "language": "python",
   "name": "python3"
  },
  "language_info": {
   "codemirror_mode": {
    "name": "ipython",
    "version": 3
   },
   "file_extension": ".py",
   "mimetype": "text/x-python",
   "name": "python",
   "nbconvert_exporter": "python",
   "pygments_lexer": "ipython3",
   "version": "3.9.13"
  },
  "orig_nbformat": 4
 },
 "nbformat": 4,
 "nbformat_minor": 2
}
