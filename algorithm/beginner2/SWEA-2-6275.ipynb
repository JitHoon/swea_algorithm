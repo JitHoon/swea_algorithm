{
 "cells": [
  {
   "cell_type": "markdown",
   "metadata": {},
   "source": [
    "## 자료구조 -리스트, 튜플 2\n",
    "### 리스트 내포 기능을 이용해 다음 문장으로부터 모음('aeiou')을 제거하십시오. 'Python is powerful... and fast; plays well with others; runs everywhere; is friendly & easy to learn; is Open.'\n",
    "\n",
    "#### `출력 Pythn s pwrfl... nd fst; plys wll wth thrs; rns vrywhr; s frndly & sy t lrn; s Opn.`"
   ]
  },
  {
   "cell_type": "code",
   "execution_count": 1,
   "metadata": {},
   "outputs": [
    {
     "name": "stdout",
     "output_type": "stream",
     "text": [
      "Pythn s pwrfl... nd fst; plys wll wth thrs; rns vrywhr; s frndly & sy t lrn; s Opn.\n"
     ]
    }
   ],
   "source": [
    "l=list('Python is powerful... and fast; plays well with others; runs everywhere; is friendly & easy to learn; is Open.')\n",
    "k=list('aeiou')\n",
    "final = \"\"\n",
    "num=0\n",
    "result = [i for i in l for j in k if i!=j]\n",
    "for idx, w in enumerate(result):\n",
    "\tif 1<=idx:\n",
    "\t\tif result[idx-1]==w:\n",
    "\t\t\tnum+=1\n",
    "\t\telse:\n",
    "\t\t\tnum=0\n",
    "\tif num==4 or num==9 or num==14:\n",
    "\t\tfinal += w\n",
    "print(final)"
   ]
  }
 ],
 "metadata": {
  "interpreter": {
   "hash": "b0fa6594d8f4cbf19f97940f81e996739fb7646882a419484c72d19e05852a7e"
  },
  "kernelspec": {
   "display_name": "Python 3.9.13 64-bit",
   "language": "python",
   "name": "python3"
  },
  "language_info": {
   "codemirror_mode": {
    "name": "ipython",
    "version": 3
   },
   "file_extension": ".py",
   "mimetype": "text/x-python",
   "name": "python",
   "nbconvert_exporter": "python",
   "pygments_lexer": "ipython3",
   "version": "3.9.13"
  },
  "orig_nbformat": 4
 },
 "nbformat": 4,
 "nbformat_minor": 2
}
