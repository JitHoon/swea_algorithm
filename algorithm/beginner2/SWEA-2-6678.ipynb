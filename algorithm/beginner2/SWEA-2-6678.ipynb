{
 "cells": [
  {
   "cell_type": "markdown",
   "metadata": {},
   "source": [
    "## 문자열 4\n",
    "### 다음의 결과와 같이 여러 문장을 입력받아 대문자로 변환해 출력하는 프로그램을 작성합니다. 아무 것도 입력하지 않고 엔터만 입력하면 입력이 종료됩니다.\n",
    "\n",
    "#### `입력 Hello World\\nhello world\\nPython 출력 >> HELLO WORLD\\n>> HELLO WORLD\\n>> PYTHON`"
   ]
  },
  {
   "cell_type": "code",
   "execution_count": 1,
   "metadata": {},
   "outputs": [
    {
     "name": "stdout",
     "output_type": "stream",
     "text": [
      ">> HELLO WORLD\n",
      ">> HELLO WORLD\n",
      ">> PYTHON\n"
     ]
    }
   ],
   "source": [
    "while True:\n",
    "\tdata = input()\n",
    "\tif data != '':\n",
    "\t\tprint(\">> \"+data.upper())\n",
    "\telse:\n",
    "\t\tbreak"
   ]
  },
  {
   "cell_type": "code",
   "execution_count": 30,
   "metadata": {},
   "outputs": [
    {
     "name": "stdout",
     "output_type": "stream",
     "text": [
      "강,들,바다,산,하늘\n"
     ]
    }
   ],
   "source": [
    "data = list(sorted(set(input().split(\" \"))))\n",
    "print(\"{0},{1},{2},{3},{4}\".format(*data))"
   ]
  }
 ],
 "metadata": {
  "interpreter": {
   "hash": "b0fa6594d8f4cbf19f97940f81e996739fb7646882a419484c72d19e05852a7e"
  },
  "kernelspec": {
   "display_name": "Python 3.9.13 64-bit",
   "language": "python",
   "name": "python3"
  },
  "language_info": {
   "codemirror_mode": {
    "name": "ipython",
    "version": 3
   },
   "file_extension": ".py",
   "mimetype": "text/x-python",
   "name": "python",
   "nbconvert_exporter": "python",
   "pygments_lexer": "ipython3",
   "version": "3.9.13"
  },
  "orig_nbformat": 4
 },
 "nbformat": 4,
 "nbformat_minor": 2
}
