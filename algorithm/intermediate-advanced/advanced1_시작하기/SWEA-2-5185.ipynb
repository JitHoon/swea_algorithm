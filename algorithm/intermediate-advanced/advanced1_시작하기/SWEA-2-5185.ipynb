{
 "cells": [
  {
   "cell_type": "markdown",
   "metadata": {},
   "source": [
    "### [파이썬 S/W 문제해결 구현] 1일차 - 이진수\n",
    "- https://swexpertacademy.com/main/learn/course/lectureProblemViewer.do"
   ]
  },
  {
   "cell_type": "code",
   "execution_count": null,
   "metadata": {},
   "outputs": [],
   "source": [
    "# n진수 -> n진수 함수\n",
    "# divmod(숫자, 숫자) -> (몫 나머지) 반환\n",
    "# int(str, base) -> base진수 str을 10진수 int로 반환\n",
    "# bin(10진수), oct(10진수), hex(10진수) -> 10진수를 각 진수의 str로 반환\n",
    "\n",
    "def transform(n, q):\n",
    "    rev_base = ''\n",
    "    # 몫이 없어질 때까지\n",
    "    while n > 0:\n",
    "        # 몫과 나머지를 반환하는 함수 divmod()\n",
    "        n, mod = divmod(n, q)\n",
    "        # 나머지를 차고차곡 쌓음\n",
    "        rev_base += str(mod)\n",
    "    # 역순인 진수를 뒤집어 줘야 원래 변환 하고자하는 base가 출력\n",
    "    return rev_base[::-1]\n",
    "\n",
    "T=int(input())\n",
    "for t in range(1, T+1):\n",
    "    N,D=map(str, input().split());\n",
    "\n",
    "    result = transform(int(D,16),2)\n",
    "    \n",
    "    # 부족한 앞자리 0 채우기\n",
    "    if len(result)<int(N)*4:\n",
    "        n=int(N)*4-len(result)\n",
    "        result=''\n",
    "        for i in range(n):\n",
    "            result+='0'\n",
    "        result += transform(int(D,16),2)\n",
    "\n",
    "    print(f\"#{t} {result}\")"
   ]
  }
 ],
 "metadata": {
  "language_info": {
   "name": "python"
  },
  "orig_nbformat": 4
 },
 "nbformat": 4,
 "nbformat_minor": 2
}
