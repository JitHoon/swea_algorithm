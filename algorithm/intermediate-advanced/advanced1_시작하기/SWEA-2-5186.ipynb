{
 "cells": [
  {
   "cell_type": "markdown",
   "metadata": {},
   "source": [
    "### [파이썬 S/W 문제해결 구현] 1일차 - 이진수2\n",
    "- https://swexpertacademy.com/main/learn/course/lectureProblemViewer.do"
   ]
  },
  {
   "cell_type": "code",
   "execution_count": null,
   "metadata": {},
   "outputs": [],
   "source": [
    "def TF(n):\n",
    "    global result\n",
    "    while n!=1.0:\n",
    "        # 소숫점 아래 진수 변환인 경우 곱셈 후 몫으로 값을 가져온다.\n",
    "        n=n*2\n",
    "        result+=str(n)[:1]\n",
    "        # n==1.0면 whie 문을 break 아니면 몫을 빼고 계속 진행\n",
    "        if str(n)[:1]=='1' and n!=1.0:\n",
    "            n-=1\n",
    "        # 문제 조건 : 13이상 overflow 출력\n",
    "        if len(result)==13:\n",
    "            result='overflow'\n",
    "            break\n",
    "\n",
    "T=int(input())\n",
    "for t in range(1, T+1):\n",
    "    D=float(input());result='';\n",
    "    TF(D)\n",
    "    print(f\"#{t} {result}\")"
   ]
  }
 ],
 "metadata": {
  "language_info": {
   "name": "python"
  },
  "orig_nbformat": 4
 },
 "nbformat": 4,
 "nbformat_minor": 2
}
