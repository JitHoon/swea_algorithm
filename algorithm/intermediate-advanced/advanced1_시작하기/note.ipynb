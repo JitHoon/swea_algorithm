{
 "cells": [
  {
   "cell_type": "code",
   "execution_count": 2,
   "metadata": {},
   "outputs": [
    {
     "name": "stdout",
     "output_type": "stream",
     "text": [
      "4\n"
     ]
    }
   ],
   "source": [
    "print(4 & (1 << 2))"
   ]
  },
  {
   "cell_type": "code",
   "execution_count": 24,
   "metadata": {},
   "outputs": [
    {
     "name": "stdout",
     "output_type": "stream",
     "text": [
      "little endian : 11 11 11 00\n"
     ]
    }
   ],
   "source": [
    "n = 0x00111111\n",
    "\n",
    "if n & 0x11:\n",
    "\tprint(\"little endian : 11 11 11 00\")\n",
    "else:\n",
    "\tprint(\"big endian : 00 11 11 11\")"
   ]
  },
  {
   "cell_type": "code",
   "execution_count": 29,
   "metadata": {},
   "outputs": [
    {
     "name": "stdout",
     "output_type": "stream",
     "text": [
      "12\n",
      "30\n",
      "11\n",
      "10\n",
      "1000001110110100001011011001101\n"
     ]
    }
   ],
   "source": [
    "def solution(n, q):\n",
    "    rev_base = ''\n",
    "\n",
    "    while n > 0:\n",
    "        n, mod = divmod(n, q)\n",
    "        rev_base += str(mod)\n",
    "\n",
    "    return rev_base[::-1] \n",
    "    # 역순인 진수를 뒤집어 줘야 원래 변환 하고자하는 base가 출력\n",
    "\n",
    "print(solution(int('C',16),10)) # 16진수인 C를 4진수로 바꾸는것\n",
    "print(solution(int('c',16),4)) # 16진수인 C를 4진수로 바꾸는것\n",
    "print(solution(int('4',6),3))  # 6진수인 4를 3진수로 바꾸는것\n",
    "print(solution(int('21',3),7)) # 3진수인 21을 7진수로 바꾸는것\n",
    "print(solution(int('41DA16CD',16),2)) # 9진수인 15를 5진수로 바꾸는것"
   ]
  }
 ],
 "metadata": {
  "interpreter": {
   "hash": "b0fa6594d8f4cbf19f97940f81e996739fb7646882a419484c72d19e05852a7e"
  },
  "kernelspec": {
   "display_name": "Python 3.9.13 64-bit",
   "language": "python",
   "name": "python3"
  },
  "language_info": {
   "codemirror_mode": {
    "name": "ipython",
    "version": 3
   },
   "file_extension": ".py",
   "mimetype": "text/x-python",
   "name": "python",
   "nbconvert_exporter": "python",
   "pygments_lexer": "ipython3",
   "version": "3.9.13"
  },
  "orig_nbformat": 4
 },
 "nbformat": 4,
 "nbformat_minor": 2
}
