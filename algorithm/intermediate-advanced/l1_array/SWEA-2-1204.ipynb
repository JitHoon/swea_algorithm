{
 "cells": [
  {
   "cell_type": "markdown",
   "metadata": {},
   "source": [
    "## [S/W 문제해결 기본] 1일차 - 최빈수 구하기\n",
    "### 최빈수를 출력하는 프로그램을 작성하여라 (단, 최빈수가 여러 개 일 때에는 가장 큰 점수를 출력하라).\n",
    "### (제약) 학생의 수는 1000명이며, 각 학생의 점수는 0점 이상 100점 이하의 값이다. \n",
    "\n",
    "### [입력] 첫 번째 줄에 테스트 케이스의 수 T가 주어진다.\n",
    "### 각 테스트 케이스의 첫 줄에는 테스트 케이스의 번호가 주어지고 그 다음 줄부터는 점수가 주어진다.\n",
    "\n",
    "### [출력]\n",
    "### #부호와 함께 테스트 케이스의 번호를 출력하고, 공백 문자 후 테스트 케이스에 대한 답을 출력한다.\n",
    "\n",
    "#### `입력 10, 1, ~`\n",
    "\n",
    "#### `출력 #1 71\\n#2 76\\n .......`"
   ]
  },
  {
   "cell_type": "code",
   "execution_count": null,
   "metadata": {},
   "outputs": [],
   "source": [
    "# array 기본 문제\n",
    "\n",
    "for i in range(int(input())):\n",
    "    test_case_num = int(input())\n",
    "    data = list(map(int, input().split()))\n",
    "    \n",
    "    result = [0] * len(data)\n",
    "    \n",
    "    for j in data:\n",
    "        result[j-1] += 1\n",
    "        \n",
    "    Result = result[::-1]\n",
    "\n",
    "    for k in Result:\n",
    "        if max(result) == k:\n",
    "            print(f\"#{test_case_num} {len(Result) - Result.index(k)}\")\n",
    "            break"
   ]
  }
 ],
 "metadata": {
  "interpreter": {
   "hash": "b0fa6594d8f4cbf19f97940f81e996739fb7646882a419484c72d19e05852a7e"
  },
  "kernelspec": {
   "display_name": "Python 3.9.13 64-bit",
   "language": "python",
   "name": "python3"
  },
  "language_info": {
   "codemirror_mode": {
    "name": "ipython",
    "version": 3
   },
   "file_extension": ".py",
   "mimetype": "text/x-python",
   "name": "python",
   "nbconvert_exporter": "python",
   "pygments_lexer": "ipython3",
   "version": "3.9.13"
  },
  "orig_nbformat": 4
 },
 "nbformat": 4,
 "nbformat_minor": 2
}
