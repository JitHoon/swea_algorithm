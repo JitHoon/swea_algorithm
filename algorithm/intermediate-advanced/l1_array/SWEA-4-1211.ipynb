{
 "cells": [
  {
   "cell_type": "markdown",
   "metadata": {},
   "source": [
    "## [S/W 문제해결 기본] 2일차 - Ladder2\n",
    "### 100 x 100 크기의 2차원 배열로 주어진 사다리에 대해서, 모든 출발점을 검사하여 바닥까지 가장 짧은 이동 거리를 갖는 시작점 x(복수 개인 경우 가장 큰 x좌표)를 반환하는 코드를 작성하라.\n",
    "\n",
    "### [입력] 한 막대에서 출발한 가로선이 다른 막대를 가로질러서 연속하여 이어지는 경우는 없다.\n",
    "### 입력 파일의 첫 번째 줄에는 테스트 케이스의 번호가 주어지며, 바로 다음 줄에 테스트 케이스가 주어진다.\n",
    "### 총 10개의 테스트 케이스가 주어진다.\n",
    "\n",
    "### [출력]\n",
    "### #부호와 함께 테스트 케이스의 번호를 출력하고, 공백 문자 후 도착하게 되는 출발점의 x좌표를 출력한다.\n",
    "\n",
    "#### `입력 1, ~`\n",
    "\n",
    "#### `출력 #1 18\\n .......`"
   ]
  },
  {
   "cell_type": "code",
   "execution_count": null,
   "metadata": {},
   "outputs": [],
   "source": [
    "for i in range(10):\n",
    "    test_case = int(input())\n",
    "    ladder = [list(map(int, input().split())) for _ in range(100)]\n",
    "    candidate = []\n",
    "    \n",
    "    for j in range(100):\n",
    "        if ladder[0][j] == 1:\n",
    "            candidate.append(j)\n",
    "    \n",
    "    count = [0] * len(candidate)\n",
    "    \n",
    "    for idx, value in enumerate(candidate):\n",
    "        move = value\n",
    "        for l in range(0,100):\n",
    "            if move>0 and ladder[l][move-1]:\n",
    "                while move>0 and ladder[l][move-1]:\n",
    "                    move -= 1\n",
    "                    count[idx] += 1\n",
    "            elif move<99 and ladder[l][move+1]:\n",
    "                while move<99 and ladder[l][move+1]:\n",
    "                    move += 1\n",
    "                    count[idx] += 1\n",
    "    print(f\"#{test_case} {candidate[count.index(min(count))]}\")"
   ]
  }
 ],
 "metadata": {
  "language_info": {
   "name": "python"
  },
  "orig_nbformat": 4
 },
 "nbformat": 4,
 "nbformat_minor": 2
}
