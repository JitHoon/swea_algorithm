{
 "cells": [
  {
   "cell_type": "markdown",
   "metadata": {},
   "source": [
    "### [파이썬 S/W 문제해결 구현] 2일차 - 최소합\n",
    "- https://swexpertacademy.com/main/solvingProblem/solvingProblem.do"
   ]
  },
  {
   "cell_type": "markdown",
   "metadata": {},
   "source": [
    "완전검색 유형 DP 문제 판단법\n",
    "1. 보통 최소합 최대합을 구하라고 한다.\n",
    "2. 피보나치 수열처럼 중복된 연산이 많다. (답이 아니면 다시 돌아가야하는 경우)\n",
    "3. 2차원 배열 이상인 경우"
   ]
  },
  {
   "cell_type": "code",
   "execution_count": 10,
   "metadata": {},
   "outputs": [
    {
     "name": "stdout",
     "output_type": "stream",
     "text": [
      "1 2 2 2\n",
      "1000 9\n",
      "0 2 1 2\n",
      "1000 12\n",
      "0 1 0 2\n",
      "1000 14\n",
      "1 1 1 2\n",
      "1000 12\n",
      "2 1 2 2\n",
      "1000 9\n",
      "1 1 2 1\n",
      "12 12\n",
      "0 1 1 1\n",
      "14 14\n",
      "0 0 0 1\n",
      "1000 15\n",
      "1 0 1 1\n",
      "1000 14\n",
      "2 0 2 1\n",
      "1000 12\n",
      "1 0 2 0\n",
      "14 14\n",
      "0 0 1 0\n",
      "15 15\n",
      "#1 15\n"
     ]
    }
   ],
   "source": [
    "# 탑다운 DP 정석\n",
    "def recur(x, y):\n",
    "    # 이미 계산했던 연산은 가져다가 사용한다.\n",
    "    if dp[x][y]:\n",
    "        return dp[x][y]\n",
    "    \n",
    "    # 비교 최댓값\n",
    "    result = 1000\n",
    "    for i in range(2):\n",
    "        nx = x + dx[i]\n",
    "        ny = y + dy[i]\n",
    "        if 0 <= nx < n and 0 <= ny < n:\n",
    "            # min과 max는 iterable 데이터 뿐만 아니라 여러 인자를 받아 비교해준다.\n",
    "            # arr[x][y] : 이동하기 이전 arr 값\n",
    "            # recur(nx, ny): 이동한 다음 dp 값\n",
    "            # 초반 (n-1, n-1)까지 들어간 후 연산 시작\n",
    "            A = arr[x][y] + recur(nx, ny)\n",
    "            # 기존 dp 데이터 값과 비교하여 더 작은 값을 가져가서\n",
    "            result = min(result, A)\n",
    "    # 해당 dp자리에 값 갱신\n",
    "    dp[x][y] = result\n",
    "    return result\n",
    "\n",
    "# 오른쪽, 아래\n",
    "dx = [0, 1]\n",
    "dy = [1, 0]\n",
    "t = int(input())\n",
    "for tc in range(1, 1 + t):\n",
    "    n = int(input())\n",
    "    arr = [list(map(int, input().split())) for _ in range(n)]\n",
    "    # 반복된 연산을 줄이기 위한 DP\n",
    "    dp = [[0] * n for _ in range(n)]\n",
    "    # 기저 조건 : 마지막 값부터 가져와 연산하므로\n",
    "    dp[n - 1][n - 1] = arr[n - 1][n - 1]\n",
    "    print(f'#{tc} {recur(0, 0)}')"
   ]
  },
  {
   "cell_type": "code",
   "execution_count": null,
   "metadata": {},
   "outputs": [],
   "source": [
    "# 5188. [파이썬 S/W 문제해결 구현] 2일차 - 최소합\n",
    "# 4솔 (시간 초과) 답은 구해짐\n",
    "\n",
    "import itertools\n",
    "\n",
    "for t in range(1, int(input())+1):\n",
    "    N=int(input());D=[list(map(int, input().split())) for _ in range(N)];result=N**N;\n",
    "    # 오른쪽 2번, 왼쪽 2번을 가는 경우의 수를 set(순열)로 구함\n",
    "    case=[0]*(N-1)+[1]*(N-1)\n",
    "    Set = set(itertools.permutations(case,len(case)))\n",
    "    for i in Set:\n",
    "        row, col=0,0\n",
    "        sum=D[0][0]\n",
    "        for value in i:# 0011\n",
    "            if sum>result:\n",
    "                break\n",
    "            if value:#아래\n",
    "                row+=1\n",
    "                sum+=D[row][col]\n",
    "            else:#우\n",
    "                col+=1\n",
    "                sum+=D[row][col]\n",
    "        if sum<result:\n",
    "            result=sum\n",
    "    print(f\"#{t} {result}\")"
   ]
  }
 ],
 "metadata": {
  "interpreter": {
   "hash": "b0fa6594d8f4cbf19f97940f81e996739fb7646882a419484c72d19e05852a7e"
  },
  "kernelspec": {
   "display_name": "Python 3.9.13 64-bit",
   "language": "python",
   "name": "python3"
  },
  "language_info": {
   "codemirror_mode": {
    "name": "ipython",
    "version": 3
   },
   "file_extension": ".py",
   "mimetype": "text/x-python",
   "name": "python",
   "nbconvert_exporter": "python",
   "pygments_lexer": "ipython3",
   "version": "3.9.13"
  },
  "orig_nbformat": 4
 },
 "nbformat": 4,
 "nbformat_minor": 2
}
