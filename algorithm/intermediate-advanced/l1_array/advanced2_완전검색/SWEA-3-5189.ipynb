{
 "cells": [
  {
   "cell_type": "markdown",
   "metadata": {},
   "source": [
    "### [파이썬 S/W 문제해결 구현] 2일차 - 전자카트\n",
    "- https://swexpertacademy.com/main/learn/course/subjectDetail.do?courseId=AVuPDYSqAAbw5UW6&subjectId=AWUYDrI61lYDFAVT"
   ]
  },
  {
   "cell_type": "code",
   "execution_count": null,
   "metadata": {},
   "outputs": [],
   "source": [
    "import itertools\n",
    "\n",
    "for t in range(1, 1+int(input())):\n",
    "    n=int(input());e=[list(map(int, input().split())) for _ in range(n)];result=[]\n",
    "    # 사무실 가는 경우의 수\n",
    "    d=[i for i in range(2,n+1)]\n",
    "    case=list(itertools.permutations(d,len(d)))\n",
    "    for j in case:\n",
    "        # 사무실 출발 도착 미리 sum\n",
    "        Sum = e[0][j[0]-1] + e[j[-1]-1][0]\n",
    "        for idx, value in enumerate(j):\n",
    "            # 사무실 돌아다니기\n",
    "            if idx<len(j)-1:\n",
    "                Sum += e[value-1][j[idx+1]-1]\n",
    "        result.append(Sum)\n",
    "    print(f\"#{t} {min(result)}\")"
   ]
  }
 ],
 "metadata": {
  "language_info": {
   "name": "python"
  },
  "orig_nbformat": 4
 },
 "nbformat": 4,
 "nbformat_minor": 2
}
