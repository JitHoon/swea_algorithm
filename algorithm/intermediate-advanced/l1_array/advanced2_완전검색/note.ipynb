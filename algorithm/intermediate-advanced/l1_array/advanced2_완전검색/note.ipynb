{
 "cells": [
  {
   "cell_type": "code",
   "execution_count": 2,
   "metadata": {},
   "outputs": [
    {
     "name": "stdout",
     "output_type": "stream",
     "text": [
      "<itertools.permutations object at 0x1063d5400>\n",
      "[(1, 2, 3), (1, 3, 2), (2, 1, 3), (2, 3, 1), (3, 1, 2), (3, 2, 1)]\n"
     ]
    }
   ],
   "source": [
    "# 순열 라이브러리 : 서로 다른 원소로 이루어진 순열 생성 라이브러리\n",
    "import itertools\n",
    "\n",
    "mylist = [1,2,3]\n",
    "result = itertools.permutations(mylist)\n",
    "\n",
    "print(result)\n",
    "print(list(result))"
   ]
  },
  {
   "cell_type": "code",
   "execution_count": 10,
   "metadata": {},
   "outputs": [
    {
     "name": "stdout",
     "output_type": "stream",
     "text": [
      "<itertools.product object at 0x103fc3b40>\n",
      "[(1, 1, 1), (1, 1, 2), (1, 1, 3), (1, 2, 1), (1, 2, 2), (1, 2, 3), (1, 3, 1), (1, 3, 2), (1, 3, 3), (2, 1, 1), (2, 1, 2), (2, 1, 3), (2, 2, 1), (2, 2, 2), (2, 2, 3), (2, 3, 1), (2, 3, 2), (2, 3, 3), (3, 1, 1), (3, 1, 2), (3, 1, 3), (3, 2, 1), (3, 2, 2), (3, 2, 3), (3, 3, 1), (3, 3, 2), (3, 3, 3)]\n"
     ]
    }
   ],
   "source": [
    "# 중복 순열 라이브러리 : 서로 다르거나 같은 원소로 이루어진 순열 생성 라이브러리\n",
    "import itertools\n",
    "\n",
    "mylist = [1,2,3]\n",
    "result = itertools.product(mylist, repeat=3)\n",
    "\n",
    "print(result)\n",
    "print(list(result))"
   ]
  },
  {
   "cell_type": "code",
   "execution_count": 8,
   "metadata": {},
   "outputs": [
    {
     "name": "stdout",
     "output_type": "stream",
     "text": [
      "[[], [1], [2], [1, 2], [3], [1, 3], [2, 3], [1, 2, 3]]\n"
     ]
    }
   ],
   "source": [
    "# 부분집합 구하는 기본 알고리즘\n",
    "\n",
    "set = [1, 2, 3] # 원소들\n",
    "n = len(set) # 원소의 개수\n",
    "subset = [] # 부분 집합\n",
    "subSet = [] # 모든 부분 집합\n",
    "\n",
    "for i in range(1<<n): # 1<<n : 부분집합의 개수, 1*2^1\n",
    "    # subset 개수만큼 반복\n",
    "    # 모든 비트 자리 표현 가능 n이 4일 때 부분 집합의 개수는 2^4 이고\n",
    "    # 1010 이런식으로 각 자리가 포함되었는지 아닌지 확인 가능\n",
    "    # 비트의 각 자리의 원소가 겹치는지 비트 연산을 통해 0000~1111 모든 경우의 수를 확인할 수 있음)\n",
    "    for j in range(n):\n",
    "        if i&(1<<j): # 둘 다 1인 자리만 살아남아서 if문 통과 (i = 01일 때 j = 01, 11이 01로 통과)\n",
    "            subset.append(set[j])\n",
    "    subSet.append(subset)\n",
    "    subset=[]\n",
    "\n",
    "print(subSet)"
   ]
  },
  {
   "cell_type": "code",
   "execution_count": 6,
   "metadata": {},
   "outputs": [
    {
     "name": "stdout",
     "output_type": "stream",
     "text": [
      "[3, 4]\n",
      "[2, 4]\n",
      "[1, 4]\n",
      "[2, 3]\n",
      "[1, 3]\n",
      "[1, 2]\n"
     ]
    }
   ],
   "source": [
    "def comb(n,r):\n",
    "    if r==0:print(tr)\n",
    "    elif n<r : return\n",
    "    else:\n",
    "        tr[r-1]=an[n-1]\n",
    "        comb(n-1, r-1)\n",
    "        comb(n-1, r)\n",
    "\n",
    "an=[1, 2, 3, 4] # n개의 원소를 가지고있는 리스트\n",
    "tr=[0]*2        # 조합이 임시 저장될 r개의 크기의 리스트\n",
    "comb(4,2)"
   ]
  },
  {
   "cell_type": "code",
   "execution_count": 7,
   "metadata": {},
   "outputs": [
    {
     "name": "stdout",
     "output_type": "stream",
     "text": [
      "[(1, 2), (1, 3), (1, 4), (2, 3), (2, 4), (3, 4)]\n"
     ]
    }
   ],
   "source": [
    "# 조합 라이브러리 : 서로 다른 원소로 이루어진 조합\n",
    "import itertools\n",
    "\n",
    "mylist=[1,2,3,4]\n",
    "result = itertools.combinations(mylist, r=2) # r 생략불가\n",
    "print(list(result))"
   ]
  },
  {
   "cell_type": "code",
   "execution_count": 8,
   "metadata": {},
   "outputs": [
    {
     "name": "stdout",
     "output_type": "stream",
     "text": [
      "[(1, 1), (1, 2), (1, 3), (1, 4), (2, 2), (2, 3), (2, 4), (3, 3), (3, 4), (4, 4)]\n"
     ]
    }
   ],
   "source": [
    "# 중복 조합 라이브러리 : 서로 다르거나 같은 원소로 이루어진 조합\n",
    "import itertools\n",
    "\n",
    "mylist=[1,2,3,4]\n",
    "result = itertools.combinations_with_replacement(mylist, r=2) # r 생략불가\n",
    "print(list(result))"
   ]
  }
 ],
 "metadata": {
  "interpreter": {
   "hash": "b0fa6594d8f4cbf19f97940f81e996739fb7646882a419484c72d19e05852a7e"
  },
  "kernelspec": {
   "display_name": "Python 3.9.13 64-bit",
   "language": "python",
   "name": "python3"
  },
  "language_info": {
   "codemirror_mode": {
    "name": "ipython",
    "version": 3
   },
   "file_extension": ".py",
   "mimetype": "text/x-python",
   "name": "python",
   "nbconvert_exporter": "python",
   "pygments_lexer": "ipython3",
   "version": "3.9.13"
  },
  "orig_nbformat": 4
 },
 "nbformat": 4,
 "nbformat_minor": 2
}
