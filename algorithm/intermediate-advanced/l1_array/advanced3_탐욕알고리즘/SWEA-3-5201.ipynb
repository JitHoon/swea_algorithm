{
 "cells": [
  {
   "cell_type": "markdown",
   "metadata": {},
   "source": [
    "### 5201. [파이썬 S/W 문제해결 구현] 3일차 - 컨테이너 운반\n",
    "- https://swexpertacademy.com/main/learn/course/lectureProblemViewer.do"
   ]
  },
  {
   "cell_type": "markdown",
   "metadata": {},
   "source": [
    "- `sorted(list(map(int, input().split())))[::-1]`\n",
    "- `list.remove(value)`"
   ]
  },
  {
   "cell_type": "code",
   "execution_count": null,
   "metadata": {},
   "outputs": [],
   "source": [
    "# 탐욕 알고리즘\n",
    "# 우선적으로 고를 순서로 먼저 데이터 정렬을 한 후\n",
    "# 매 선택마다 어떤 방식으로 최선의 값을 선택할지 생각하여 알고리즘 작성\n",
    "\n",
    "for tc in range(1, int(input())+1):\n",
    "    # 컨테이너 수 N과 트럭 수 M, N개의 화물 무게 wi, M개 트럭의 적재용량 ti (오름, 내림차순 정렬)\n",
    "    N, M = map(int, input().split()); Nw = sorted(list(map(int, input().split())))[::-1]; Mt = sorted(list(map(int, input().split())))[::-1]; result=0;\n",
    "    # 매 선택마다 적재용량이 가장 큰 화물에 화물의 무개가 가장 큰 컨테이너를 담는다.\n",
    "    # 담은 화물의 무게는 데이터에서 삭제한다.\n",
    "    for i in range(M):\n",
    "        for j in Nw:\n",
    "            if (Mt[i] - j) >= 0:\n",
    "                Mt[i] -= j\n",
    "                Nw.remove(j)\n",
    "                result+=j\n",
    "                break\n",
    "    print(f\"#{tc} {result}\")"
   ]
  }
 ],
 "metadata": {
  "language_info": {
   "name": "python"
  },
  "orig_nbformat": 4
 },
 "nbformat": 4,
 "nbformat_minor": 2
}
