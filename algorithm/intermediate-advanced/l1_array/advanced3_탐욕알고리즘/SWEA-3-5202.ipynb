{
 "cells": [
  {
   "cell_type": "markdown",
   "metadata": {},
   "source": [
    "### 5202. [파이썬 S/W 문제해결 구현] 3일차 - 화물 도크\n",
    "- https://swexpertacademy.com/main/solvingProblem/solvingProblem.do"
   ]
  },
  {
   "cell_type": "markdown",
   "metadata": {},
   "source": [
    "-> lambda 함수를 기준으로 데이터 정렬\n",
    "\n",
    "- `sorted(list, key=lambda x : x[1])` (1번 index 값들 기준 오름차순 정렬)\n",
    "- `sorted(list, key=lambda x : -x[1])` (1번 index 값들 기준 내림차순 정렬)"
   ]
  },
  {
   "cell_type": "code",
   "execution_count": null,
   "metadata": {},
   "outputs": [],
   "source": [
    "# 탐욕 알고리즘\n",
    "# 선택의 기준이 되는 것을 기준으로 정렬\n",
    "# 정렬된 데이터를 하나씩 비교하면서 매 순간 최적의 선택\n",
    "\n",
    "# 신청서 N, N개의 줄에 걸쳐 화물차의 작업 시작 시간 s와 종료 시간 e가 주어진다.\n",
    "for tc in range(1, int(input())+1):\n",
    "    N=int(input());D=[tuple(map(int, input().split())) for _ in range(N)];result=1;\n",
    "    # 작업이 일찍 끝나는 순서대로 화물차 정렬\n",
    "    D=sorted(D, key=lambda x : x[1])\n",
    "    # 현재 운행중인 화물차\n",
    "    now=D[0]\n",
    "    for d in D:\n",
    "        # 끝나는 시간과 시작하는 시간을 비교하여 다음 화물타 운행 지정\n",
    "        if now[1]<=d[0]:\n",
    "            now=d\n",
    "            result+=1\n",
    "    print(f\"#{tc} {result}\")"
   ]
  }
 ],
 "metadata": {
  "language_info": {
   "name": "python"
  },
  "orig_nbformat": 4
 },
 "nbformat": 4,
 "nbformat_minor": 2
}
