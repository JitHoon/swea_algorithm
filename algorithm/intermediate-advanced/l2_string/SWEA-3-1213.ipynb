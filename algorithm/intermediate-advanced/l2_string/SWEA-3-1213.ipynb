{
 "cells": [
  {
   "cell_type": "markdown",
   "metadata": {},
   "source": [
    "## [S/W 문제해결 기본] 3일차 - String\n",
    "### 주어지는 영어 문장에서 특정한 문자열의 개수를 반환하는 프로그램을 작성하여라.\n",
    "\n",
    "### [입력] 총 10개의 테스트 케이스가 주어진다.\n",
    "### 문장의 길이는 1000자를 넘어가지 않는다.\n",
    "### 한 문장에서 검색하는 문자열의 길이는 최대 10을 넘지 않는다.\n",
    "### 한 문장에서는 하나의 문자열만 검색한다. \n",
    "### 각 테스트 케이스의 첫 줄에는 테스트 케이스의 번호가 주어지고 그 다음 줄에는 찾을 문자열, 그 다음 줄에는 검색할 문장이 주어진다.\n",
    "\n",
    "\n",
    "### [출력]\n",
    "### #부호와 함께 테스트 케이스의 번호를 출력하고, 공백 문자 후 테스트 케이스의 답을 출력한다\n",
    "\n",
    "#### `입력 1, ti, ~`\n",
    "\n",
    "#### `출력 #1 4\\n#2 2 ....`"
   ]
  },
  {
   "cell_type": "code",
   "execution_count": null,
   "metadata": {},
   "outputs": [],
   "source": [
    "for i in range(10):\n",
    "    test_case = int(input())\n",
    "    search = input()\n",
    "    data = input()\n",
    "    count, result = 0, 0\n",
    "    \n",
    "    for j in range(len(data)-len(search)+1):\n",
    "        if search[0] == data[j]:\n",
    "            count = 0\n",
    "            for k in range(len(search)):\n",
    "                if search[k] == data[j+k]:\n",
    "                    count += 1\n",
    "                    if count == len(search):\n",
    "                        result += 1\n",
    "                        count =0\n",
    "                        break\n",
    "\n",
    "    print(f\"#{test_case} {result}\")"
   ]
  }
 ],
 "metadata": {
  "language_info": {
   "name": "python"
  },
  "orig_nbformat": 4
 },
 "nbformat": 4,
 "nbformat_minor": 2
}
