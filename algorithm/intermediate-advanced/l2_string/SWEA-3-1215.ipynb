{
 "cells": [
  {
   "cell_type": "markdown",
   "metadata": {},
   "source": [
    "## [S/W 문제해결 기본] 3일차 - 회문1\n",
    "### 8x8 평면 글자판에서 제시된 길이를 가진 회문의 개수를 구하라.\n",
    "\n",
    "### [입력] 각 칸의 들어가는 글자는 'A', 'B', 'C' 중 하나이다.\n",
    "### ABA도 회문이며, ABBA도 회문이다. A 또한 길이 1짜리 회문이다.\n",
    "### 가로 또는 세로로 이어진 회문의 개수만 센다.\n",
    "### 총 10개의 테스트 케이스가 주어진다.\n",
    "### 각 테스트 케이스의 첫 번째 줄에는 찾아야 하는 회문의 길이가 주어지며, 다음 줄에 8x8 크기의 글자판이 주어진다.\n",
    "\n",
    "\n",
    "### [출력]\n",
    "### #부호와 함께 테스트 케이스의 번호를 출력하고, 공백 문자 후 찾은 회문의 개수를 출력한다.\n",
    "\n",
    "#### `입력 14 | CBBCBAAB ~`\n",
    "\n",
    "#### `출력 #1 12\\n#2 10 ....`"
   ]
  },
  {
   "cell_type": "code",
   "execution_count": null,
   "metadata": {},
   "outputs": [],
   "source": [
    "# 2차원 array + string\n",
    "for test_case in range(1,11):\n",
    "    length = int(input())\n",
    "    data = [input() for _ in range(8)]\n",
    "    compare = \"\"\n",
    "    count = 0\n",
    "    # 행 check\n",
    "    for i in range(8):\n",
    "        compare = \"\"\n",
    "        for j in range(9-length):\n",
    "            compare=data[i][j:j+length]\n",
    "            if compare == compare[::-1]:\n",
    "                count += 1\n",
    "    # 열 check\n",
    "    for k in range(8):\n",
    "        for l in range(9-length):\n",
    "            compare = \"\"\n",
    "            for m in range(length):\n",
    "                compare += data[l+m][k]\n",
    "            if compare == compare[::-1]:\n",
    "                count += 1\n",
    "    print(f\"#{test_case} {count}\")"
   ]
  }
 ],
 "metadata": {
  "language_info": {
   "name": "python"
  },
  "orig_nbformat": 4
 },
 "nbformat": 4,
 "nbformat_minor": 2
}
