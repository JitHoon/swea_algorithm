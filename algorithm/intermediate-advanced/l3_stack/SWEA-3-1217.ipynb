{
 "cells": [
  {
   "cell_type": "markdown",
   "metadata": {},
   "source": [
    "## [S/W 문제해결 기본] 4일차 - 거듭 제곱\n",
    "### 다음과 같이 두 개의 숫자 N, M이 주어질 때, N의 M 거듭제곱 값을 구하는 프로그램을 재귀호출을 이용하여 구현해 보아라.\n",
    "\n",
    "### [입력] 총 10개의 테스트 케이스가 주어진다.\n",
    "### 결과 값은 Integer 범위를 넘어가지 않는다.\n",
    "### 각 테스트 케이스의 첫 줄에는 테스트 케이스의 번호가 주어지고 그 다음 줄에는 두 개의 숫자가 주어진다.\n",
    "\n",
    "\n",
    "### [출력]\n",
    "### #부호와 함께 테스트 케이스의 번호를 출력하고, 공백 문자 후 테스트 케이스에 대한 답을 출력한다.\n",
    "\n",
    "#### `입력 1 | 9 8 | 2 | 2 8 | ...`\n",
    "\n",
    "#### `출력 #1 43046721\\n#2 256 ....`"
   ]
  },
  {
   "cell_type": "code",
   "execution_count": null,
   "metadata": {},
   "outputs": [],
   "source": [
    "# stack-DP 를 활용한 풀이\n",
    "def expo(p):\n",
    "    global result\n",
    "    \n",
    "    for i in range(1, p):\n",
    "        if i == 0:\n",
    "            result.append(1)\n",
    "        else:\n",
    "            result.append(result[0]*result[i-1])\n",
    "\n",
    "for _ in range(10):\n",
    "    test_case = int(input())\n",
    "    base, power = map(int, input().split())\n",
    "    result = [base]\n",
    "    expo(power)\n",
    "    \n",
    "    print(f\"#{test_case} {result[-1]}\")"
   ]
  }
 ],
 "metadata": {
  "language_info": {
   "name": "python"
  },
  "orig_nbformat": 4
 },
 "nbformat": 4,
 "nbformat_minor": 2
}
