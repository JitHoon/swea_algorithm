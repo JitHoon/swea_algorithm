{
 "cells": [
  {
   "cell_type": "markdown",
   "metadata": {},
   "source": [
    "## [S/W 문제해결 기본] 5일차 - Magnetic\n",
    "### 아래와 같은 테이블에서 일정 간격을 두고 강한 자기장을 걸었을 때, 시간이 흐른 뒤에 자성체들이 서로 충돌하여 테이블 위에 남아있는 교착 상태의 개수를 구하라.\n",
    "\n",
    "### [제약 사항]\n",
    "### 자성체는 테이블 앞뒤 쪽에 있는 N극 또는 S극에만 반응하며 자성체끼리는 전혀 반응하지 않는다.\n",
    "### 테이블의 크기는 100x100으로 주어진다. (예시에서는 설명을 위해 7x7로 주어졌음에 유의)\n",
    "\n",
    "### [입력]\n",
    "### 10개의 테스트 케이`스가 주어진다.\n",
    "### 각 테스트 케이스의 첫 번째 줄에는 정사각형 테이블의 한 변의 길이가 주어진다. (이 값은 항상 100이다)\n",
    "### 그 다음 줄부터 100 x 100크기의 테이블의 초기 모습이 주어진다. 1은 N극 성질을 가지는 자성체를 2는 S극 성질을 가지는 자성체를 의미하며 테이블의 윗부분에 N극이 아래부분에 S극이 위치한다고 가정한다.\n",
    "### (N극 성질을 가지는 자성체는 S극에 이끌리는 성질이 있다.)\n",
    " \n",
    "### [출력]\n",
    "### #부호와 함께 테스트 케이스의 번호를 출력하고, 공백 문자 후 교착 상태의 개수를 출력한다.\n",
    "\n",
    "#### `입력 100 | 1 0 0 0 0 0 0 0 2 ... | 100 | ...`\n",
    "#### `출력 #1 471\\n#2 446 ...`"
   ]
  },
  {
   "cell_type": "code",
   "execution_count": null,
   "metadata": {},
   "outputs": [],
   "source": [
    "# 1은 N극 성질을 가지는 자성체를 2는 S극 성질 (위 N, 아래 S)\n",
    "for tc in range(1,11):\n",
    "    L = int(input());T=[list(map(int, input().split())) for _ in range(L)];result=0;\n",
    "    # 한 열씩 check\n",
    "    for col in range(100):\n",
    "        check=[]\n",
    "        for row in range(100):\n",
    "            if T[row][col]==1:\n",
    "                check.append(T[row][col])\n",
    "            elif T[row][col]==2:\n",
    "                check.append(T[row][col])\n",
    "        # 1 오른쪽 2 왼쪽\n",
    "        # N [1, 2, 1, 2, 1, 1, 2, 2, 1, 2, 2, 1, 1, 2, 1, 2, 2, 1] S\n",
    "        # 1,2 만 count -> 6개\n",
    "        for i in range(len(check)-1):\n",
    "            if check[i]==1 and check[i+1]==2:\n",
    "                result+=1\n",
    "    print(f'#{tc} {result}')"
   ]
  }
 ],
 "metadata": {
  "language_info": {
   "name": "python"
  },
  "orig_nbformat": 4
 },
 "nbformat": 4,
 "nbformat_minor": 2
}
