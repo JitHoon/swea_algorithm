{
 "cells": [
  {
   "cell_type": "markdown",
   "metadata": {},
   "source": [
    "## [S/W 문제해결 기본] 4일차 - 괄호 짝짓기\n",
    "### 4 종류의 괄호문자들 '()', '[]', '{}', '<>' 로 이루어진 문자열이 주어진다.\n",
    "### 이 문자열에 사용된 괄호들의 짝이 모두 맞는지 판별하는 프로그램을 작성한다.\n",
    "\n",
    "### [입력] 각 테스트 케이스의 첫 번째 줄에는 테스트케이스의 길이가 주어지며, 바로 다음 줄에 테스트 케이스가 주어진다.\n",
    "### 총 10개의 테스트케이스가 주어진다.\n",
    "\n",
    "### [출력]\n",
    "### #부호와 함께 테스트 케이스의 번호를 출력하고, 공백 문자 후 유효성 여부를 1 또는 0으로 표시한다 (1 - 유효함, 0 - 유효하지 않음).\n",
    "\n",
    "#### `입력 182 | (({<(({{[[[[<<[[(<[[{([{{{[<[[[{<<(<[[{}[]{}{}[]]]><><... | 298 | ...`\n",
    "\n",
    "#### `출력 #1 1\\n#2 0 ....`"
   ]
  },
  {
   "cell_type": "code",
   "execution_count": null,
   "metadata": {},
   "outputs": [],
   "source": [
    "for test_case in range(1, 11):\n",
    "    length = int(input())\n",
    "    data = input()\n",
    "    stack = []\n",
    "    result = 1\n",
    "    \n",
    "    for i in range(length):\n",
    "        if data[i] == '(' or data[i] == '[' or data[i] == '{' or data[i] == '<':\n",
    "            stack.append(data[i])\n",
    "        else:\n",
    "            if not stack:\n",
    "                result = 0\n",
    "                break\n",
    "            if data[i] == ')':\n",
    "                if stack.pop() == '(':\n",
    "                    continue\n",
    "                else:\n",
    "                    result = 0\n",
    "                    break\n",
    "            elif data[i] == ']':\n",
    "                if stack.pop() == '[':\n",
    "                    continue\n",
    "                else:\n",
    "                    result = 0\n",
    "                    break\n",
    "            elif data[i] == '}':\n",
    "                if stack.pop() == '{':\n",
    "                    continue\n",
    "                else:\n",
    "                    result = 0\n",
    "                    break\n",
    "            elif data[i] == '>':\n",
    "                if stack.pop() == '<':\n",
    "                    continue\n",
    "                else:\n",
    "                    result = 0\n",
    "                    break\n",
    "\n",
    "    if stack:\n",
    "        result = 0\n",
    "        \n",
    "    print(f\"#{test_case} {result}\")"
   ]
  }
 ],
 "metadata": {
  "language_info": {
   "name": "python"
  },
  "orig_nbformat": 4
 },
 "nbformat": 4,
 "nbformat_minor": 2
}
