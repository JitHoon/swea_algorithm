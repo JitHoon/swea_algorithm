{
 "cells": [
  {
   "cell_type": "markdown",
   "metadata": {},
   "source": [
    "## [S/W 문제해결 기본] 4일차 - 길 찾기\n",
    "### 그림과 같이 도식화한 지도에서 A도시에서 출발하여 B도시로 가는 길이 존재하는지 조사하려고 한다.\n",
    "### 길 중간 중간에는 최대 2개의 갈림길이 존재하고, 모든 길은 일방 통행으로 되돌아오는 것이 불가능하다.\n",
    "### 다음과 같이 길이 주어질 때, A도시에서 B도시로 가는 길이 존재하는지 알아내는 프로그램을 작성하여라.\n",
    "\n",
    "### [데이터 저장 방밥]\n",
    "### 정점(분기점)의 개수가 최대 100개 이기 때문에, size [100]의 정적 배열 2개을 선언하여, 각 정점의 번호를 주소로 사용하고, 저장되는 데이터는 각 정점에서 도착하는 정점의 번호를 저장한다.\n",
    "\n",
    "### [입력] 출발점은 0, 도착점은 99으로 표현된다.\n",
    "### 정점(분기점)의 개수는 98개(출발점과 도착점 제외)를 넘어가지 않으며, 한 개의 정점에서 선택할 수 있는 길의 개수도 2개를 넘어가지 않는다.\n",
    "### 각 테스트 케이스의 첫 줄에는 테스트 케이스의 번호와 길의 총 개수가 주어지고 그 다음 줄에는 순서쌍이 주어진다.\n",
    "### 순서쌍의 경우, 별도로 나누어 표현되는 것이 아니라 숫자의 나열이며, 나열된 순서대로 순서쌍을 이룬다.\n",
    "\n",
    "### [출력]\n",
    "### #부호와 함께 테스트 케이스의 번호를 출력하고, 공백 문자 후 테스트 케이스에 대한 답을 출력한다.\n",
    "\n",
    "#### `입력 1 16 | ...`\n",
    "\n",
    "#### `출력 #1 1\\n#2 1 ....`"
   ]
  },
  {
   "cell_type": "code",
   "execution_count": null,
   "metadata": {},
   "outputs": [],
   "source": [
    "def move(node):\n",
    "    global stack1, stack2, visit, result\n",
    "    \n",
    "    if stack1[node] != -1:\n",
    "        if stack1[node] == 99:\n",
    "            result = 1\n",
    "            return\n",
    "        else:\n",
    "            visit.append(stack1[node])\n",
    "            move(stack1[node])\n",
    "            \n",
    "    if stack2[node] != -1:\n",
    "        if stack2[node] == 99:\n",
    "            result = 1\n",
    "            return\n",
    "        else:\n",
    "            visit.append(stack2[node])\n",
    "            move(stack2[node])\n",
    "        \n",
    "    if stack1[node] == -1 and stack2[node] == -1:\n",
    "        visit.pop()\n",
    "        return\n",
    "\n",
    "for _ in range(10):\n",
    "    test_case, length = map(int, input().split())\n",
    "    data = list(map(int, input().split()))\n",
    "    stack1=[-1]*100\n",
    "    stack2=[-1]*100\n",
    "    visit=[0]\n",
    "    result=0\n",
    "    for i in range(len(data)):\n",
    "        if i%2==0:\n",
    "            if stack1[data[i]]==-1:\n",
    "                stack1[data[i]]=data[i+1]\n",
    "            else:\n",
    "                stack2[data[i]]=data[i+1]\n",
    "    move(0)\n",
    "    print(f\"#{test_case} {result}\")"
   ]
  }
 ],
 "metadata": {
  "language_info": {
   "name": "python"
  },
  "orig_nbformat": 4
 },
 "nbformat": 4,
 "nbformat_minor": 2
}
