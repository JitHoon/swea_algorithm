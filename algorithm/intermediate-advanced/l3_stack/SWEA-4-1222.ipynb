{
 "cells": [
  {
   "cell_type": "markdown",
   "metadata": {},
   "source": [
    "## [S/W 문제해결 기본] 5일차 - 계산기1\n",
    "### 문자열로 이루어진 계산식이 주어질 때, 이 계산식을 후위 표기식으로 바꾸어 계산하는 프로그램을 작성하시오.\n",
    "\n",
    "### [입력]\n",
    "### 각 테스트 케이스의 첫 번째 줄에는 문자열 계산식의 길이가 주어진다. 그 다음 줄에 문자열 계산식이 주어진다.\n",
    "### 총 10개의 테스트 케이스가 주어진다.\n",
    "\n",
    "### [출력]\n",
    "### #부호와 함께 테스트 케이스의 번호를 출력하고, 공백 문자 후 답을 출력한다.\n",
    "\n",
    "#### `입력 101 | 8+9+...`\n",
    "\n",
    "#### `출력 #1 267\\n#2 197 ....`"
   ]
  },
  {
   "cell_type": "code",
   "execution_count": null,
   "metadata": {},
   "outputs": [],
   "source": [
    "# 기본 stack 문제 후위 표기식\n",
    "for test_case in range(1,11):\n",
    "    length = int(input())\n",
    "    data = input()\n",
    "    stack1 = []\n",
    "    stack2 = []\n",
    "    result = 0\n",
    "    \n",
    "    for i in range(length):\n",
    "        if data[i]=='+':\n",
    "            if stack1:\n",
    "                if stack1[-1]=='+':\n",
    "                    stack2.append(stack1.pop())\n",
    "                    stack1.append(data[i])\n",
    "                else:\n",
    "                    stack1.append(data[i])\n",
    "            else:\n",
    "                stack1.append(data[i])\n",
    "        else:\n",
    "            stack2.append(data[i])\n",
    "    stack2.append(stack1.pop())\n",
    "    \n",
    "    for j in range(length):\n",
    "        if stack2[j]=='+':\n",
    "            back = int(stack1.pop())\n",
    "            front = int(stack1.pop())\n",
    "            result = front+back\n",
    "            stack1.append(result)\n",
    "        else:\n",
    "            stack1.append(stack2[j])\n",
    "    \n",
    "    print(f\"#{test_case} {result}\")"
   ]
  }
 ],
 "metadata": {
  "language_info": {
   "name": "python"
  },
  "orig_nbformat": 4
 },
 "nbformat": 4,
 "nbformat_minor": 2
}
