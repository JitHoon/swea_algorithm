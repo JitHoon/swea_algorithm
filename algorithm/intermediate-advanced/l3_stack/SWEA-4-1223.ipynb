{
 "cells": [
  {
   "cell_type": "markdown",
   "metadata": {},
   "source": [
    "## [S/W 문제해결 기본] 5일차 - 계산기2\n",
    "### 문자열로 이루어진 계산식이 주어질 때, 이 계산식을 후위 표기식으로 바꾸어 계산하는 프로그램을 작성하시오.\n",
    "### 문자열 계산식을 구성하는 연산자는 +, * 두 종류이며 피연산자인 숫자는 0 ~ 9의 정수만 주어진다.\n",
    "\n",
    "### [입력]\n",
    "### 각 테스트 케이스의 첫 번째 줄에는 테스트 케이스의 길이가 주어진다. 그 다음 줄에 바로 테스트 케이스가 주어진다.\n",
    "### 총 10개의 테스트 케이스가 주어진다.\n",
    "\n",
    "### [출력]\n",
    "### #부호와 함께 테스트 케이스의 번호를 출력하고, 공백 문자 후 답을 출력한다.\n",
    "\n",
    "#### `입력 101 | 6+5*2...`\n",
    "\n",
    "#### `출력 #1 28134\\n#2 195767 ....`"
   ]
  },
  {
   "cell_type": "code",
   "execution_count": null,
   "metadata": {},
   "outputs": [],
   "source": [
    "# stack 기본 문제 후위 표기식\n",
    "for test_case in range(1, 11):\n",
    "    length = int(input())\n",
    "    data = input()\n",
    "    number = []\n",
    "    oper = []\n",
    "    result = 0\n",
    "    \n",
    "    for i in range(length):\n",
    "        if data[i]=='+' or data[i]=='*':\n",
    "            if oper:\n",
    "                if data[i]=='+':\n",
    "                    while oper:\n",
    "                        number.append(oper.pop())\n",
    "                    oper.append(data[i])\n",
    "                elif data[i]=='*':\n",
    "                    if oper:\n",
    "                        while oper[-1]=='*':\n",
    "                            number.append(oper.pop())\n",
    "                            if not oper:\n",
    "                                break\n",
    "                        oper.append(data[i])\n",
    "                    else:\n",
    "                        oper.append(data[i])\n",
    "            else:\n",
    "                oper.append(data[i])\n",
    "        else:\n",
    "            number.append(int(data[i]))\n",
    "            \n",
    "    for _ in range(len(oper)):\n",
    "        number.append(oper.pop())\n",
    "    \n",
    "    for j in range(length):\n",
    "        if number[j]=='+':\n",
    "            back = int(oper.pop())\n",
    "            front = int(oper.pop())\n",
    "            result = front + back\n",
    "            oper.append(result)\n",
    "        elif number[j]=='*':\n",
    "            back = int(oper.pop())\n",
    "            front = int(oper.pop())\n",
    "            result = front * back\n",
    "            oper.append(result)\n",
    "        else:\n",
    "            oper.append(number[j])\n",
    "        \n",
    "    print(f\"#{test_case} {result}\")"
   ]
  }
 ],
 "metadata": {
  "language_info": {
   "name": "python"
  },
  "orig_nbformat": 4
 },
 "nbformat": 4,
 "nbformat_minor": 2
}
