{
 "cells": [
  {
   "cell_type": "markdown",
   "metadata": {},
   "source": [
    "## [S/W 문제해결 기본] 6일차 - 암호생성기\n",
    "### 다음 첫 번째 수는 2 감소한 뒤 맨 뒤로, 그 다음 첫 번째 수는 3을 감소하고 맨 뒤로, 그 다음 수는 4, 그 다음 수는 5를 감소한다.\n",
    "### 이와 같은 작업을 한 사이클이라 한다.\n",
    "### 숫자가 감소할 때 0보다 작아지는 경우 0으로 유지되며, 프로그램은 종료된다. 이 때의 8자리의 숫자 값이 암호가 된다.\n",
    "\n",
    "### [입력]\n",
    "### 각 테스트 케이스의 첫 줄에는 테스트 케이스의 번호가 주어지고, 그 다음 줄에는 8개의 데이터가 주어진다.\n",
    " \n",
    "### [출력]\n",
    "### #부호와 함께 테스트케이스의 번호를 출력하고, 공백 문자 후 테스트 케이스의 답을 출력한다.\n",
    "\n",
    "#### `입력 1 | 9550 9556 9550 9553 9558 9551 9551 9551 | ...`\n",
    "#### `출력 #1 6 2 2 9 4 1 3 0\\n#2 9 7 9 5 4 3 8 0 ...`"
   ]
  },
  {
   "cell_type": "code",
   "execution_count": null,
   "metadata": {},
   "outputs": [],
   "source": [
    "# que 기본 문제\n",
    "for _ in range(10):\n",
    "    tc = int(input())\n",
    "    q = list(map(int, input().split()))\n",
    "    # 연산하는 변수\n",
    "    a = 0\n",
    "    while q[-1]!=0:\n",
    "        for i in range(1,6):\n",
    "            a = q.pop(0) - i\n",
    "            if a <= 0:\n",
    "                q.append(0)\n",
    "                print(f\"#{tc} {' '.join(map(str, q))}\")\n",
    "                break\n",
    "            else:\n",
    "                q.append(a)"
   ]
  }
 ],
 "metadata": {
  "language_info": {
   "name": "python"
  },
  "orig_nbformat": 4
 },
 "nbformat": 4,
 "nbformat_minor": 2
}
