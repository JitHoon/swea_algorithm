{
 "cells": [
  {
   "cell_type": "markdown",
   "metadata": {},
   "source": [
    "## [S/W 문제해결 기본] 7일차 - 암호문1\n",
    "### 1. I(삽입) x, y, s : 앞에서부터 x의 위치 바로 다음에 y개의 숫자를 삽입한다. s는 덧붙일 숫자들이다.[ ex) I 3 2 123152 487651 ]\n",
    "### 위의 규칙에 맞게 작성된 명령어를 나열하여 만든 문자열이 주어졌을 때, 암호문을 수정하고, 수정된 결과의 처음 10개 숫자를 출력하는 프로그램을 작성하여라.\n",
    "\n",
    "### [입력] 첫 번째 줄 : 원본 암호문의 길이 N ( 10 ≤ N ≤ 20 의 정수)\n",
    "\n",
    "### 두 번째 줄 : 원본 암호문\n",
    "### 세 번째 줄 : 명령어의 개수 ( 5 ≤ N ≤ 10 의 정수)\n",
    "### 네 번째 줄 : 명령어\n",
    "### 위와 같은 네 줄이 한 개의 테스트 케이스이며, 총 10개의 테스트 케이스가 주어진다.\n",
    "\n",
    "### [출력]\n",
    "### #기호와 함께 테스트 케이스의 번호를 출력하고, 공백 문자 후 수정된 암호문의 처음 10개 항을 출력한다.\n",
    "\n",
    "#### `입력 11 | 449047 855428 425117 532416 358612 929816 | 7 | I 1 5 400905 ...`\n",
    "\n",
    "#### `출력 #1 449047 400905 139831 408347 512816 992679 693002 835918 768525 949227\\n#2 ....`"
   ]
  },
  {
   "cell_type": "code",
   "execution_count": null,
   "metadata": {},
   "outputs": [],
   "source": [
    "# list slice 기본 문제\n",
    "for tc in range(1, 11):\n",
    "    # 원본 암호문의 길이, 원본 암호문(str), 명령어의 개수, 명령어(str)\n",
    "    N=int(input()); d=list(map(str, input().split())); Cn=int(input()); C=list(map(str, input().split())); result = ''\n",
    "    for i, v in enumerate(C):\n",
    "        idx=0\n",
    "        if v=='I':\n",
    "            idx=int(C[i+1]); An=int(C[i+2])\n",
    "            d[idx:idx]=C[i+3:i+3+n]\n",
    "            #d=d[:idx]+C[i+3:i+3+An]+d[idx:]\n",
    "    result=d[:10]\n",
    "    print(f\"#{tc} {' '.join(result)}\")"
   ]
  }
 ],
 "metadata": {
  "language_info": {
   "name": "python"
  },
  "orig_nbformat": 4
 },
 "nbformat": 4,
 "nbformat_minor": 2
}
