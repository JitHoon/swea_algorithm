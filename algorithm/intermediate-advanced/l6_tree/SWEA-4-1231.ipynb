{
 "cells": [
  {
   "cell_type": "markdown",
   "metadata": {},
   "source": [
    "## [S/W 문제해결 기본] 8일차 - 중위순회\n",
    "### 주어진 트리를 in-order 형식으로 순회했을때 나오는 단어를 출력하라.\n",
    "\n",
    "### [입력] 총 10개의 테스트 케이스가 주어진다.\n",
    "### 각 테스트 케이스의 첫 줄에는 트리가 갖는 정점의 총 수 N(1≤N≤100)이 주어진다. 그 다음 N줄에 걸쳐 각각의 정점 정보가 주어진다.\n",
    "### 정점 정보는 해당 정점의 문자, 해당 정점의 왼쪽 자식, 오른쪽 자식의 정점 번호 순서로 주어진다.\n",
    "### 정점 번호는 1부터 N까지의 정수로 구분된다. 정점 번호를 매기는 규칙은 위 와 같으며, 루트 정점의 번호는 항상 1이다.\n",
    "### 위의 예시에서,  알파벳 ‘F’가 2번 정점에 해당하고 두 자식이 각각 알파벳 ‘O’인 4번 정점과 알파벳 ‘T’인 5번 정점이므로 “2 F 4 5”로 주어진다.\n",
    "### 알파벳 S는 8번 정점에 해당하므로 “8 S” 로 주어진다.\n",
    "\n",
    "### [출력]\n",
    "### #부호와 함께 테스트 케이스의 번호를 출력하고, 공백 문자 후 테스트 케이스의 답을 출력한다.\n",
    "\n",
    "#### `입력 8 | 1 W 2 3 ... `\n",
    "\n",
    "#### `출력 #1 SOFTWARE \\n#2 ....`"
   ]
  },
  {
   "cell_type": "code",
   "execution_count": null,
   "metadata": {},
   "outputs": [],
   "source": [
    "# tree inorder traversal\n",
    "def preorder(idx):\n",
    "    global tree\n",
    "    temp = ''\n",
    "    temp += tree[idx]\n",
    "    if idx*2 < len(tree):\n",
    "        temp += preorder(idx*2)\n",
    "    if idx*2 + 1 < len(tree):\n",
    "        temp += preorder(idx*2+1)\n",
    "    return temp\n",
    "\n",
    "def inorder(idx):\n",
    "    global tree\n",
    "    temp = ''\n",
    "    if idx*2 < len(tree):\n",
    "        temp += inorder(idx*2)\n",
    "    temp += tree[idx]\n",
    "    if idx*2 + 1 < len(tree):\n",
    "        temp += inorder(idx*2+1)\n",
    "    return temp\n",
    "\n",
    "def postorder(idx):\n",
    "    global tree\n",
    "    temp = ''\n",
    "    temp += tree[idx]\n",
    "    if idx*2 < len(tree):\n",
    "        temp += postorder(idx*2)\n",
    "    if idx*2 + 1 < len(tree):\n",
    "        temp += postorder(idx*2+1)\n",
    "    return temp\n",
    "\n",
    "for tc in range(1,11):\n",
    "    N=int(input());tree = [0] * (N+1);D=[list(map(str,input().split())) for _ in range(N)];result=D[-1][1];\n",
    "    for i in range(N):\n",
    "        tree[i+1]=D[i][1]\n",
    "    preorder(1)\n",
    "    inorder(1)\n",
    "    postorder(1)\n",
    "    print(f'#{tc} {inorder(1)}')"
   ]
  }
 ],
 "metadata": {
  "language_info": {
   "name": "python"
  },
  "orig_nbformat": 4
 },
 "nbformat": 4,
 "nbformat_minor": 2
}
