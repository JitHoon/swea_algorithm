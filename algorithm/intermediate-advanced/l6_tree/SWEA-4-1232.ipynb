{
 "cells": [
  {
   "cell_type": "markdown",
   "metadata": {},
   "source": [
    "## [S/W 문제해결 기본] 8일차 - 사칙연산\n",
    "### 사칙연산 “+, -, *, /”와 양의 정수로만 구성된 임의의 이진 트리가 주어질 때, 이를 계산한 결과를 출력하는 프로그램을 작성하라.\n",
    "\n",
    "### [제약 사항]\n",
    "### 계산 중간 과정에서의 연산은 모두 실수 연산으로 한다.s\n",
    "\n",
    "### [입력]\n",
    "### 총 10개의 테스트 케이스가 주어진다.\n",
    "### 각 테스트 케이스의 첫 줄에는 정점의 개수 N(1≤N≤1000)이 주어진다. 그다음 N 줄에 걸쳐 각 정점의 정보가 주어진다.\n",
    "### 정점이 정수면 정점 번호와 양의 정수가 주어지고, 정점이 연산자이면 정점 번호, 연산자, 해당 정점의 왼쪽 자식, 오른쪽 자식의 정점 번호가 차례대로 주어진다.\n",
    "### 정점 번호는 1부터 N까지의 정수로 구분된고 루트 정점의 번호는 항상 1이다.\n",
    "### 위의 예시에서, 숫자 4가 7번 정점에 해당하면 “7 4”으로 주어지고, 연산자 ‘/’가 2번 정점에 해당하면 두 자식이 각각 숫자 9인 4번 정점과 연산자 ‘-’인 5번 정점이므로 “2 / 4 5”로 주어진다.\n",
    "\n",
    "### [출력]\n",
    "### 각 테스트케이스마다 '#t'(t는 테스트케이스 번호를 의미하며 1부터 시작한다)를 출력하고 사칙연산을 계산한 결과값을 출력한다.\n",
    "### 결과값은 소수점 아래는 버리고 정수로 출력한다.\n",
    "\n",
    "#### `입력 5 | 1 - 2 3 ... `\n",
    "\n",
    "#### `출력 #1 13 \\n#2 20 ....`"
   ]
  },
  {
   "cell_type": "code",
   "execution_count": null,
   "metadata": {},
   "outputs": [],
   "source": [
    "# tree, levelorder\n",
    "# str형 float : '7.0' 바로 int형으로 변환 불가능\n",
    "# → int(str) 불가능\n",
    "# → int(float(str)) 가능\n",
    "\n",
    "def O(d):\n",
    "    global D\n",
    "    if d[1] == '+':\n",
    "        return float(D[int(d[2])-1][1]) + float(D[int(d[3])-1][1])\n",
    "    elif d[1] == '-':\n",
    "        return float(D[int(d[2])-1][1]) - float(D[int(d[3])-1][1])\n",
    "    elif d[1] == '*':\n",
    "        return float(D[int(d[2])-1][1]) * float(D[int(d[3])-1][1])\n",
    "    elif d[1] == '/':\n",
    "        return float(D[int(d[2])-1][1]) / float(D[int(d[3])-1][1])\n",
    "\n",
    "def C(n):\n",
    "    global D, result\n",
    "    if D[n][1] == '+' or D[n][1] == '-' or D[n][1] == '*' or D[n][1] == '/':\n",
    "        D[n][1] = str(O(D[n]))\n",
    "    if n>0:\n",
    "        C(n-1)\n",
    "    elif n==0:\n",
    "        result = D[n][1]\n",
    "        return\n",
    "\n",
    "for T  in range(1, 11):\n",
    "    N=int(input());D=[list(map(str, input().split())) for _ in range(N)];result=0;\n",
    "    C(N-1)\n",
    "    print(f\"#{T} {int(float(result))}\")"
   ]
  }
 ],
 "metadata": {
  "language_info": {
   "name": "python"
  },
  "orig_nbformat": 4
 },
 "nbformat": 4,
 "nbformat_minor": 2
}
