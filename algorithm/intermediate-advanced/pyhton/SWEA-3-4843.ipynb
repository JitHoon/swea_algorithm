{
 "cells": [
  {
   "cell_type": "markdown",
   "metadata": {},
   "source": [
    "## [파이썬 S/W 문제해결 기본] 2일차 - 특별한 정렬\n",
    "### N개의 정수가 주어지면 가장 큰 수, 가장 작은 수, 2번째 큰 수, 2번째 작은 수 식으로 큰 수와 작은 수를 번갈아 정렬하는 방법이다.\n",
    "\n",
    "### [입력] 첫 줄에 테스트 케이스 개수 T가 주어진다.  1<=T<=50\n",
    "### 다음 줄에 정수의 개수 N이 주어지고 다음 줄에 N개의 정수 ai가 주어진다. 10<=N<=100, 1<=ai<=100\n",
    "\n",
    "### [출력]\n",
    "### 각 줄마다 \"#T\" (T는 테스트 케이스 번호)를 출력한 뒤, 특별히 정렬된 숫자를 10개까지 출력한다.\n",
    "\n",
    "#### `입력 3 | 10 | 1 2 3 4 5 6 7 8 9 10 | 10 | 67 39 16 49 60 28 8 85 89 11 | 20 | 3 69 21 46 43 60 62 97 64 30 17 88 18 98 71 75 59 36 9 26`\n",
    "\n",
    "#### `출력 #1 10 1 9 2 8 3 7 4 6 5 | #2 89 8 85 11 67 16 60 28 49 39 | #3 98 3 97 9 88 17 75 18 71 21`"
   ]
  },
  {
   "cell_type": "code",
   "execution_count": 1,
   "metadata": {},
   "outputs": [
    {
     "name": "stdout",
     "output_type": "stream",
     "text": [
      "#1 10 1 9 2 8 3 7 4 6 5\n",
      "#2 89 8 85 11 67 16 60 28 49 39\n",
      "#3 98 3 97 9 88 17 75 18 71 21\n"
     ]
    }
   ],
   "source": [
    "for A in range(int(input())):\n",
    "    B = range(int(input()))\n",
    "    C = list(map(int, input().split()))\n",
    "    result=[]\n",
    "\n",
    "    ascending_order = sorted(C)\n",
    "    descending_order = sorted(C, reverse=True)\n",
    "\n",
    "    for i in range(5):\n",
    "        result.append(str(descending_order[i]))\n",
    "        result.append(str(ascending_order[i]))\n",
    "\n",
    "    print(\"#{0} {1}\".format(A+1, ' '.join(result)))"
   ]
  }
 ],
 "metadata": {
  "interpreter": {
   "hash": "31f2aee4e71d21fbe5cf8b01ff0e069b9275f58929596ceb00d14d90e3e16cd6"
  },
  "kernelspec": {
   "display_name": "Python 3.9.6 64-bit",
   "language": "python",
   "name": "python3"
  },
  "language_info": {
   "codemirror_mode": {
    "name": "ipython",
    "version": 3
   },
   "file_extension": ".py",
   "mimetype": "text/x-python",
   "name": "python",
   "nbconvert_exporter": "python",
   "pygments_lexer": "ipython3",
   "version": "3.9.6"
  },
  "orig_nbformat": 4
 },
 "nbformat": 4,
 "nbformat_minor": 2
}
