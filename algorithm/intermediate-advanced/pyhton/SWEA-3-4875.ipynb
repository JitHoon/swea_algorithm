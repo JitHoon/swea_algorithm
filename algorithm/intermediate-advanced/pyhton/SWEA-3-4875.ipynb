{
 "cells": [
  {
   "cell_type": "markdown",
   "metadata": {},
   "source": [
    "## [파이썬 S/W 문제해결 기본] 5일차 - 미로\n",
    "### NxN 크기의 미로에서 출발지에서 목적지에 도착하는 경로가 존재하는지 확인하는 프로그램을 작성하시오. 도착할 수 있으면 1, 아니면 0을 출력한다.\n",
    "\n",
    "### [입력] 첫 줄에 테스트 케이스 개수 T가 주어진다.  1≤T≤50\n",
    "### 다음 줄부터 테스트 케이스 별로 온전한 형태이거나 괄호만 남긴 한 줄의 코드가 주어진다.\n",
    "\n",
    "### [출력]\n",
    "### 각 줄마다 \"#T\" (T는 테스트 케이스 번호)를 출력한 뒤, 답을 출력한다.\n",
    "\n",
    "#### `입력 3 | 5 | 13101 10101 10101 10101 10021`\n",
    "\n",
    "#### `출력 #1 1 | #2 1 | #3 0`"
   ]
  },
  {
   "cell_type": "code",
   "execution_count": 1,
   "metadata": {},
   "outputs": [
    {
     "name": "stdout",
     "output_type": "stream",
     "text": [
      "#1 1\n"
     ]
    }
   ],
   "source": [
    "# dfs 기본 문제\n",
    "\n",
    "def dfs(x, y):\n",
    "    # 이동한 횟수와 같은 방문 기록이 필요 없으므로 visited 필요 x\n",
    "    global result\n",
    "    data[x][y] = 1\n",
    "\n",
    "    # 가까운 길을 모두 확인하므로 dfs\n",
    "    for d in range(4):\n",
    "        xf = dx[d] + x\n",
    "        yf = dy[d] + y\n",
    "\n",
    "        if (0<= xf < N) and (0 <= yf < N):\n",
    "            # 길이 있다면 계속 진행\n",
    "            if data[xf][yf] == 0:\n",
    "              dfs(xf, yf)\n",
    "            # 3을 만나면 길을 찾았다는 뜻이므로 result = 1 만 해주고 종료\n",
    "            elif data[xf][yf] == 3:\n",
    "                result = 1\n",
    "                return\n",
    " \n",
    "for A in range(int(input())):\n",
    "    N = int(input())\n",
    "    data = [list(map(int, input())) for n in range(N)]\n",
    "    result = 0\n",
    "\n",
    "    # 델타 탐색: 위 아래 우 좌\n",
    "    dx = [1, -1, 0, 0]\n",
    "    dy = [0, 0, 1, -1]\n",
    " \n",
    "    for row in range(N):\n",
    "        for col in range(N):\n",
    "            if data[row][col] == 2:\n",
    "                dfs(row, col)\n",
    " \n",
    "    print(\"#%d %d\"%(A+1, result))"
   ]
  }
 ],
 "metadata": {
  "interpreter": {
   "hash": "b0fa6594d8f4cbf19f97940f81e996739fb7646882a419484c72d19e05852a7e"
  },
  "kernelspec": {
   "display_name": "Python 3.9.13 64-bit",
   "language": "python",
   "name": "python3"
  },
  "language_info": {
   "codemirror_mode": {
    "name": "ipython",
    "version": 3
   },
   "file_extension": ".py",
   "mimetype": "text/x-python",
   "name": "python",
   "nbconvert_exporter": "python",
   "pygments_lexer": "ipython3",
   "version": "3.9.13"
  },
  "orig_nbformat": 4
 },
 "nbformat": 4,
 "nbformat_minor": 2
}
