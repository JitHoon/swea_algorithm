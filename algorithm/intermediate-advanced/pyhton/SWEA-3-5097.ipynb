{
 "cells": [
  {
   "cell_type": "markdown",
   "metadata": {},
   "source": [
    "## [파이썬 S/W 문제해결 기본] 6일차 - 회전\n",
    "### N개의 숫자로 이루어진 수열이 주어진다. 맨 앞의 숫자를 맨 뒤로 보내는 작업을 M번 했을 때, 수열의 맨 앞에 있는 숫자를 출력하는 프로그램을 만드시오.\n",
    "\n",
    "### [입력] 첫 줄에 테스트 케이스 개수 T가 주어진다.  1<=T<=50\n",
    "### 다음 줄부터 테스트 케이스의 첫 줄에 N과 M이 주어지고, 다음 줄에 10억 이하의 자연수 N개가 주어진다. 3<=N<=20, N<=M<=1000,\n",
    "\n",
    "### [출력]\n",
    "### 각 줄마다 \"#T\" (T는 테스트 케이스 번호)를 출력한 뒤, 번호를 출력한다.\n",
    "\n",
    "#### `입력 3 | 3 10 | 5527 731 31274`\n",
    "\n",
    "#### `출력 #1 731\\n#2 18641\\n#3 2412`"
   ]
  },
  {
   "cell_type": "code",
   "execution_count": 1,
   "metadata": {},
   "outputs": [
    {
     "name": "stdout",
     "output_type": "stream",
     "text": [
      "#1 731\n"
     ]
    }
   ],
   "source": [
    "# 5097. [파이썬 S/W 문제해결 기본] 6일차 - 회전\n",
    "# 원형 Queue 에서 사용되는 % 연산을 통해 M번째 이동후 값 출력\n",
    "\n",
    "for A in range(int(input())):\n",
    "    N, M = map(int, input().split())\n",
    "    data = list(map(int, input().split()))\n",
    "    result = data[M%N]\n",
    "    \n",
    "    print(\"#{0} {1}\".format(A+1, result))"
   ]
  }
 ],
 "metadata": {
  "interpreter": {
   "hash": "b0fa6594d8f4cbf19f97940f81e996739fb7646882a419484c72d19e05852a7e"
  },
  "kernelspec": {
   "display_name": "Python 3.9.13 64-bit",
   "language": "python",
   "name": "python3"
  },
  "language_info": {
   "codemirror_mode": {
    "name": "ipython",
    "version": 3
   },
   "file_extension": ".py",
   "mimetype": "text/x-python",
   "name": "python",
   "nbconvert_exporter": "python",
   "pygments_lexer": "ipython3",
   "version": "3.9.13"
  },
  "orig_nbformat": 4
 },
 "nbformat": 4,
 "nbformat_minor": 2
}
