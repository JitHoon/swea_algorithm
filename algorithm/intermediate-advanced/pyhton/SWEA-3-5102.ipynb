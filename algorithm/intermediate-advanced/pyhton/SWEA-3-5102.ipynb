{
 "cells": [
  {
   "cell_type": "markdown",
   "metadata": {},
   "source": [
    "## [파이썬 S/W 문제해결 기본] 6일차 - 노드의 거리\n",
    "### V개의 노드 개수와 방향성이 없는 E개의 간선 정보가 주어진다. 주어진 출발 노드에서 최소 몇 개의 간선을 지나면 도착 노드에 갈 수 있는지 알아내는 프로그램을 만드시오.\n",
    "\n",
    "### [입력] 첫 줄에 테스트 케이스 개수 T가 주어진다.  1<=T<=50\n",
    "### 다음 줄부터 테스트 케이스의 첫 줄에 V와 E가 주어진다. 5<=V=50, 4<=E<=1000\n",
    "### 테스트케이스의 둘째 줄부터 E개의 줄에 걸쳐, 간선의 양쪽 노드 번호가 주어진다.\n",
    "### E개의 줄 이후에는 출발 노드 S와 도착 노드 G가 주어진다.\n",
    "\n",
    "### [출력]\n",
    "### 각 줄마다 \"#T\" (T는 테스트 케이스 번호)를 출력한 뒤, 답을 출력한다.\n",
    "### 두 노드 S와 G가 서로 연결되어 있지 않다면, 0을 출력한다.\n",
    "\n",
    "#### `입력 3 | 3 | 6 5 | 1 4 | 1 3 | 2 3 | 2 5 | 4 6 |1 6`\n",
    "\n",
    "#### `출력 #1 2\\n#2 4\\n#3 3`"
   ]
  },
  {
   "cell_type": "code",
   "execution_count": 1,
   "metadata": {},
   "outputs": [
    {
     "name": "stdout",
     "output_type": "stream",
     "text": [
      "[4]\n",
      "[4, 3]\n",
      "[4, 3]\n",
      "[4, 3]\n",
      "[4, 3]\n",
      "[3]\n",
      "[3]\n",
      "[3]\n",
      "[3]\n",
      "[3, 6]\n",
      "[6]\n",
      "[6]\n",
      "[6, 2]\n",
      "[6, 2]\n",
      "[6, 2]\n",
      "[2]\n",
      "[2]\n",
      "[2]\n",
      "[2]\n",
      "[2]\n",
      "[]\n",
      "[]\n",
      "[]\n",
      "[5]\n",
      "[5]\n",
      "[]\n",
      "[]\n",
      "[]\n",
      "[]\n",
      "[]\n",
      "#1 2\n"
     ]
    }
   ],
   "source": [
    "# 5102. [파이썬 S/W 문제해결 기본] 6일차 - 노드의 거리\n",
    "# 가장 대표적인 bfs\n",
    "# 방문 시 가장 맨 앞 q를 pop 해주면서\n",
    "# for문이 '특정 방향이 아닌' 전체 road를 쭉 돌면서 길을 확인하고\n",
    "# 조건이 맞을 때 갈 수 있는 모든 node를 q에 append 하기 때문에 (방문 표시)\n",
    "# bfs가 가능해진다.\n",
    "\n",
    "def bfs(n):\n",
    "    q = [] # 노드 번호만 넣는 큐\n",
    "    q.append(n)\n",
    "    visited[n] = True\n",
    "    \n",
    "    while q: # 큐가 빌 때까지 \n",
    "        n = q.pop(0) # 앞부터 pop\n",
    "        for j in range(road_num):\n",
    "            if road[j][0] == n and visited[road[j][1]] == False: #  앞\n",
    "                next = road[j][1]\n",
    "                q.append(next)\n",
    "                record[next] = record[n] + 1\n",
    "                visited[next] = True\n",
    " \n",
    "            if road[j][1] == n and visited[road[j][0]] == False: #  뒤\n",
    "                next = road[j][0]\n",
    "                q.append(next)\n",
    "                record[next] = record[n] + 1\n",
    "                visited[next] = True\n",
    "            print(q)\n",
    "\n",
    "for i in range(1, 1 + int(input())):\n",
    "    node_num, road_num = map(int, input().split())\n",
    "    road = [list(map(int, input().split())) for _ in range(road_num)]\n",
    "    start, end = map(int, input().split())\n",
    " \n",
    "    visited = [False] + list([False]*node_num)\n",
    "    record = [0]+ list([0]*node_num)\n",
    "\n",
    "    bfs(start)\n",
    " \n",
    "    print(f\"#{i}\", record[end])"
   ]
  }
 ],
 "metadata": {
  "interpreter": {
   "hash": "b0fa6594d8f4cbf19f97940f81e996739fb7646882a419484c72d19e05852a7e"
  },
  "kernelspec": {
   "display_name": "Python 3.9.13 64-bit",
   "language": "python",
   "name": "python3"
  },
  "language_info": {
   "codemirror_mode": {
    "name": "ipython",
    "version": 3
   },
   "file_extension": ".py",
   "mimetype": "text/x-python",
   "name": "python",
   "nbconvert_exporter": "python",
   "pygments_lexer": "ipython3",
   "version": "3.9.13"
  },
  "orig_nbformat": 4
 },
 "nbformat": 4,
 "nbformat_minor": 2
}
