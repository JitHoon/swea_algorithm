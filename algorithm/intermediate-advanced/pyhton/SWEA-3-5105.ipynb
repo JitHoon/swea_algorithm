{
 "cells": [
  {
   "cell_type": "markdown",
   "metadata": {},
   "source": [
    "## [파이썬 S/W 문제해결 기본] 6일차 - 미로의 거리\n",
    "### NxN 크기의 미로에서 출발지 목적지가 주어진다. 이때 최소 몇 개의 칸을 지나면 출발지에서 도착지에 다다를 수 있는지 알아내는 프로그램을 작성하시오.\n",
    "\n",
    "### [입력] 첫 줄에 테스트 케이스 개수 T가 주어진다.  1<=T<=50\n",
    "### 다음 줄부터 테스트 케이스의 별로 미로의 크기 N과 N개의 줄에 걸쳐 미로의 통로와 벽에 대한 정보가 주어진다. 5<=N<=100\n",
    "### 0은 통로, 1은 벽, 2는 출발, 3은 도착이다.\n",
    "\n",
    "### [출력]\n",
    "### 각 줄마다 \"#T\" (T는 테스트 케이스 번호)를 출력한 뒤, 답을 출력한다.\n",
    "\n",
    "#### `입력 3 | 5 | 13101 10101 10101 10101 10021`\n",
    "\n",
    "#### `출력 #1 5 | #2 5 | #3 0`"
   ]
  },
  {
   "cell_type": "code",
   "execution_count": null,
   "metadata": {},
   "outputs": [],
   "source": [
    "# 5105. [파이썬 S/W 문제해결 기본] 6일차 - 미로의 거리\n",
    "# BFS\n",
    "# 0으로 이루어진 Distance 미로에 지나온 횟수를 증가시키면서 기록해두면\n",
    "# 길을 잘못 들어갔을 때 다시 되돌아오면서 count를 새롭게 할 필요가 없다.\n",
    "# 3을 만나면 카운트한 값을 받아오면 끝.\n",
    "\n",
    "def BFS(r, c):\n",
    "    global result\n",
    "\n",
    "    Q.append((r, c))\n",
    "    visited.append((r, c))\n",
    "\n",
    "    while Q:\n",
    "        r, c = Q.pop(0)\n",
    "\n",
    "        for dir in range(4):\n",
    "            NewR = r + dy[dir]\n",
    "            NewC = c + dx[dir]\n",
    "            \n",
    "            if 0 <= NewR < N and 0<= NewC < N and (NewR, NewC) not in visited:\n",
    "                if Maze[NewR][NewC] == 0:\n",
    "                    Q.append((NewR, NewC))\n",
    "                    visited.append((NewR, NewC))\n",
    "                    Distance[NewR][NewC] = Distance[r][c] +1\n",
    "                elif Maze[NewR][NewC] == 3:\n",
    "                    Distance[NewR][NewC] = Distance[r][c] +1\n",
    "                    result = Distance[NewR][NewC] -1\n",
    "                    return\n",
    "\n",
    "\n",
    "for A in range(int(input())):\n",
    "    N = int(input())\n",
    "    Maze = [list(map(int, input())) for _ in range(N)]\n",
    "\n",
    "    Q = []\n",
    "    visited = []\n",
    "    Distance = [[0]*N for _ in range(N)]\n",
    "\n",
    "    result = 0\n",
    "\n",
    "    dx = [0, 0, 1, -1]\n",
    "    dy = [-1, 1, 0 , 0]\n",
    "\n",
    "    for row in range(N):\n",
    "        for col in range(N):\n",
    "            if Maze[row][col] == 2:\n",
    "                BFS(row, col)\n",
    "    \n",
    "    print(f'#{A+1} {result}')"
   ]
  }
 ],
 "metadata": {
  "language_info": {
   "name": "python"
  },
  "orig_nbformat": 4
 },
 "nbformat": 4,
 "nbformat_minor": 2
}
