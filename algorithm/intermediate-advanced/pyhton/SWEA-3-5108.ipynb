{
 "cells": [
  {
   "cell_type": "markdown",
   "metadata": {},
   "source": [
    "## [파이썬 S/W 문제해결 기본] 7일차 - 숫자 추가\n",
    "### N개의 10억 이하 자연수로 이뤄진 수열이 주어진다.\n",
    "### 이 수열은 완성된 것이 아니라 M개의 숫자를 지정된 위치에 추가하면 완성된다고 한다.\n",
    "### 완성된 수열에서 인덱스 L의 데이터를 출력하는 프로그램을 작성하시오.\n",
    "\n",
    "### [입력] 첫 줄에 테스트케이스의 수 T가 주어진다. 1<=T<=50\n",
    "### 다음 줄부터 테스트 케이스의 별로 첫 줄에 수열의 길이 N, 추가 횟수 M, 출력할 인덱스 번호 L이 주어지고, 다음 줄에 수열이 주어진다.\n",
    "### 그 다음 M개의 줄에 걸쳐 추가할 인덱스와 숫자 정보가 주어진다. 5<=N<=1000, 1<=M<=1000, 6<=L<=N+M\n",
    "\n",
    "### [출력]\n",
    "### 각 줄마다 \"#T\" (T는 테스트 케이스 번호)를 출력한 뒤, 답을 출력한다.\n",
    "\n",
    "#### `입력 3 | 5 2 5 | 1 2 3 4 5 | 2 7 | 4 8`\n",
    "\n",
    "#### `출력 #1 4 | #2 32402 | #3 13398`"
   ]
  },
  {
   "cell_type": "code",
   "execution_count": 1,
   "metadata": {},
   "outputs": [
    {
     "name": "stdout",
     "output_type": "stream",
     "text": [
      "#1 4\n"
     ]
    }
   ],
   "source": [
    "# list.insert() method\n",
    "\n",
    "for i in range(1, int(input())+1):\n",
    "\t# N = 수열의 길이, M = 추가 횟수, L = 인덱스 번호\n",
    "\tN, M, L = map(int, input().split())\n",
    "\tdata = list(map(int, input().split()))\n",
    "\tappend_num = [list(map(int, input().split())) for _ in range(M)]\n",
    "\n",
    "\tfor j in range(len(append_num)):\n",
    "\t\tdata.insert(append_num[j][0], append_num[j][1])\n",
    "\n",
    "\tresult = data[L]\n",
    "\tprint(f\"#{i} {result}\")"
   ]
  }
 ],
 "metadata": {
  "interpreter": {
   "hash": "b0fa6594d8f4cbf19f97940f81e996739fb7646882a419484c72d19e05852a7e"
  },
  "kernelspec": {
   "display_name": "Python 3.9.13 64-bit",
   "language": "python",
   "name": "python3"
  },
  "language_info": {
   "codemirror_mode": {
    "name": "ipython",
    "version": 3
   },
   "file_extension": ".py",
   "mimetype": "text/x-python",
   "name": "python",
   "nbconvert_exporter": "python",
   "pygments_lexer": "ipython3",
   "version": "3.9.13"
  },
  "orig_nbformat": 4
 },
 "nbformat": 4,
 "nbformat_minor": 2
}
