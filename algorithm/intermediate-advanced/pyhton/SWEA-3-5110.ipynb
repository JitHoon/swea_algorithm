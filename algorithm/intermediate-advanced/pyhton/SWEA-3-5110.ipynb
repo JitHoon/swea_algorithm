{
 "cells": [
  {
   "cell_type": "markdown",
   "metadata": {},
   "source": [
    "## [파이썬 S/W 문제해결 기본] 7일차 - 수열 합치기\n",
    "### 여러 개의 수열을 정해진 규칙에 따라 합치려고 한다.\n",
    "### 마지막 수열까지 합치고 나면, 맨 뒤의 숫자부터 역순으로 10개를 출력한다.\n",
    "\n",
    "### [입력] 첫 줄에 테스트케이스의 수 T가 주어진다. 1<=T<=50\n",
    "### 다음 줄부터 테스트 케이스의 별로 첫 줄에 수열의 길이 N, 수열의 개수 M, 이후 M개의 줄에 걸쳐 1000이하의 자연수로 구성된 수열이 주어진다. 4<=N<=1000, 1<=M<=1000\n",
    "\n",
    "### [출력]\n",
    "### 각 줄마다 \"#T\" (T는 테스트 케이스 번호)를 출력한 뒤, 완성된 수열의 맨 뒤부터 10개의 숫자를 역순으로 출력한다.\n",
    "\n",
    "#### `입력 3 | 4 4 | 2 3 4 5 | 4 8 7 6 | 9 10 15 16 | 1 2 6 5`\n",
    "\n",
    "#### `출력 #1 16 15 10 9 5 6 7 8 4 4`"
   ]
  },
  {
   "cell_type": "code",
   "execution_count": 1,
   "metadata": {},
   "outputs": [
    {
     "name": "stdout",
     "output_type": "stream",
     "text": [
      "#1 16 15 10 9 5 6 7 8 4 4\n"
     ]
    }
   ],
   "source": [
    "for i in range(1, int(input())+1):\n",
    "\t# 수열의 길이 N, 수열의 개수 M\n",
    "\tN, M = map(int, input().split())\n",
    "\thead = list(map(int, input().split()))\n",
    "\tresult = []\n",
    "\n",
    "\tfor _ in range(M-1):\n",
    "\t\tdata = list(map(int, input().split()))\n",
    "        \n",
    "        # 기존 수열에 새로운 수열의 첫 값보다 큰 값이 있으면 해당 index에 리스트 추가\n",
    "        # list1[inx:idx] = list2 -> list1의 idx 자리에 list2가 추가 됨!\n",
    "\t\tfor j in range(len(head)):\n",
    "\t\t\tif data[0] < head[j]:\n",
    "\t\t\t\thead[j:j] = data\n",
    "\t\t\t\tbreak\n",
    "\t\tif data[0] >= max(head):\n",
    "\t\t\thead += data\n",
    "    # 원하는 범위의 리스트 역순 출력\n",
    "\thead = head[::-1][:10]\n",
    "    # 리스트의 ,와 [] 없이 출력\n",
    "\tresult = str(head).replace(\",\", \"\")\n",
    "\tprint(f\"#{i} {result[1:-1]}\")"
   ]
  }
 ],
 "metadata": {
  "interpreter": {
   "hash": "b0fa6594d8f4cbf19f97940f81e996739fb7646882a419484c72d19e05852a7e"
  },
  "kernelspec": {
   "display_name": "Python 3.9.13 64-bit",
   "language": "python",
   "name": "python3"
  },
  "language_info": {
   "codemirror_mode": {
    "name": "ipython",
    "version": 3
   },
   "file_extension": ".py",
   "mimetype": "text/x-python",
   "name": "python",
   "nbconvert_exporter": "python",
   "pygments_lexer": "ipython3",
   "version": "3.9.13"
  },
  "orig_nbformat": 4
 },
 "nbformat": 4,
 "nbformat_minor": 2
}
