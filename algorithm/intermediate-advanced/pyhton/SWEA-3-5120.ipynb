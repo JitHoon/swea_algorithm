{
 "cells": [
  {
   "cell_type": "markdown",
   "metadata": {},
   "source": [
    "## [파이썬 S/W 문제해결 기본] 7일차 - 암호\n",
    "### 1000이하의 숫자 N개가 주어진다. 이때 시작 숫자가 정해지고, 첫 번째 지정 위치가 된다.\n",
    "### 지정 위치부터 M번째 칸을 추가한다. 여기에 앞칸의 숫자와 뒤로 밀려난 칸의 숫자를 더해 넣는다. 추가된 칸이 새로운 지정 위치가 된다. 밀려난 칸이 없으면 시작 숫자와 더한다.\n",
    "### 이 작업을 K회 반복하는데, M칸 전에 마지막 숫자에 이르면 남은 칸수는 시작 숫자부터 이어간다.\n",
    "### 마지막 숫자부터 역순으로 숫자를 출력하면 비밀번호가 된다. 숫자가 10개 이상인 경우 10개까지만 출력한다.\n",
    "\n",
    "### [입력] 첫 줄에 테스트케이스의 수 T가 주어진다. 1<=T<=50\n",
    "### 다음 줄부터 테스트 케이스의 별로 첫 줄에 N, M, K가, 다음 줄에 1000이하의 자연수 N개가 주어진다. 3<=N, M, K<=1000\n",
    "\n",
    "### [출력]\n",
    "### 각 줄마다 \"#T\" (T는 테스트 케이스 번호)를 출력한 뒤, 답을 출력한다.\n",
    "\n",
    "#### `입력 3 | 5 3 5 | 958 386 329 169 778`\n",
    "\n",
    "#### `출력 #1 1736 2514 778 169 667 498 329 715 386 958`"
   ]
  },
  {
   "cell_type": "code",
   "execution_count": 1,
   "metadata": {},
   "outputs": [
    {
     "name": "stdout",
     "output_type": "stream",
     "text": [
      "#1 1736 2514 778 169 667 498 329 715 386 958\n"
     ]
    }
   ],
   "source": [
    "# linked-list 문제\n",
    "# .insert(index,value) method\n",
    "for i in range(1, int(input())+1):\n",
    "    # n: 숫자 개수, m: 번째 칸, k: 반복 횟수\n",
    "    n, m, k = map(int, input().split())\n",
    "    data = list(map(int, input().split()))\n",
    "    idx = 0\n",
    "\n",
    "    start_num = data[0]\n",
    "\n",
    "    for _ in range(k):\n",
    "        idx += m\n",
    "        # idx가 리스트의 길이를 초과했을 때 \n",
    "        # 단순 리스트의 길이를 빼주면 추가해야할 위치를 알 수 있다.\n",
    "        if idx > len(data):\n",
    "            idx -= len(data)\n",
    "        # idx가 마지막에 추가되어야 할 때(밀어내는 것이 없는 경유)를 제외하곤\n",
    "        # 모두 일반적인 연산만 해주면 된다.\n",
    "        if idx == len(data):\n",
    "            data.append(data[-1] + start_num)\n",
    "        else : data.insert(idx, data[idx-1] + data[idx])\n",
    "\n",
    "    # 리스트 괄호 및 , 제외하고 출력하는 방법\n",
    "    result = reversed(data[-10:])\n",
    "    print('#{} '.format(i), end='')\n",
    "    print(*result)"
   ]
  }
 ],
 "metadata": {
  "interpreter": {
   "hash": "b0fa6594d8f4cbf19f97940f81e996739fb7646882a419484c72d19e05852a7e"
  },
  "kernelspec": {
   "display_name": "Python 3.9.13 64-bit",
   "language": "python",
   "name": "python3"
  },
  "language_info": {
   "codemirror_mode": {
    "name": "ipython",
    "version": 3
   },
   "file_extension": ".py",
   "mimetype": "text/x-python",
   "name": "python",
   "nbconvert_exporter": "python",
   "pygments_lexer": "ipython3",
   "version": "3.9.13"
  },
  "orig_nbformat": 4
 },
 "nbformat": 4,
 "nbformat_minor": 2
}
