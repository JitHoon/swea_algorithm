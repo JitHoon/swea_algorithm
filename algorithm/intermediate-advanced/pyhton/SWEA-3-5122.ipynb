{
 "cells": [
  {
   "cell_type": "markdown",
   "metadata": {},
   "source": [
    "## [파이썬 S/W 문제해결 기본] 7일차 - 수열 편집\n",
    "### N개의 10억 이하 자연수로 이뤄진 수열이 주어진다. 이 수열은 완성된 것이 아니라 M번의 편집을 거쳐 완성된다고 한다.\n",
    "### 완성된 수열에서 인덱스 L의 데이터를 출력하는 프로그램을 작성하시오.\n",
    "\n",
    "### [입력] 첫 줄에 테스트케이스의 수 T가 주어진다. 1<=T<=50\n",
    "### 다음 줄부터 테스트 케이스의 별로 첫 줄에 수열의 길이 N, 추가 횟수 M, 출력할 인덱스 번호 L이 주어지고, 다음 줄에 수열이 주어진다.\n",
    "### 그 다음 M개의 줄에 걸쳐 추가할 인덱스와 숫자 정보가 주어진다. 5<=N<=1000, 1<=M<=1000, 6<=L<=N+M\n",
    "\n",
    "### [출력]\n",
    "### 각 줄마다 \"#T\" (T는 테스트 케이스 번호)를 출력한 뒤, 답을 출력한다.\n",
    "\n",
    "#### `입력 3 | 5 3 4 | 1 2 3 4 5 | I 2 7 | D 4 | C 3 8`\n",
    "\n",
    "#### `출력 #1 5 | #2 10239 | #3 -1`"
   ]
  },
  {
   "cell_type": "code",
   "execution_count": null,
   "metadata": {},
   "outputs": [],
   "source": [
    "# linked-list\n",
    "# .insert(index,value) method\n",
    "# .pop(index) method\n",
    "\n",
    "for i in range(1, int(input())+1):\n",
    "    # 수열의 길이 N, 추가 횟수 M, 출력할 인덱스 번호 L\n",
    "    N, M, L = map(int, input().split())\n",
    "    data = list(map(int, input().split()))\n",
    "\n",
    "    for j in range(M):\n",
    "        m = list(map(str, input().split()))\n",
    "        \n",
    "        if m[0] == 'I':\n",
    "            data.insert(int(m[1]), int(m[2]))\n",
    "        elif m[0] == 'D':\n",
    "            data.pop(int(m[1]))\n",
    "        elif m[0] == 'C':\n",
    "            data.pop(int(m[1]))\n",
    "            data.insert(int(m[1]), int(m[2]))\n",
    "    \n",
    "    if L > len(data)-1:\n",
    "        result = -1\n",
    "    else:\n",
    "        result = data[L]\n",
    "\n",
    "    print(f\"#{i} {result}\")"
   ]
  }
 ],
 "metadata": {
  "language_info": {
   "name": "python"
  },
  "orig_nbformat": 4
 },
 "nbformat": 4,
 "nbformat_minor": 2
}
