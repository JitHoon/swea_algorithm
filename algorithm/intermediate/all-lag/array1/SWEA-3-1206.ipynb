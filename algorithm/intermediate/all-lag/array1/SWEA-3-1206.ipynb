{
 "cells": [
  {
   "cell_type": "markdown",
   "metadata": {},
   "source": [
    "## [S/W 문제해결 기본] 1일차 - View\n",
    "### 왼쪽과 오른쪽으로 창문을 열었을 때, 양쪽 모두 거리 2 이상의 공간이 확보될 때 조망권이 확보된다고 말한다.\n",
    "### 빌딩들에 대한 정보가 주어질 때, 조망권이 확보된 세대의 수를 반환하는 프로그램을 작성하시오.\n",
    "\n",
    "### [입력] 각 테스트케이스의 첫 번째 줄에는 건물의 개수 N이 주어진다. (4 ≤ N ≤ 1000)\n",
    "### 그 다음 줄에는 N개의 건물의 높이가 주어진다. (0 ≤ 각 건물의 높이 ≤ 255)\n",
    "### 맨 왼쪽 두 칸과 맨 오른쪽 두 칸에 있는 건물은 항상 높이가 0이다. (예시에서 빨간색 땅 부분)\n",
    " \n",
    "\n",
    "### [출력]\n",
    "### #부호와 함께 테스트케이스의 번호를 출력하고, 공백 문자 후 조망권이 확보된 세대의 수를 출력한다.\n",
    "\n",
    "#### `입력 10, 1, ~`\n",
    "\n",
    "#### `출력 #1 691\\n#2 9092\\n .......`"
   ]
  },
  {
   "cell_type": "code",
   "execution_count": null,
   "metadata": {},
   "outputs": [],
   "source": [
    "#부호와 함께 테스트케이스의 번호를 출력하고, 공백 문자 후 조망권이 확보된 세대의 수를 출력한다.\n",
    "\n",
    "for i in range(1, 11):\n",
    "    num = int(input())\n",
    "    data = list(map(int, input().split()))\n",
    "    result = []\n",
    "    \n",
    "    for j in range(2, len(data)-2):\n",
    "        Minus = []\n",
    "        if data[j-2] < data[j] and data[j-1] < data[j] and data[j+1] < data[j] and data[j+2] < data[j]:\n",
    "            Minus.append(data[j] - data[j-2])\n",
    "            Minus.append(data[j] - data[j-1])\n",
    "            Minus.append(data[j] - data[j+1])\n",
    "            Minus.append(data[j] - data[j+2])\n",
    "            \n",
    "            result.append(min(Minus))\n",
    "        \n",
    "    print(f\"#{i} {sum(result)}\")"
   ]
  }
 ],
 "metadata": {
  "language_info": {
   "name": "python"
  },
  "orig_nbformat": 4
 },
 "nbformat": 4,
 "nbformat_minor": 2
}
