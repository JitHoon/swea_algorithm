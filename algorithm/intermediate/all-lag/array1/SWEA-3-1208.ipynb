{
 "cells": [
  {
   "cell_type": "markdown",
   "metadata": {},
   "source": [
    "## [S/W 문제해결 기본] 1일차 - Flatten\n",
    "### 높은 곳의 상자를 낮은 곳에 옮기는 방식으로 최고점과 최저점의 간격을 줄이는 작업을 평탄화라고 한다.\n",
    "### 평탄화를 모두 수행하고 나면, 가장 높은 곳과 가장 낮은 곳의 차이가 최대 1 이내가 된다.\n",
    "### 평탄화 작업을 위해서 상자를 옮기는 작업 횟수에 제한이 걸려있을 때, 제한된 횟수만큼 옮기는 작업을 한 후 최고점과 최저점의 차이를 반환하는 프로그램을 작성하시오.\n",
    "\n",
    "### [입력] 총 10개의 테스트 케이스가 주어지며, 각 테스트 케이스의 첫 번째 줄에는 덤프 횟수가 주어진다. 그리고 다음 줄에 각 상자의 높이값이 주어진다.\n",
    "\n",
    "### [출력]\n",
    "### #부호와 함께 테스트 케이스의 번호를 출력하고, 공백 문자 후 테스트 케이스의 최고점과 최저점의 높이 차를 출력한다.\n",
    "\n",
    "#### `입력 10, 1, ~`\n",
    "\n",
    "#### `출력 #1 13\\n#2 32\\n .......`"
   ]
  },
  {
   "cell_type": "code",
   "execution_count": null,
   "metadata": {},
   "outputs": [],
   "source": [
    "# 각 테스트 케이스의 첫 번째 줄에는 덤프 횟수가 주어진다. 그리고 다음 줄에 각 상자의 높이값이 주어진다.\n",
    "\n",
    "for i in range(1, 11):\n",
    "    a = int(input())\n",
    "    data = list(map(int, input().split()))\n",
    "    \n",
    "    for j in range(a):\n",
    "        max_idx=data.index(max(data))\n",
    "        min_idx=data.index(min(data))\n",
    "        data[max_idx] -= 1\n",
    "        data[min_idx] += 1\n",
    "\n",
    "    print(f\"#{i} {max(data) - min(data)}\")"
   ]
  }
 ],
 "metadata": {
  "language_info": {
   "name": "python"
  },
  "orig_nbformat": 4
 },
 "nbformat": 4,
 "nbformat_minor": 2
}
