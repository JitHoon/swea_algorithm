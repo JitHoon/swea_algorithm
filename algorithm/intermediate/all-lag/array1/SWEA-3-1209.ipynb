{
 "cells": [
  {
   "cell_type": "markdown",
   "metadata": {},
   "source": [
    "## [S/W 문제해결 기본] 2일차 - Sum\n",
    "### 다음 100X100의 2차원 배열이 주어질 때, 각 행의 합, 각 열의 합, 각 대각선의 합 중 최댓값을 구하는 프로그램을 작성하여라.\n",
    "\n",
    "### [입력] 총 10개의 테스트 케이스가 주어진다.\n",
    "### 배열의 크기는 100X100으로 동일하다.\n",
    "### 각 행의 합은 integer 범위를 넘어가지 않는다.\n",
    "### 동일한 최댓값이 있을 경우, 하나의 값만 출력한다.\n",
    "### 각 테스트 케이스의 첫 줄에는 테스트 케이스 번호가 주어지고 그 다음 줄부터는 2차원 배열의 각 행 값이 주어진다.\n",
    "\n",
    "### [출력]\n",
    "### #부호와 함께 테스트 케이스의 번호를 출력하고, 공백 문자 후 테스트 케이스의 답을 출력한다.\n",
    "\n",
    "#### `입력 1, ~`\n",
    "\n",
    "#### `출력 #1 1712\\n#2 1743\\n .......`"
   ]
  },
  {
   "cell_type": "code",
   "execution_count": null,
   "metadata": {},
   "outputs": [],
   "source": [
    "# 2차원 array 기본 검색\n",
    "\n",
    "for i in range(1, 11):\n",
    "    a = int(input())\n",
    "    data = [list(map(int, input().split())) for _ in range(100)]\n",
    "    result = []\n",
    "    dia = 0\n",
    "\n",
    "    for j in range(0, 100):\n",
    "        # 행\n",
    "        result.append(sum(data[j]))\n",
    "        value = 0\n",
    "        for k in range(0, 100):\n",
    "            # 열\n",
    "            value += data[k][j]\n",
    "            # 대각\n",
    "            if j == k:\n",
    "                dia += data[k][j]\n",
    "        # 열\n",
    "        result.append(value)\n",
    "    # 대각\n",
    "    result.append(dia)\n",
    "            \n",
    "    print(f\"#{a} {max(result)}\")"
   ]
  }
 ],
 "metadata": {
  "language_info": {
   "name": "python"
  },
  "orig_nbformat": 4
 },
 "nbformat": 4,
 "nbformat_minor": 2
}
