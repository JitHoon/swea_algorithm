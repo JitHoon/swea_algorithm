{
 "cells": [
  {
   "cell_type": "markdown",
   "metadata": {},
   "source": [
    "## [S/W 문제해결 기본] 2일차 - Ladder1\n",
    "### 100 x 100 크기의 2차원 배열로 주어진 사다리에 대해서, 지정된 도착점에 대응되는 출발점 X를 반환하는 코드를 작성하라\n",
    "\n",
    "### [입력] 한 막대에서 출발한 가로선이 다른 막대를 가로질러서 연속하여 이어지는 경우는 없다.\n",
    "### 입력 파일의 첫 번째 줄에는 테스트 케이스의 번호가 주어지며, 바로 다음 줄에 테스트 케이스가 주어진다.\n",
    "### 총 10개의 테스트 케이스가 주어진다.\n",
    "\n",
    "### [출력]\n",
    "### #부호와 함께 테스트 케이스의 번호를 출력하고, 공백 문자 후 도착하게 되는 출발점의 x좌표를 출력한다.\n",
    "\n",
    "#### `입력 1, ~`\n",
    "\n",
    "#### `출력 #1 67\\n .......`"
   ]
  },
  {
   "cell_type": "code",
   "execution_count": null,
   "metadata": {},
   "outputs": [],
   "source": [
    "# 2차원 array\n",
    "\n",
    "for i in range(10):\n",
    "    test_case = int(input())\n",
    "    ladder = [list(map(int, input().split())) for _ in range(100)]\n",
    "    end = 0\n",
    "    \n",
    "    # 도착지부터 시작하기 (경우의 수 감소)\n",
    "    for j in range(100):\n",
    "        if ladder[99][j] == 2:\n",
    "            end = j\n",
    "\n",
    "    # 한 행마다 좌우 확인\n",
    "    for r in range(98, -1, -1):\n",
    "        if end > 0 and ladder[r][end - 1]:\n",
    "            while end > 0 and ladder[r][end - 1]:\n",
    "                end -= 1\n",
    "        elif end < 99 and ladder[r][end + 1]:\n",
    "            while end < 99 and ladder[r][end + 1]:\n",
    "                end += 1\n",
    "    print(f\"#{test_case} {end}\")"
   ]
  }
 ],
 "metadata": {
  "language_info": {
   "name": "python"
  },
  "orig_nbformat": 4
 },
 "nbformat": 4,
 "nbformat_minor": 2
}
