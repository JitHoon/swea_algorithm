{
 "cells": [
  {
   "cell_type": "markdown",
   "metadata": {},
   "source": [
    "## [파이썬 S/W 문제해결 기본] 5일차 - 토너먼트 카드게임\n",
    "### 1번부터 N번까지 N명의 학생이 N장의 카드를 나눠 갖는다. 전체를 두 개의 그룹으로 나누고, 그룹의 승자끼리 카드를 비교해서 이긴 사람이 최종 승자가 된다.\n",
    "### 두 그룹이 각각 1명이 되면 양 쪽의 카드를 비교해 승자를 가리고, 다시 더 큰 그룹의 승자를 뽑는 방식이다.\n",
    "\n",
    "### [입력] 첫 줄에 테스트 케이스 개수 T가 주어진다.  1≤T≤50\n",
    "### 다음 줄부터 테스트 케이스의 별로 인원수 N과 다음 줄에 N명이 고른 카드가 번호순으로 주어진다. 4≤N≤100\n",
    "### 카드의 숫자는 각각 1은 가위, 2는 바위, 3은 보를 나타낸다.\n",
    "\n",
    "### [출력]\n",
    "### 각 줄마다 \"#T\" (T는 테스트 케이스 번호)를 출력한 뒤, 1등의 번호를 출력한다.\n",
    "\n",
    "#### `입력 3 | 4 | 1 3 2 1 | 6 | 2 1 1 2 3 3 | 7 | 1 3 3 3 1 1 3`\n",
    "\n",
    "#### `출력 #1 3 | #2 5 | #3 1`"
   ]
  },
  {
   "cell_type": "code",
   "execution_count": null,
   "metadata": {},
   "outputs": [],
   "source": [
    "# stack 분할정복 문제\n",
    "# 이기는 값 하나를 가져오는 게임 조건문을 작성 후 \n",
    "# 게임의 범위를(처음값과 끝값) 나눠서 재귀함수를 호출한다.\n",
    "# 사실 가장 중요한 코드는 비교가 완전 끝났을 때 \n",
    "# 어떤 조건으로 값을 가져오는 코드이다. (if i == j: return i)\n",
    "\n",
    "def game(i, j): # 1, 4\n",
    "    if i == j:\n",
    "        return i\n",
    "    # 게임을 시키는 범위.\n",
    "    # 범위를 둘로 나눠서 재귀를 돌림..\n",
    "    # game(1, 4) : aidx = game(1,2) \n",
    "    #                     : aidx = 1 bidx = 2\n",
    "    #                     return arr[1]과 arr[2] 비교 \n",
    "    #              bidx = game(3, 4)\n",
    "    #                     : aidx = 3 bidx = 4\n",
    "    #                     return arr[3]과 arr[4] 비교 \n",
    "    #             return aidx, bidx 비교\n",
    "    aidx = game(i, (i+j)//2)\n",
    "    bidx = game((i+j)//2+1, j)\n",
    "\n",
    "    # 구해진 인덱스에 해당하는 값들끼리 가위바위보 후 최종적으로 인덱스(=번호)리턴.\n",
    "    # winner(aidx,bidx)\n",
    "    if arr[aidx] == 1: # 가위\n",
    "        if arr[bidx] == 2: return bidx\n",
    "        elif arr[bidx] == 3: return aidx\n",
    "        elif arr[bidx] == 1: return aidx\n",
    "    elif arr[aidx] == 2: # 바위\n",
    "        if arr[bidx] == 1: return aidx\n",
    "        elif arr[bidx] == 3: return bidx\n",
    "        elif arr[bidx] == 2: return aidx\n",
    "    elif arr[aidx] == 3: # 보\n",
    "        if arr[bidx] == 1: return bidx\n",
    "        elif arr[bidx] == 2: return aidx\n",
    "        elif arr[bidx] == 3: return aidx\n",
    " \n",
    "for A in range(int(input())):\n",
    "    N = int(input())\n",
    "    # 인덱스 0을 고려하기 위해 더해주고 출력.\n",
    "    arr = [0] + list(map(int,input().split()))\n",
    "    print('#{0} {1}'.format(A+1, game(1, N)))"
   ]
  }
 ],
 "metadata": {
  "interpreter": {
   "hash": "b0fa6594d8f4cbf19f97940f81e996739fb7646882a419484c72d19e05852a7e"
  },
  "kernelspec": {
   "display_name": "Python 3.9.13 64-bit",
   "language": "python",
   "name": "python3"
  },
  "language_info": {
   "codemirror_mode": {
    "name": "ipython",
    "version": 3
   },
   "file_extension": ".py",
   "mimetype": "text/x-python",
   "name": "python",
   "nbconvert_exporter": "python",
   "pygments_lexer": "ipython3",
   "version": "3.9.13"
  },
  "orig_nbformat": 4
 },
 "nbformat": 4,
 "nbformat_minor": 2
}
