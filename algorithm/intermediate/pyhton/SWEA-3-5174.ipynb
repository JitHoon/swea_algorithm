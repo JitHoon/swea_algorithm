{
 "cells": [
  {
   "cell_type": "markdown",
   "metadata": {},
   "source": [
    "## [파이썬 S/W 문제해결 기본] 8일차 - subtree\n",
    "### 트리의 일부를 서브 트리라고 한다. 주어진 이진 트리에서 노드 N을 루트로 하는 서브 트리에 속한 노드의 개수를 알아내는 프로그램을 만드시오.\n",
    "\n",
    "### [입력] 첫 줄에 테스트케이스의 수 T가 주어진다. 1<=T<=50\n",
    "### 다음 줄부터 테스트 케이스의 별로 첫 줄에 간선의 개수 E와 N이 주어지고, 다음 줄에 E개의 부모 자식 노드 번호 쌍이 주어진다.\n",
    "### 노드 번호는 1번부터 E+1번까지 존재한다. 1<=E<=1000, 1<=N<=E+1\n",
    "\n",
    "### [출력]\n",
    "### 각 줄마다 \"#T\" (T는 테스트 케이스 번호)를 출력한 뒤, 답을 출력한다.\n",
    "\n",
    "#### `입력 3 | 5 1 | 2 1 2 5 1 6 5 3 6 4`\n",
    "\n",
    "#### `출력 #1 3 | #2 1 | #3 3`"
   ]
  },
  {
   "cell_type": "code",
   "execution_count": 1,
   "metadata": {},
   "outputs": [
    {
     "name": "stdout",
     "output_type": "stream",
     "text": [
      "[7, 6, 7, 4, 6, 9, 4, 11, 9, 5, 11, 8, 5, 3, 5, 2, 8, 1, 8, 10]\n",
      "[0, 0, 0, 0, 11, 3, 9, 6, 1, 5, 0, 8]\n",
      "[0, 0, 0, 0, 0, 2, 0, 4, 10, 0, 0, 0]\n",
      "#1 3\n"
     ]
    }
   ],
   "source": [
    "# tree - sub-child의 node 개수 구하기\n",
    "\n",
    "def count(n):\n",
    "    global result\n",
    "    if n == 0:\n",
    "        return\n",
    "    result += 1\n",
    "    count(child_node1[n])\n",
    "    count(child_node2[n])\n",
    "\n",
    "# 0   1  2  3  4  5  6  7  8  9  10  11\n",
    "# [0, 0, 0, 0, 11, 3, 9, 6, 1, 5, 0, 8]\n",
    "# [0, 0, 0, 0, 0, 2, 0, 4, 10, 0, 0, 0]\n",
    "for i in range(1, int(input())+1):\n",
    "    E, N = map(int, input().split())\n",
    "    child_node1 = [0]+[0]*(E+1)\n",
    "    child_node2 = [0]+[0]*(E+1)\n",
    "    data = list(map(int, input().split()))\n",
    "    \n",
    "    print(data)\n",
    "\n",
    "    result = 0\n",
    "    for j in range(0, len(data), 2):\n",
    "        if child_node1[data[j]] == 0:\n",
    "            child_node1[data[j]] = data[j+1]\n",
    "        else:\n",
    "            child_node2[data[j]] = data[j+1]\n",
    "    \n",
    "    print(child_node1)\n",
    "    print(child_node2)\n",
    "\n",
    "    count(N)\n",
    "    print(f\"#{i} {result}\")"
   ]
  }
 ],
 "metadata": {
  "interpreter": {
   "hash": "b0fa6594d8f4cbf19f97940f81e996739fb7646882a419484c72d19e05852a7e"
  },
  "kernelspec": {
   "display_name": "Python 3.9.13 64-bit",
   "language": "python",
   "name": "python3"
  },
  "language_info": {
   "codemirror_mode": {
    "name": "ipython",
    "version": 3
   },
   "file_extension": ".py",
   "mimetype": "text/x-python",
   "name": "python",
   "nbconvert_exporter": "python",
   "pygments_lexer": "ipython3",
   "version": "3.9.13"
  },
  "orig_nbformat": 4
 },
 "nbformat": 4,
 "nbformat_minor": 2
}
