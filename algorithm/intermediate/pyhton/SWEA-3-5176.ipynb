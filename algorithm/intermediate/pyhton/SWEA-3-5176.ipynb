{
 "cells": [
  {
   "cell_type": "markdown",
   "metadata": {},
   "source": [
    "## [파이썬 S/W 문제해결 기본] 8일차 - 이진탐색\n",
    "### 1부터 N까지의 자연수를 이진 탐색 트리에 저장하려고 한다.\n",
    "### 이진 탐색 트리는 어떤 경우에도 저장된 값이 왼쪽 서브트리의 루트 <현재 노드 <오른쪽 서브 트리의 루트인 규칙을 만족한다.\n",
    "### 추가나 삭제가 없는 경우에는, 완전 이진 트리가 되도록 만들면 효율적인 이진 탐색 트리를 만들수 있다.\n",
    "\n",
    "### [입력] 첫 줄에 테스트케이스의 수 T가 주어진다. 1<=T<=50\n",
    "### 다음 줄부터 테스트 케이스의 별로 N이 주어진다. 1<=N<=1000\n",
    "\n",
    "### [출력]\n",
    "### 각 줄마다 \"#T\" (T는 테스트 케이스 번호)를 출력한 뒤, 답을 출력한다.\n",
    "\n",
    "#### `입력 3 | 6 | 8 | 15`\n",
    "\n",
    "#### `출력 #1 4 6 | #2 5 2 | #3 8 14`"
   ]
  },
  {
   "cell_type": "code",
   "execution_count": 1,
   "metadata": {},
   "outputs": [
    {
     "name": "stdout",
     "output_type": "stream",
     "text": [
      "#1 4 6\n",
      "#2 5 2\n",
      "#3 8 14\n"
     ]
    }
   ],
   "source": [
    "# binary search tree \n",
    "# 중위 순회\n",
    "def makeTree(n):\n",
    "    global count\n",
    "    #배열이니까 배열크기 넘어가지 않도록\n",
    "    if n <= N:\n",
    "        #왼쪽노드 먼저 채우기\n",
    "        #왼쪽노드는 현재 인덱스의 2배\n",
    "        makeTree(n*2) # 2 4\n",
    "        #더이상 못가면 값넣기\n",
    "        tree[n] = count # [4] = 1, [2] = 2,  [1] = 4, [6] = 5\n",
    "        #값 넣었으면 증가시키기\n",
    "        count += 1\n",
    "        #우측 노드는 인덱스 2배 + 1\n",
    "        makeTree(n*2 + 1) # [5] = 3, [3] = 6\n",
    " \n",
    "for i in range(1, int(input())+1):\n",
    "    N = int(input())\n",
    "    tree = [0] + [0] * N\n",
    "    count = 1\n",
    "    makeTree(1)\n",
    "    root = tree[1]\n",
    "    print(f\"#{i} {root} {tree[N//2]}\")\n",
    " "
   ]
  }
 ],
 "metadata": {
  "interpreter": {
   "hash": "b0fa6594d8f4cbf19f97940f81e996739fb7646882a419484c72d19e05852a7e"
  },
  "kernelspec": {
   "display_name": "Python 3.9.13 64-bit",
   "language": "python",
   "name": "python3"
  },
  "language_info": {
   "codemirror_mode": {
    "name": "ipython",
    "version": 3
   },
   "file_extension": ".py",
   "mimetype": "text/x-python",
   "name": "python",
   "nbconvert_exporter": "python",
   "pygments_lexer": "ipython3",
   "version": "3.9.13"
  },
  "orig_nbformat": 4
 },
 "nbformat": 4,
 "nbformat_minor": 2
}
