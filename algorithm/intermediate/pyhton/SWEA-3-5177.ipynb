{
 "cells": [
  {
   "cell_type": "markdown",
   "metadata": {},
   "source": [
    "## [파이썬 S/W 문제해결 기본] 8일차 - 이진 힙\n",
    "### 이진 최소힙은 다음과 같은 특징을 가진다.\n",
    "\n",
    "### 항상 완전 이진 트리를 유지하기 위해 마지막 노드 뒤에 새 노드를 추가한다.\n",
    "\n",
    "### 부모 노드의 값<자식 노드의 값을 유지한다. 새로 추가된 노드의 값이 조건에 맞지 않는 경우, 조건을 만족할 때까지 부모 노드와 값을 바꾼다.\n",
    "\n",
    "### 노드 번호는 루트가 1번, 왼쪽에서 오른쪽으로, 더 이상 오른쪽이 없는 경우 다음 줄로 1씩 증가한다.\n",
    "\n",
    "\n",
    "### [입력] 첫 줄에 테스트케이스의 수 T가 주어진다. 1<=T<=50\n",
    "### 다음 줄부터 테스트 케이스의 별로 N이 주어지고, 다음 줄에 1000000이하인 서로 다른 N개의 자연수가 주어진다. 5<=N<=500\n",
    "\n",
    "### [출력]\n",
    "### 각 줄마다 \"#T\" (T는 테스트 케이스 번호)를 출력한 뒤, 답을 출력한다.\n",
    "\n",
    "#### `입력 3 | 6 | 7 2 5 3 4 6`\n",
    "\n",
    "#### `출력 #1 7 | #2 5 | #3 65`"
   ]
  },
  {
   "cell_type": "code",
   "execution_count": 4,
   "metadata": {},
   "outputs": [
    {
     "name": "stdout",
     "output_type": "stream",
     "text": [
      "2 2 [0, 7, 2]\n",
      "1 2 [0, 2, 7] change or not\n",
      "3 5 [0, 2, 7, 5]\n",
      "3 5 [0, 2, 7, 5] change or not\n",
      "4 3 [0, 2, 7, 5, 3]\n",
      "2 3 [0, 2, 3, 5, 7] change or not\n",
      "5 4 [0, 2, 3, 5, 7, 4]\n",
      "5 4 [0, 2, 3, 5, 7, 4] change or not\n",
      "6 6 [0, 2, 3, 5, 7, 4, 6]\n",
      "6 6 [0, 2, 3, 5, 7, 4, 6] change or not\n",
      "[0, 2, 3, 5, 7, 4, 6]\n",
      "#1 7\n"
     ]
    }
   ],
   "source": [
    "# complete binary tree\n",
    "# Heap\n",
    "def CBT(i, v):\n",
    "    global tree\n",
    "    tree.append(v)\n",
    "    print(i, v, tree)\n",
    "    # root node와 비교할 때까지\n",
    "    while i != 1:\n",
    "        # left 자식일 때\n",
    "        if i%2 == 0:\n",
    "            # 부모의 값이 크면 node 바꾸고 바꾼 node의 부모와 반복 비교\n",
    "            if tree[int(i/2)] > tree[i]:\n",
    "                tree[i], tree[int(i/2)] = tree[int(i/2)], tree[i]\n",
    "                i = int(i/2)\n",
    "            # 부모값이 더 작다는 의미는 자리를 찾았다는 의미이므로 break\n",
    "            else: break\n",
    "        # right 자식일 때\n",
    "        elif i%2 == 1:\n",
    "            # 부모의 값이 크면 node 바꾸고 바꾼 node의 부모와 반복 비교\n",
    "            if tree[int((i-1)/2)] > tree[i]:\n",
    "                print(tree[int((i-1)/2)], tree[i])\n",
    "                tree[i], tree[int((i-1)/2)] = tree[int((i-1)/2)], tree[i]\n",
    "                i = int((i-1)/2)\n",
    "            # 부모값이 더 작다는 의미는 자리를 찾았다는 의미이므로 break\n",
    "            else: break\n",
    "    print(i, v, tree, \"change or not\")\n",
    "\n",
    "def sum_nodes(last_node_idx):\n",
    "    global result\n",
    "    # root node에 도달할 때까지 더함\n",
    "    while last_node_idx != 1:\n",
    "        if last_node_idx%2 == 0:\n",
    "            result += tree[int(last_node_idx/2)]\n",
    "            last_node_idx /= 2\n",
    "        elif last_node_idx%2 == 1:\n",
    "            result += tree[int((last_node_idx-1)/2)]\n",
    "            last_node_idx = (last_node_idx-1)/2\n",
    "\n",
    "for i in range(1, int(input())+1):\n",
    "    N = int(input())\n",
    "    data = [0]+list(map(int, input().split()))\n",
    "    tree = [0, data[1]]\n",
    "    result = 0\n",
    "    # 사람이 직접 한값씩 자리에 적어가는 것처럼 하나씩 함수에 data 값 넣기\n",
    "    for idx, value in enumerate(data):\n",
    "        if idx > 1:\n",
    "            CBT(idx, value)\n",
    "    # 마지막 노드 idx 대입\n",
    "    sum_nodes(len(tree)-1)\n",
    "    print(tree)\n",
    "    print(f\"#{i} {result}\")"
   ]
  }
 ],
 "metadata": {
  "interpreter": {
   "hash": "b0fa6594d8f4cbf19f97940f81e996739fb7646882a419484c72d19e05852a7e"
  },
  "kernelspec": {
   "display_name": "Python 3.9.13 64-bit",
   "language": "python",
   "name": "python3"
  },
  "language_info": {
   "codemirror_mode": {
    "name": "ipython",
    "version": 3
   },
   "file_extension": ".py",
   "mimetype": "text/x-python",
   "name": "python",
   "nbconvert_exporter": "python",
   "pygments_lexer": "ipython3",
   "version": "3.9.13"
  },
  "orig_nbformat": 4
 },
 "nbformat": 4,
 "nbformat_minor": 2
}
