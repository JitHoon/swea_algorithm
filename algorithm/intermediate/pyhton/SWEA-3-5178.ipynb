{
 "cells": [
  {
   "cell_type": "markdown",
   "metadata": {},
   "source": [
    "## [파이썬 S/W 문제해결 기본] 8일차 - 노드의 합\n",
    "### 완전 이진 트리의 리프 노드에 1000이하의 자연수가 저장되어 있고, 리프 노드를 제외한 노드에는 자식 노드에 저장된 값의 합이 들어있다고 한다.\n",
    "### 리프 노드의 번호와 저장된 값이 주어지면 나머지 노드에 자식 노드 값의 합을 저장한 다음, 지정한 노드 번호에 저장된 값을 출력하는 프로그램을 작성 하시오.\n",
    "\n",
    "### 노드 번호는 루트가 1번, 왼쪽에서 오른쪽으로, 더 이상 오른쪽이 없는 경우 다음 줄로 1씩 증가한다.\n",
    "\n",
    "\n",
    "### [입력] 첫 줄에 테스트케이스의 수 T가 주어진다. 1<=T<=50\n",
    "### 다음 줄부터 테스트 케이스의 별로 노드의 개수 N과 리프 노드의 개수 M, 값을 출력할 노드 번호 L이 주어지고, 다음 줄부터 M개의 줄에 걸쳐 리프 노드 번호와 1000이하의 자연수가 주어진다.\n",
    "\n",
    "\n",
    "### [출력]\n",
    "### 각 줄마다 \"#T\" (T는 테스트 케이스 번호)를 출력한 뒤, 답을 출력한다.\n",
    "\n",
    "#### `입력 3 | 5 3 2 | 4 1 | 5 2 | 3 3`\n",
    "\n",
    "#### `출력 #1 3 | #2 845 | #3 1801`"
   ]
  },
  {
   "cell_type": "code",
   "execution_count": 1,
   "metadata": {},
   "outputs": [
    {
     "name": "stdout",
     "output_type": "stream",
     "text": [
      "#1 3\n"
     ]
    }
   ],
   "source": [
    "# cmplete binary tree\n",
    "# leaf node\n",
    "\n",
    "def CBT(idx):\n",
    "    global tree\n",
    "    # 1번 node에 값을 채워 넣을 때까지\n",
    "    while idx != 0:\n",
    "        # node 값이 0 이면 자식 노드들의 합 연산\n",
    "        if not tree[idx]:\n",
    "            tree[idx] = tree[idx*2] + tree[idx*2 +1]\n",
    "        idx -= 1\n",
    "\n",
    "for i in range(1, int(input())+1):\n",
    "    # 노드의 개수 N과 리프 노드의 개수 M, 값을 출력할 노드 번호 L이 주어지고\n",
    "    N, M, L = map(int, input().split())\n",
    "    # 다음 줄부터 M개의 줄에 걸쳐 리프 노드 번호와 1000이하의 자연수가 주어진다.\n",
    "    leaf_num = [list(map(int, input().split())) for _ in range(M)]\n",
    "    tree = [0] + [0]*N\n",
    "    # 주어진 값 tree에 대입\n",
    "    for j in range(len(leaf_num)):\n",
    "        tree[leaf_num[j][0]] = leaf_num[j][1]\n",
    "    # tree의 node의 개수가 짝수일 때 tree[idx*2 +1]에 값 0 채워넣기\n",
    "    if len(tree) % 2 == 1:\n",
    "        tree += [0]\n",
    "        CBT(len(tree)-2)\n",
    "    else: CBT(len(tree)-1)\n",
    "    result = tree[L]\n",
    "    print(f\"#{i} {result}\")"
   ]
  }
 ],
 "metadata": {
  "interpreter": {
   "hash": "b0fa6594d8f4cbf19f97940f81e996739fb7646882a419484c72d19e05852a7e"
  },
  "kernelspec": {
   "display_name": "Python 3.9.13 64-bit",
   "language": "python",
   "name": "python3"
  },
  "language_info": {
   "codemirror_mode": {
    "name": "ipython",
    "version": 3
   },
   "file_extension": ".py",
   "mimetype": "text/x-python",
   "name": "python",
   "nbconvert_exporter": "python",
   "pygments_lexer": "ipython3",
   "version": "3.9.13"
  },
  "orig_nbformat": 4
 },
 "nbformat": 4,
 "nbformat_minor": 2
}
