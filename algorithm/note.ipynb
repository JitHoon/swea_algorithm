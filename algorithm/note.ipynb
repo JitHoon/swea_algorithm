{
 "cells": [
  {
   "cell_type": "markdown",
   "metadata": {},
   "source": [
    "### 미완 문제 `3`\n",
    "### 개념 notes `2`"
   ]
  },
  {
   "cell_type": "code",
   "execution_count": 7,
   "metadata": {},
   "outputs": [
    {
     "name": "stdout",
     "output_type": "stream",
     "text": [
      "13\n"
     ]
    }
   ],
   "source": [
    "# 개념 note 1\n",
    "# memoization\n",
    "\n",
    "memo = [0,1]\n",
    "\n",
    "def fibo_memoi(n):\n",
    "    global memo\n",
    "    if n>=2 and len(memo) <= n:\n",
    "        memo.append(fibo_memoi(n-1) + fibo_memoi(n-2))\n",
    "    return memo[n]\n",
    "\n",
    "print(fibo_memoi(7))"
   ]
  },
  {
   "cell_type": "code",
   "execution_count": 6,
   "metadata": {},
   "outputs": [
    {
     "name": "stdout",
     "output_type": "stream",
     "text": [
      "[1, 2, 3, 3, 4]\n"
     ]
    }
   ],
   "source": [
    "# 개념 note 2\n",
    "# 워하는 리스트 인덱스 자리에 리스트 끼워넣기\n",
    "\n",
    "data = [1, 3, 4]\n",
    "data[1:1]=[2,3]\n",
    "print(data)"
   ]
  },
  {
   "cell_type": "code",
   "execution_count": null,
   "metadata": {},
   "outputs": [],
   "source": [
    "# 미완문제 1\n",
    "# 3일차 string 4861 회문 slicing\n",
    "\n",
    "for A in range(int(input())):\n",
    "    # N*N의 글자판, 길이가 M인 회전문, N*N의 글자판 data에 저장, 회전문 확인 리스트 check\n",
    "    N, M = map(int, input().split())\n",
    "    data = [list(input()) for n in range(N)]\n",
    "    check = []\n",
    "\n",
    "    # 가로 check\n",
    "    # N>M 일 때 열 번호 (N-M) ~ N+1 까지의 문자열도 비교\n",
    "    # 20>13 일 때 열 번호 7~19 까지의 문자열도 비교\n",
    "    for i in range((N-M)+1):\n",
    "        for row in range(M):\n",
    "            for col in range(M):\n",
    "                # 행을 고정하고 열을 이동하면서 각 문자를 리스트에 저장\n",
    "                check.append(data[row][col+i])\n",
    "            # 회전문 확인 조건문\n",
    "            if check == check[::-1]:\n",
    "                print(\"#{0} {1}\".format(A+1, ''.join(check)))\n",
    "                check = []\n",
    "            else:\n",
    "                check = []\n",
    "    \n",
    "    # 세로 check\n",
    "    # N>M 일 때 행 번호 (N-M) ~ N-1 까지의 문자열도 비교\n",
    "    # 20>13 일 때 행 번호 7~19 까지의 문자열도 비교\n",
    "    for i in range((N-M)+1):\n",
    "        for col in range(M):\n",
    "            for row in range(M):\n",
    "                # 열을 고정하고 행을 이동하면서 각 문자를 리스트에 저장\n",
    "                check.append(data[row+i][col])\n",
    "            # 회전문 확인 조건문\n",
    "            if check == check[::-1]:\n",
    "                print(\"#{0} {1}\".format(A+1, ''.join(check)))\n",
    "                check = []\n",
    "            else:\n",
    "                check = []"
   ]
  },
  {
   "cell_type": "code",
   "execution_count": 16,
   "metadata": {},
   "outputs": [
    {
     "name": "stdout",
     "output_type": "stream",
     "text": [
      "#1 0\n"
     ]
    }
   ],
   "source": [
    "# 미완문제 2\n",
    "# 4일차 stack1 4871 그래프 경로 DFS\n",
    "# 9솔\n",
    "\n",
    "# 3\n",
    "# 6 5 | 1 4, 1 3, 2 3, 2 5, 4 6 | 1 6\n",
    "# 7 4 | 1 6, 2 3, 2 6, 3 5 | 2 5\n",
    "# 9 9 | 2 6, 4 7, 5 7, 1 5, 2 9, 3 9, 4 8, 5 3, 7 8 | 1 9\n",
    "\n",
    "# DFS\n",
    "#  \"앞으로 찾아 가야할 노드\"와 \"이미 방문한 노드\"를 기준으로 데이터 탐색\n",
    "\n",
    "for A in range(int(input())):\n",
    "    # 노드수, 간선수\n",
    "    V, E = map(int, input().split())\n",
    "    # 그래프\n",
    "    data = [list(map(int, input().split())) for i in range(E)]\n",
    "    # 시작 노드, 끝 노드\n",
    "    start, end = map(int, input().split())\n",
    "    # 방문중인 노드, 방문한 노드 순서\n",
    "    stack, visited = list(), list()\n",
    "    result = 0\n",
    "\n",
    "    # 시작 노드를 첫 방문중인 노드로 시작\n",
    "    stack.append(start)\n",
    "\n",
    "    for _ in range(E):\n",
    "        for i in range(E):\n",
    "            if stack[-1] == data[i][0] and stack[-1] not in visited:\n",
    "                if data[i][1] == end:\n",
    "                    result = 1\n",
    "                else:\n",
    "                    stack.append(data[i][1])\n",
    "                    visited.append(data[i][0])\n",
    "            else:\n",
    "                continue\n",
    "    \n",
    "    print(\"#{0} {1}\".format(A+1, result))"
   ]
  },
  {
   "cell_type": "code",
   "execution_count": 75,
   "metadata": {},
   "outputs": [
    {
     "name": "stdout",
     "output_type": "stream",
     "text": [
      "[10]\n",
      "[10, 2]\n",
      "[12]\n",
      "[12, 3]\n",
      "[12, 3, 4]\n",
      "[12, 7]\n",
      "[84]\n",
      "#1 84\n"
     ]
    }
   ],
   "source": [
    "# 미완문제 3\n",
    "# 5일차 stack1 4874 Forth 기본 stack\n",
    "# 7솔\n",
    "\n",
    "def cal(l, operator, r):\n",
    "    if operator == '+':\n",
    "        return l + r\n",
    "    elif operator == '-':\n",
    "        return l - r\n",
    "    elif operator == '*':\n",
    "        return l * r\n",
    "    elif operator == '/':\n",
    "        return l / r\n",
    "\n",
    "for A in range(int(input())):\n",
    "    data = list(map(str, input().split(\" \")))\n",
    "    stack = []\n",
    "    result = 'error'\n",
    "\n",
    "    for i in range(len(data)):\n",
    "        if data[i].isdigit():\n",
    "            stack.append(int(data[i]))\n",
    "        elif data[i] == '.':\n",
    "            if len(stack) == 1:\n",
    "                result = stack[0]\n",
    "            else:\n",
    "                break\n",
    "        else:\n",
    "            if len(stack) <= 1:\n",
    "                break\n",
    "            else:\n",
    "                num_right = int(stack.pop())\n",
    "                num_left = int(stack.pop())\n",
    "                if str(num_right).isalpha() or str(num_left).isalpha():\n",
    "                    break\n",
    "                else:\n",
    "                    stack.append(cal(num_left, data[i], num_right))\n",
    "            \n",
    "    print(\"#{0} {1}\".format(A+1, result))  "
   ]
  }
 ],
 "metadata": {
  "interpreter": {
   "hash": "b0fa6594d8f4cbf19f97940f81e996739fb7646882a419484c72d19e05852a7e"
  },
  "kernelspec": {
   "display_name": "Python 3.9.13 64-bit",
   "language": "python",
   "name": "python3"
  },
  "language_info": {
   "codemirror_mode": {
    "name": "ipython",
    "version": 3
   },
   "file_extension": ".py",
   "mimetype": "text/x-python",
   "name": "python",
   "nbconvert_exporter": "python",
   "pygments_lexer": "ipython3",
   "version": "3.9.13"
  },
  "orig_nbformat": 4
 },
 "nbformat": 4,
 "nbformat_minor": 2
}
