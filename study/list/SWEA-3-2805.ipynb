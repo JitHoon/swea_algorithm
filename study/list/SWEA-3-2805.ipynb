{
 "cells": [
  {
   "cell_type": "markdown",
   "metadata": {},
   "source": [
    "https://swexpertacademy.com/main/code/problem/problemSubmitHistory.do?contestProbId=AV7GLXqKAWYDFAXB"
   ]
  },
  {
   "cell_type": "code",
   "execution_count": null,
   "metadata": {},
   "outputs": [],
   "source": [
    "# list slice\n",
    "t=int(input())\n",
    "for t in range(1, t+1):\n",
    "    N=int(input());V=[];R=0;\n",
    "    for _ in range(N):\n",
    "        row=[]\n",
    "        for r in input():\n",
    "            row.append(int(r))\n",
    "        V.append(row)\n",
    "    for up in range(N//2):\n",
    "        R+=sum(V[up][N//2-up:N//2+up+1])\n",
    "    R+=sum(V[N//2])\n",
    "    for down in range(N//2):\n",
    "        R+=sum(V[N-1-down][N//2-down:N//2+down+1])\n",
    "    print(f'#{t} {R}')"
   ]
  }
 ],
 "metadata": {
  "language_info": {
   "name": "python"
  },
  "orig_nbformat": 4
 },
 "nbformat": 4,
 "nbformat_minor": 2
}
