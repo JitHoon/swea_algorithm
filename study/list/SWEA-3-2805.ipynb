{
 "cells": [
  {
   "cell_type": "markdown",
   "metadata": {},
   "source": [
    "https://swexpertacademy.com/main/code/problem/problemSubmitHistory.do?contestProbId=AV7GLXqKAWYDFAXB"
   ]
  },
  {
   "cell_type": "code",
   "execution_count": null,
   "metadata": {},
   "outputs": [],
   "source": [
    "# list slice\n",
    "t=int(input())\n",
    "for t in range(1, t+1):\n",
    "    N=int(input());V=[];R=0;\n",
    "    for _ in range(N):\n",
    "        row=[]\n",
    "        for r in input():\n",
    "            row.append(int(r))\n",
    "        V.append(row)\n",
    "    for up in range(N//2):\n",
    "        R+=sum(V[up][N//2-up:N//2+up+1])\n",
    "    R+=sum(V[N//2])\n",
    "    for down in range(N//2):\n",
    "        R+=sum(V[N-1-down][N//2-down:N//2+down+1])\n",
    "    print(f'#{t} {R}')"
   ]
  },
  {
   "cell_type": "code",
   "execution_count": null,
   "metadata": {},
   "outputs": [],
   "source": [
    "# 로건님 풀이\n",
    "# list slice\n",
    "# data[s:-s] + abs(숫자) (절댓값) 방법으로 한번의 for문만 사용\n",
    "\n",
    "t = int(input())\n",
    "for test in range(1, t+1):\n",
    "    n = int(input())\n",
    "    answer = 0\n",
    "    s = n // 2\n",
    "    for row in range(n):\n",
    "        data = list(map(int, input()))\n",
    "        if s == 0:\n",
    "            answer += sum(data)\n",
    "        else:\n",
    "            answer += sum(data[abs(s):-abs(s)])\n",
    "        s -= 1\n",
    "    print(f\"#{test} {answer}\")"
   ]
  },
  {
   "cell_type": "code",
   "execution_count": 1,
   "metadata": {},
   "outputs": [
    {
     "name": "stdout",
     "output_type": "stream",
     "text": [
      "[1]\n",
      "[2, 1, 2]\n",
      "[3, 2, 1, 2, 3]\n",
      "[]\n",
      "[]\n",
      "[]\n"
     ]
    }
   ],
   "source": [
    "data = [4,3,2,1,2,3,4]\n",
    "print(data[3:-3])\n",
    "print(data[2:-2])\n",
    "print(data[1:-1])\n",
    "print(data[-1:1])\n",
    "print(data[-2:2])\n",
    "print(data[-3:3])"
   ]
  }
 ],
 "metadata": {
  "interpreter": {
   "hash": "b0fa6594d8f4cbf19f97940f81e996739fb7646882a419484c72d19e05852a7e"
  },
  "kernelspec": {
   "display_name": "Python 3.9.13 64-bit",
   "language": "python",
   "name": "python3"
  },
  "language_info": {
   "codemirror_mode": {
    "name": "ipython",
    "version": 3
   },
   "file_extension": ".py",
   "mimetype": "text/x-python",
   "name": "python",
   "nbconvert_exporter": "python",
   "pygments_lexer": "ipython3",
   "version": "3.9.13"
  },
  "orig_nbformat": 4
 },
 "nbformat": 4,
 "nbformat_minor": 2
}
