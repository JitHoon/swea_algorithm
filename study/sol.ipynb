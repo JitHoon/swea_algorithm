{
 "cells": [
  {
   "cell_type": "markdown",
   "metadata": {},
   "source": [
    "### 백준_2304_창고다각형\n",
    "- https://www.acmicpc.net/problem/2304"
   ]
  },
  {
   "cell_type": "code",
   "execution_count": 12,
   "metadata": {},
   "outputs": [
    {
     "ename": "ValueError",
     "evalue": "invalid literal for int() with base 10: ''",
     "output_type": "error",
     "traceback": [
      "\u001b[0;31m---------------------------------------------------------------------------\u001b[0m",
      "\u001b[0;31mValueError\u001b[0m                                Traceback (most recent call last)",
      "Cell \u001b[0;32mIn[12], line 1\u001b[0m\n\u001b[0;32m----> 1\u001b[0m N\u001b[38;5;241m=\u001b[39m\u001b[38;5;28;43mint\u001b[39;49m\u001b[43m(\u001b[49m\u001b[38;5;28;43minput\u001b[39;49m\u001b[43m(\u001b[49m\u001b[43m)\u001b[49m\u001b[43m)\u001b[49m\n\u001b[1;32m      2\u001b[0m \u001b[38;5;28mprint\u001b[39m(N)\n\u001b[1;32m      3\u001b[0m D\u001b[38;5;241m=\u001b[39m[\u001b[38;5;28mlist\u001b[39m(\u001b[38;5;28mmap\u001b[39m(\u001b[38;5;28mint\u001b[39m, \u001b[38;5;28minput\u001b[39m()\u001b[38;5;241m.\u001b[39msplit())) \u001b[38;5;28;01mfor\u001b[39;00m _ \u001b[38;5;129;01min\u001b[39;00m \u001b[38;5;28mrange\u001b[39m(N)]\n",
      "\u001b[0;31mValueError\u001b[0m: invalid literal for int() with base 10: ''"
     ]
    }
   ],
   "source": [
    "N=int(input())\n",
    "print(N)\n",
    "D=[list(map(int, input().split())) for _ in range(N)]\n",
    "print(D)\n",
    "L, H=[], []\n",
    "D.sort()\n",
    "print(D)\n",
    "for value in D:\n",
    "    L.append(value[0])\n",
    "    H.append(value[1])\n",
    "print(L,H)\n",
    "result=0\n",
    "\n",
    "D_front=D[:H.index(max(H))+1]\n",
    "print(D_front)\n",
    "L_now=D_front[0][0]\n",
    "H_now=D_front[0][1]\n",
    "print(L_now, H_now)\n",
    "for idx, value in enumerate(D_front):\n",
    "    if idx==len(D_front)-1:\n",
    "        break\n",
    "    else:\n",
    "        if H_now < D[idx+1][1]:\n",
    "            result += H_now*(D[idx+1][0]-L_now)\n",
    "            L_now, H_now=D[idx+1][0], D[idx+1][1]\n",
    "\n",
    "result+=max(H)\n",
    "\n",
    "D_back=D[H.index(max(H)):]\n",
    "D_back=D_back[::-1]\n",
    "print(D_back)\n",
    "L_now=D_back[0][0]\n",
    "H_now=D_back[0][1]\n",
    "print(L_now, H_now)\n",
    "for idx, value in enumerate(D_back):\n",
    "    if idx==len(D_back)-1:\n",
    "        break\n",
    "    else:\n",
    "        if H_now < D[idx+1][1]:\n",
    "            result += H_now*(L_now-D[idx+1][0])\n",
    "            L_now, H_now=D[idx+1][0], D[idx+1][1]\n",
    "print(result)"
   ]
  },
  {
   "cell_type": "code",
   "execution_count": 2,
   "metadata": {},
   "outputs": [
    {
     "name": "stdout",
     "output_type": "stream",
     "text": [
      "4\n",
      "[[2, 4], [4, 6], [5, 3], [8, 10]]\n",
      "[[2, 4], [4, 6], [5, 3], [8, 10]]\n",
      "[2, 4, 5, 8] [4, 6, 3, 10]\n",
      "[[2, 4], [4, 6], [5, 3], [8, 10]]\n",
      "2 4\n",
      "[[8, 10]]\n",
      "8 10\n",
      "42\n"
     ]
    }
   ],
   "source": [
    "N=int(input())\n",
    "print(N)\n",
    "D=[list(map(int, input().split())) for _ in range(N)]\n",
    "print(D)\n",
    "L, H=[], []\n",
    "D.sort()\n",
    "print(D)\n",
    "for value in D:\n",
    "    L.append(value[0])\n",
    "    H.append(value[1])\n",
    "print(L,H)\n",
    "result=0\n",
    "\n",
    "D_front=D[:H.index(max(H))+1]\n",
    "print(D_front)\n",
    "L_now=D_front[0][0]\n",
    "H_now=D_front[0][1]\n",
    "print(L_now, H_now)\n",
    "for idx, value in enumerate(D_front):\n",
    "    if idx==len(D_front)-1:\n",
    "        break\n",
    "    else:\n",
    "        if H_now < D[idx+1][1]:\n",
    "            result += H_now*(D[idx+1][0]-L_now)\n",
    "            L_now, H_now=D[idx+1][0], D[idx+1][1]\n",
    "\n",
    "result+=max(H)\n",
    "\n",
    "D_back=D[H.index(max(H)):]\n",
    "D_back=D_back[::-1]\n",
    "print(D_back)\n",
    "L_now=D_back[0][0]\n",
    "H_now=D_back[0][1]\n",
    "print(L_now, H_now)\n",
    "for idx, value in enumerate(D_back):\n",
    "    if idx==len(D_back)-1:\n",
    "        break\n",
    "    else:\n",
    "        if H_now < D[idx+1][1]:\n",
    "            result += H_now*(L_now-D[idx+1][0])\n",
    "            L_now, H_now=D[idx+1][0], D[idx+1][1]\n",
    "print(result)"
   ]
  },
  {
   "cell_type": "code",
   "execution_count": 6,
   "metadata": {},
   "outputs": [
    {
     "name": "stdout",
     "output_type": "stream",
     "text": [
      "98\n"
     ]
    }
   ],
   "source": [
    "import sys\n",
    "input = sys.stdin.readline\n",
    "\n",
    "maxH = 1\n",
    "maxL = 0\n",
    "n = int(input())\n",
    "pillar = []\n",
    "#  가장 큰 높이값, 그 높이값의 index, 가장 긴 L 찾기\n",
    "for i in range(n):\n",
    "    L, H = map(int, input().strip().split())\n",
    "    pillar.append([L, H])\n",
    "    if maxL < L:\n",
    "        maxL = L\n",
    "    if maxH < H:\n",
    "        maxH = H\n",
    "        maxIndex = L\n",
    "\n",
    "\n",
    "pillarList = [0] * (maxL + 1)\n",
    "for l, h in pillar:\n",
    "    pillarList[l] = h\n",
    "\n",
    "total = 0\n",
    "temp = 0\n",
    "for i in range(maxIndex + 1):\n",
    "    if pillarList[i] > temp:\n",
    "        temp = pillarList[i]\n",
    "    total += temp\n",
    "temp = 0\n",
    "for i in range(maxL, maxIndex, -1):\n",
    "    if pillarList[i] > temp:\n",
    "        temp = pillarList[i]\n",
    "    total += temp\n",
    "print(total)"
   ]
  }
 ],
 "metadata": {
  "interpreter": {
   "hash": "b0fa6594d8f4cbf19f97940f81e996739fb7646882a419484c72d19e05852a7e"
  },
  "kernelspec": {
   "display_name": "Python 3.9.13 64-bit",
   "language": "python",
   "name": "python3"
  },
  "language_info": {
   "codemirror_mode": {
    "name": "ipython",
    "version": 3
   },
   "file_extension": ".py",
   "mimetype": "text/x-python",
   "name": "python",
   "nbconvert_exporter": "python",
   "pygments_lexer": "ipython3",
   "version": "3.9.13"
  },
  "orig_nbformat": 4
 },
 "nbformat": 4,
 "nbformat_minor": 2
}
